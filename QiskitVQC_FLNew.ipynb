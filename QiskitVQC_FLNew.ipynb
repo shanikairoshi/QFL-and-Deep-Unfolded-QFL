{
  "cells": [
    {
      "cell_type": "markdown",
      "metadata": {
        "id": "view-in-github",
        "colab_type": "text"
      },
      "source": [
        "<a href=\"https://colab.research.google.com/github/shanikairoshi/QFL-with-DUN/blob/main/QiskitVQC_FLNew.ipynb\" target=\"_parent\"><img src=\"https://colab.research.google.com/assets/colab-badge.svg\" alt=\"Open In Colab\"/></a>"
      ]
    },
    {
      "cell_type": "code",
      "execution_count": 1,
      "metadata": {
        "id": "WNVBY7zGqDe9"
      },
      "outputs": [],
      "source": [
        "!pip install qiskit\n",
        "!pip install qiskit_machine_learning\n",
        "# installing TensorFLow Version 2.3.1\n",
        "from IPython.display import clear_output\n",
        "\n",
        "clear_output()"
      ]
    },
    {
      "cell_type": "code",
      "execution_count": 2,
      "metadata": {
        "colab": {
          "base_uri": "https://localhost:8080/",
          "height": 448
        },
        "id": "LQPn06D0qX3u",
        "outputId": "fec0c781-ec40-40d2-ee62-faada3806aaf"
      },
      "outputs": [
        {
          "output_type": "execute_result",
          "data": {
            "text/plain": [
              "        ┌───┐┌─────────────┐                                          ┌───┐»\n",
              "   q_0: ┤ H ├┤ P(2.0*x[0]) ├──■────────────────────────────────────■──┤ H ├»\n",
              "        ├───┤├─────────────┤┌─┴─┐┌──────────────────────────────┐┌─┴─┐├───┤»\n",
              "   q_1: ┤ H ├┤ P(2.0*x[1]) ├┤ X ├┤ P(2.0*(π - x[0])*(π - x[1])) ├┤ X ├┤ H ├»\n",
              "        └───┘└─────────────┘└───┘└──────────────────────────────┘└───┘└───┘»\n",
              "meas: 2/═══════════════════════════════════════════════════════════════════»\n",
              "                                                                           »\n",
              "«        ┌─────────────┐                                          ┌──────────┐»\n",
              "«   q_0: ┤ P(2.0*x[0]) ├──■────────────────────────────────────■──┤ Ry(θ[0]) ├»\n",
              "«        ├─────────────┤┌─┴─┐┌──────────────────────────────┐┌─┴─┐├──────────┤»\n",
              "«   q_1: ┤ P(2.0*x[1]) ├┤ X ├┤ P(2.0*(π - x[0])*(π - x[1])) ├┤ X ├┤ Ry(θ[1]) ├»\n",
              "«        └─────────────┘└───┘└──────────────────────────────┘└───┘└──────────┘»\n",
              "«meas: 2/═════════════════════════════════════════════════════════════════════»\n",
              "«                                                                             »\n",
              "«        ┌──────────┐   ┌──────────┐┌──────────┐   ┌──────────┐┌───────────┐ ░ »\n",
              "«   q_0: ┤ Rz(θ[2]) ├─■─┤ Ry(θ[4]) ├┤ Rz(θ[6]) ├─■─┤ Ry(θ[8]) ├┤ Rz(θ[10]) ├─░─»\n",
              "«        ├──────────┤ │ ├──────────┤├──────────┤ │ ├──────────┤├───────────┤ ░ »\n",
              "«   q_1: ┤ Rz(θ[3]) ├─■─┤ Ry(θ[5]) ├┤ Rz(θ[7]) ├─■─┤ Ry(θ[9]) ├┤ Rz(θ[11]) ├─░─»\n",
              "«        └──────────┘   └──────────┘└──────────┘   └──────────┘└───────────┘ ░ »\n",
              "«meas: 2/══════════════════════════════════════════════════════════════════════»\n",
              "«                                                                              »\n",
              "«        ┌─┐   \n",
              "«   q_0: ┤M├───\n",
              "«        └╥┘┌─┐\n",
              "«   q_1: ─╫─┤M├\n",
              "«         ║ └╥┘\n",
              "«meas: 2/═╩══╩═\n",
              "«         0  1 "
            ],
            "text/html": [
              "<pre style=\"word-wrap: normal;white-space: pre;background: #fff0;line-height: 1.1;font-family: &quot;Courier New&quot;,Courier,monospace\">        ┌───┐┌─────────────┐                                          ┌───┐»\n",
              "   q_0: ┤ H ├┤ P(2.0*x[0]) ├──■────────────────────────────────────■──┤ H ├»\n",
              "        ├───┤├─────────────┤┌─┴─┐┌──────────────────────────────┐┌─┴─┐├───┤»\n",
              "   q_1: ┤ H ├┤ P(2.0*x[1]) ├┤ X ├┤ P(2.0*(π - x[0])*(π - x[1])) ├┤ X ├┤ H ├»\n",
              "        └───┘└─────────────┘└───┘└──────────────────────────────┘└───┘└───┘»\n",
              "meas: 2/═══════════════════════════════════════════════════════════════════»\n",
              "                                                                           »\n",
              "«        ┌─────────────┐                                          ┌──────────┐»\n",
              "«   q_0: ┤ P(2.0*x[0]) ├──■────────────────────────────────────■──┤ Ry(θ[0]) ├»\n",
              "«        ├─────────────┤┌─┴─┐┌──────────────────────────────┐┌─┴─┐├──────────┤»\n",
              "«   q_1: ┤ P(2.0*x[1]) ├┤ X ├┤ P(2.0*(π - x[0])*(π - x[1])) ├┤ X ├┤ Ry(θ[1]) ├»\n",
              "«        └─────────────┘└───┘└──────────────────────────────┘└───┘└──────────┘»\n",
              "«meas: 2/═════════════════════════════════════════════════════════════════════»\n",
              "«                                                                             »\n",
              "«        ┌──────────┐   ┌──────────┐┌──────────┐   ┌──────────┐┌───────────┐ ░ »\n",
              "«   q_0: ┤ Rz(θ[2]) ├─■─┤ Ry(θ[4]) ├┤ Rz(θ[6]) ├─■─┤ Ry(θ[8]) ├┤ Rz(θ[10]) ├─░─»\n",
              "«        ├──────────┤ │ ├──────────┤├──────────┤ │ ├──────────┤├───────────┤ ░ »\n",
              "«   q_1: ┤ Rz(θ[3]) ├─■─┤ Ry(θ[5]) ├┤ Rz(θ[7]) ├─■─┤ Ry(θ[9]) ├┤ Rz(θ[11]) ├─░─»\n",
              "«        └──────────┘   └──────────┘└──────────┘   └──────────┘└───────────┘ ░ »\n",
              "«meas: 2/══════════════════════════════════════════════════════════════════════»\n",
              "«                                                                              »\n",
              "«        ┌─┐   \n",
              "«   q_0: ┤M├───\n",
              "«        └╥┘┌─┐\n",
              "«   q_1: ─╫─┤M├\n",
              "«         ║ └╥┘\n",
              "«meas: 2/═╩══╩═\n",
              "«         0  1 </pre>"
            ]
          },
          "metadata": {},
          "execution_count": 2
        }
      ],
      "source": [
        "#Split data among clients\n",
        "from qiskit.utils import algorithm_globals\n",
        "algorithm_globals.random_seed = 3142\n",
        "\n",
        "import numpy as np\n",
        "np.random.seed(algorithm_globals.random_seed)\n",
        "\n",
        "from qiskit.utils import algorithm_globals\n",
        "import numpy as np\n",
        "from qiskit.circuit.library import ZZFeatureMap, TwoLocal\n",
        "from qiskit_machine_learning.datasets import ad_hoc_data\n",
        "from qiskit_machine_learning.algorithms.classifiers import VQC\n",
        "#from qiskit_machine_learning.optimizers import SPSA\n",
        "from qiskit import BasicAer\n",
        "from qiskit import BasicAer, execute\n",
        "from qiskit.algorithms.optimizers import SPSA\n",
        "\n",
        "#from DUNWeightingFramework import *\n",
        "#This is to get client weights which get by classical learning - preprocess.\n",
        "\n",
        "# Set random seed\n",
        "algorithm_globals.random_seed = 3142\n",
        "np.random.seed(algorithm_globals.random_seed)\n",
        "\n",
        "# Define the feature map and variational form\n",
        "FEATURE_MAP = ZZFeatureMap(feature_dimension=2, reps=2)\n",
        "VAR_FORM = TwoLocal(2, ['ry', 'rz'], 'cz', reps=2)\n",
        "\n",
        "# Combine feature map and variational form to create the circuit\n",
        "AD_HOC_CIRCUIT = FEATURE_MAP.compose(VAR_FORM)\n",
        "AD_HOC_CIRCUIT.measure_all()\n",
        "AD_HOC_CIRCUIT.decompose().draw()\n"
      ]
    },
    {
      "cell_type": "code",
      "execution_count": 6,
      "metadata": {
        "id": "juuiZ3dhyV0N"
      },
      "outputs": [],
      "source": [
        "def circuit_instance(data, variational):\n",
        "    \"\"\"Assigns parameter values to `AD_HOC_CIRCUIT`.\n",
        "    Args:\n",
        "        data (list): Data values for the feature map\n",
        "        variational (list): Parameter values for `VAR_FORM`\n",
        "    Returns:\n",
        "        QuantumCircuit: `AD_HOC_CIRCUIT` with parameters assigned\n",
        "    \"\"\"\n",
        "    parameters = {}\n",
        "    for i, p in enumerate(FEATURE_MAP.ordered_parameters):\n",
        "        parameters[p] = data[i]\n",
        "    for i, p in enumerate(VAR_FORM.ordered_parameters):\n",
        "        parameters[p] = variational[i]\n",
        "    return AD_HOC_CIRCUIT.assign_parameters(parameters)\n",
        "\n",
        "\n",
        "def parity(bitstring):\n",
        "    \"\"\"Returns 1 if parity of `bitstring` is even, otherwise 0.\"\"\"\n",
        "    hamming_weight = sum(int(k) for k in list(bitstring))\n",
        "    return (hamming_weight+1) % 2"
      ]
    },
    {
      "cell_type": "code",
      "execution_count": 7,
      "metadata": {
        "id": "H1AP9TljstbX"
      },
      "outputs": [],
      "source": [
        "def label_probability(results):\n",
        "    \"\"\"Converts a dict of bitstrings and their counts,\n",
        "    to parities and their counts\"\"\"\n",
        "    shots = sum(results.values())\n",
        "    probabilities = {0: 0, 1: 0}\n",
        "    for bitstring, counts in results.items():\n",
        "        label = parity(bitstring)\n",
        "        probabilities[label] += counts / shots\n",
        "    return probabilities"
      ]
    },
    {
      "cell_type": "code",
      "execution_count": 8,
      "metadata": {
        "id": "UKT3syoexEOd"
      },
      "outputs": [],
      "source": [
        "def classification_probability(data, variational):\n",
        "    \"\"\"Classify data points using given parameters.\n",
        "    Args:\n",
        "        data (list): Set of data points to classify\n",
        "        variational (list): Parameters for `VAR_FORM`\n",
        "    Returns:\n",
        "        list[dict]: Probability of circuit classifying\n",
        "                    each data point as 0 or 1.\n",
        "    \"\"\"\n",
        "    circuits = [circuit_instance(d, variational) for d in data]\n",
        "    backend = BasicAer.get_backend('qasm_simulator')\n",
        "    results = execute(circuits, backend).result()\n",
        "    classification = [\n",
        "        label_probability(results.get_counts(c)) for c in circuits]\n",
        "    return classification"
      ]
    },
    {
      "cell_type": "code",
      "execution_count": 9,
      "metadata": {
        "id": "KJ_1H54HwtIm"
      },
      "outputs": [],
      "source": [
        "def cross_entropy_loss(classification, expected):\n",
        "    \"\"\"Calculate accuracy of predictions using cross entropy loss.\n",
        "    Args:\n",
        "        classification (dict): Dict where keys are possible classes,\n",
        "                               and values are the probability our\n",
        "                               circuit chooses that class.\n",
        "        expected (int): Correct classification of the data point.\n",
        "\n",
        "    Returns:\n",
        "        float: Cross entropy loss\n",
        "    \"\"\"\n",
        "    p = classification.get(expected)  # Prob. of correct classification\n",
        "    return -np.log(p + 1e-10)"
      ]
    },
    {
      "cell_type": "code",
      "execution_count": 10,
      "metadata": {
        "id": "8CTjHNRYwxRf"
      },
      "outputs": [],
      "source": [
        "def cost_function(data, labels, variational):\n",
        "    \"\"\"Evaluates performance of our circuit with `variational`\n",
        "    parameters on `data`.\n",
        "\n",
        "    Args:\n",
        "        data (list): List of data points to classify\n",
        "        labels (list): List of correct labels for each data point\n",
        "        variational (list): Parameters to use in circuit\n",
        "\n",
        "    Returns:\n",
        "        float: Cost (metric of performance)\n",
        "    \"\"\"\n",
        "    classifications = classification_probability(data, variational)\n",
        "    cost = 0\n",
        "    for i, classification in enumerate(classifications):\n",
        "        cost += cross_entropy_loss(classification, labels[i])\n",
        "    cost /= len(data)\n",
        "    return cost"
      ]
    },
    {
      "cell_type": "code",
      "execution_count": 11,
      "metadata": {
        "id": "aH7jtwv8w2Nl"
      },
      "outputs": [],
      "source": [
        "class OptimizerLog:\n",
        "    \"\"\"Log to store optimizer's intermediate results\"\"\"\n",
        "    def __init__(self):\n",
        "        self.evaluations = []\n",
        "        self.parameters = []\n",
        "        self.costs = []\n",
        "    def update(self, evaluation, parameter, cost, _stepsize, _accept):\n",
        "        \"\"\"Save intermediate results. Optimizer passes five values\n",
        "        but we ignore the last two.\"\"\"\n",
        "        self.evaluations.append(evaluation)\n",
        "        self.parameters.append(parameter)\n",
        "        self.costs.append(cost)"
      ]
    },
    {
      "cell_type": "code",
      "execution_count": 12,
      "metadata": {
        "id": "kFWQmRphxdJa"
      },
      "outputs": [],
      "source": [
        "# Set up the optimization\n",
        "\n",
        "log = OptimizerLog()\n",
        "optimizer = SPSA(maxiter=100, callback=log.update)"
      ]
    },
    {
      "cell_type": "code",
      "execution_count": 13,
      "metadata": {
        "id": "GVnnRQBTvwjS"
      },
      "outputs": [],
      "source": [
        "initial_point = np.random.random(VAR_FORM.num_parameters)\n",
        "#initial_point = np.array([0.3200227 , 0.6503638 , 0.55995053,\n",
        "                          #0.96566328, 0.38243769, 0.90403094,\n",
        "                          #0.82271449, 0.26810137, 0.61076489,\n",
        "                          #0.82301609, 0.11789148, 0.29667125])"
      ]
    },
    {
      "cell_type": "code",
      "execution_count": 14,
      "metadata": {
        "colab": {
          "base_uri": "https://localhost:8080/"
        },
        "id": "Qn3yWT8-y4Dk",
        "outputId": "6a912e57-f95d-4317-e9b5-3c83c1742878"
      },
      "outputs": [
        {
          "output_type": "execute_result",
          "data": {
            "text/plain": [
              "12"
            ]
          },
          "metadata": {},
          "execution_count": 14
        }
      ],
      "source": [
        "VAR_FORM.num_parameters"
      ]
    },
    {
      "cell_type": "code",
      "execution_count": 12,
      "metadata": {
        "colab": {
          "base_uri": "https://localhost:8080/"
        },
        "id": "14nFTRkF3TnA",
        "outputId": "1db98ecc-b2c4-4c61-d8a6-681e75908c6c"
      },
      "outputs": [
        {
          "output_type": "stream",
          "name": "stdout",
          "text": [
            "[0.68281176 0.53329356 0.30705829 0.36434382 0.84776268 0.62783059\n",
            " 0.09287432 0.43074988 0.6732609  0.39772681 0.45872596 0.59476781]\n"
          ]
        }
      ],
      "source": [
        "print(initial_point)"
      ]
    },
    {
      "cell_type": "code",
      "execution_count": 15,
      "metadata": {
        "id": "YkY4-5NFsrTB"
      },
      "outputs": [],
      "source": [
        "# Generate ad hoc data for each client\n",
        "from sklearn.preprocessing import OneHotEncoder\n",
        "\n",
        "def generate_client_data(client_id):\n",
        "    TRAIN_DATA, TRAIN_LABELS, TEST_DATA, TEST_LABELS = (\n",
        "        ad_hoc_data(training_size=20, test_size=5, n=2, gap=0.3, one_hot=False)\n",
        "    )\n",
        "    encoder = OneHotEncoder()\n",
        "    train_labels_oh = encoder.fit_transform(TRAIN_LABELS.reshape(-1, 1)).toarray()\n",
        "    test_labels_oh = encoder.fit_transform(TEST_LABELS.reshape(-1, 1)).toarray()\n",
        "\n",
        "    return TRAIN_DATA, train_labels_oh, TEST_DATA, test_labels_oh\n",
        "\n",
        "# Create a list of client data\n",
        "client_data = [generate_client_data(client_id) for client_id in range(5)]\n"
      ]
    },
    {
      "cell_type": "code",
      "execution_count": 14,
      "metadata": {
        "colab": {
          "base_uri": "https://localhost:8080/",
          "height": 104
        },
        "id": "BHrX_IAhtP6E",
        "outputId": "2eac0513-19bf-47f9-fb7b-7f1741a22dbd"
      },
      "outputs": [
        {
          "output_type": "execute_result",
          "data": {
            "text/plain": [
              "\"\\nfrom qiskit_machine_learning.algorithms.classifiers import VQC\\nlog = OptimizerLog()\\nvqc = VQC(feature_map=FEATURE_MAP,\\n          ansatz=VAR_FORM,\\n          loss='cross_entropy',\\n          optimizer=SPSA(callback=log.update),\\n          initial_point=initial_point,\\n          quantum_instance=BasicAer.get_backend('qasm_simulator'))\\n\\nvqc.fit(TRAIN_DATA, train_labels_oh)\\n\\nfig = plt.figure()\\nplt.plot(log.evaluations, log.costs)\\nplt.xlabel('Steps')\\nplt.ylabel('Cost')\\nplt.show()\\n\""
            ],
            "application/vnd.google.colaboratory.intrinsic+json": {
              "type": "string"
            }
          },
          "metadata": {},
          "execution_count": 14
        }
      ],
      "source": [
        "'''\n",
        "def objective_function(variational):\n",
        "    \"\"\"Cost function of circuit parameters on training data.\n",
        "    The optimizer will attempt to minimize this.\"\"\"\n",
        "    return cost_function(TRAIN_DATA, TRAIN_LABELS, variational)\n",
        "\n",
        "# Run the optimization\n",
        "result = optimizer.minimize(objective_function, initial_point)\n",
        "\n",
        "opt_var = result.x\n",
        "opt_value = result.fun\n",
        "\n",
        "import matplotlib.pyplot as plt\n",
        "fig = plt.figure()\n",
        "plt.plot(log.evaluations, log.costs)\n",
        "plt.xlabel('Steps')\n",
        "plt.ylabel('Cost')\n",
        "plt.show()\n",
        "'''\n",
        "'''\n",
        "from qiskit_machine_learning.algorithms.classifiers import VQC\n",
        "log = OptimizerLog()\n",
        "vqc = VQC(feature_map=FEATURE_MAP,\n",
        "          ansatz=VAR_FORM,\n",
        "          loss='cross_entropy',\n",
        "          optimizer=SPSA(callback=log.update),\n",
        "          initial_point=initial_point,\n",
        "          quantum_instance=BasicAer.get_backend('qasm_simulator'))\n",
        "\n",
        "vqc.fit(TRAIN_DATA, train_labels_oh)\n",
        "\n",
        "fig = plt.figure()\n",
        "plt.plot(log.evaluations, log.costs)\n",
        "plt.xlabel('Steps')\n",
        "plt.ylabel('Cost')\n",
        "plt.show()\n",
        "'''"
      ]
    },
    {
      "cell_type": "code",
      "execution_count": 16,
      "metadata": {
        "colab": {
          "base_uri": "https://localhost:8080/"
        },
        "id": "z2ssODBzzOYc",
        "outputId": "102f6c0d-9421-4104-eda4-147b337045d8"
      },
      "outputs": [
        {
          "output_type": "stream",
          "name": "stderr",
          "text": [
            "<ipython-input-16-7735fb404e7e>:18: DeprecationWarning: The quantum_instance argument is deprecated as of version 0.5.0 and will be removed no sooner than 3 months after the release. Instead use the sampler argument.\n",
            "  global_model = VQC(\n"
          ]
        }
      ],
      "source": [
        "#Global optimizer log\n",
        "class GlobalOptimizerLog:\n",
        "    \"\"\"Log to store optimizer's intermediate results\"\"\"\n",
        "    def __init__(self):\n",
        "        self.evaluations = []\n",
        "        self.parameters = []\n",
        "        self.costs = []\n",
        "    def update(self, evaluation, parameter, cost, _stepsize, _accept):\n",
        "        \"\"\"Save intermediate results. Optimizer passes five values\n",
        "        but we ignore the last two.\"\"\"\n",
        "        self.evaluations.append(evaluation)\n",
        "        self.parameters.append(parameter)\n",
        "        self.costs.append(cost)\n",
        "\n",
        "global_optimizer_log = GlobalOptimizerLog()\n",
        "\n",
        "# Initialize global model\n",
        "global_model = VQC(\n",
        "    feature_map=FEATURE_MAP,\n",
        "    ansatz=VAR_FORM,\n",
        "    loss='cross_entropy',\n",
        "    optimizer=SPSA(callback=global_optimizer_log.update),\n",
        "    initial_point=initial_point,\n",
        "    quantum_instance=BasicAer.get_backend('qasm_simulator')\n",
        ")\n",
        "\n",
        "#globallog=GlobalOptimizerLog()\n",
        "\n",
        "\n",
        "# Initialize global model parameters\n",
        "#global_optimizer_log.parameters = np.zeros_like(global_parameters)\n",
        "#global_parameters = np.zeros_like(global_optimizer_log.parameters)\n",
        "\n",
        "#print(globallog.parameters)\n",
        "\n",
        "\n"
      ]
    },
    {
      "cell_type": "code",
      "execution_count": 17,
      "metadata": {
        "id": "UiVcp-oaWKWT"
      },
      "outputs": [],
      "source": [
        "# Training settings\n",
        "num_rounds = 5\n",
        "learning_rate = 0.01  # Adjust as needed"
      ]
    },
    {
      "cell_type": "code",
      "execution_count": 17,
      "metadata": {
        "colab": {
          "base_uri": "https://localhost:8080/",
          "height": 408
        },
        "id": "CeU-qYrOm1K6",
        "outputId": "8617f5ad-1087-40fa-832b-35fc876db37d"
      },
      "outputs": [
        {
          "output_type": "error",
          "ename": "ValueError",
          "evalue": "ignored",
          "traceback": [
            "\u001b[0;31m---------------------------------------------------------------------------\u001b[0m",
            "\u001b[0;31mValueError\u001b[0m                                Traceback (most recent call last)",
            "\u001b[0;32m<ipython-input-17-3b7cf1063712>\u001b[0m in \u001b[0;36m<cell line: 12>\u001b[0;34m()\u001b[0m\n\u001b[1;32m     31\u001b[0m           quantum_instance=BasicAer.get_backend('qasm_simulator'))\n\u001b[1;32m     32\u001b[0m \u001b[0;34m\u001b[0m\u001b[0m\n\u001b[0;32m---> 33\u001b[0;31m           \u001b[0mvqc\u001b[0m\u001b[0;34m.\u001b[0m\u001b[0mfit\u001b[0m\u001b[0;34m(\u001b[0m\u001b[0mtrain_data\u001b[0m\u001b[0;34m,\u001b[0m \u001b[0mtrain_labels\u001b[0m\u001b[0;34m)\u001b[0m\u001b[0;34m\u001b[0m\u001b[0;34m\u001b[0m\u001b[0m\n\u001b[0m\u001b[1;32m     34\u001b[0m \u001b[0;34m\u001b[0m\u001b[0m\n\u001b[1;32m     35\u001b[0m           \u001b[0mclients\u001b[0m\u001b[0;34m.\u001b[0m\u001b[0mappend\u001b[0m\u001b[0;34m(\u001b[0m\u001b[0mvqc\u001b[0m\u001b[0;34m)\u001b[0m\u001b[0;34m\u001b[0m\u001b[0;34m\u001b[0m\u001b[0m\n",
            "\u001b[0;32m/usr/local/lib/python3.10/dist-packages/qiskit_machine_learning/algorithms/trainable_model.py\u001b[0m in \u001b[0;36mfit\u001b[0;34m(self, X, y)\u001b[0m\n\u001b[1;32m    197\u001b[0m             \u001b[0mself\u001b[0m\u001b[0;34m.\u001b[0m\u001b[0m_fit_result\u001b[0m \u001b[0;34m=\u001b[0m \u001b[0;32mNone\u001b[0m\u001b[0;34m\u001b[0m\u001b[0;34m\u001b[0m\u001b[0m\n\u001b[1;32m    198\u001b[0m \u001b[0;34m\u001b[0m\u001b[0m\n\u001b[0;32m--> 199\u001b[0;31m         \u001b[0mself\u001b[0m\u001b[0;34m.\u001b[0m\u001b[0m_fit_result\u001b[0m \u001b[0;34m=\u001b[0m \u001b[0mself\u001b[0m\u001b[0;34m.\u001b[0m\u001b[0m_fit_internal\u001b[0m\u001b[0;34m(\u001b[0m\u001b[0mX\u001b[0m\u001b[0;34m,\u001b[0m \u001b[0my\u001b[0m\u001b[0;34m)\u001b[0m\u001b[0;34m\u001b[0m\u001b[0;34m\u001b[0m\u001b[0m\n\u001b[0m\u001b[1;32m    200\u001b[0m         \u001b[0;32mreturn\u001b[0m \u001b[0mself\u001b[0m\u001b[0;34m\u001b[0m\u001b[0;34m\u001b[0m\u001b[0m\n\u001b[1;32m    201\u001b[0m \u001b[0;34m\u001b[0m\u001b[0m\n",
            "\u001b[0;32m/usr/local/lib/python3.10/dist-packages/qiskit_machine_learning/algorithms/classifiers/vqc.py\u001b[0m in \u001b[0;36m_fit_internal\u001b[0;34m(self, X, y)\u001b[0m\n\u001b[1;32m    191\u001b[0m \u001b[0;34m\u001b[0m\u001b[0m\n\u001b[1;32m    192\u001b[0m         \u001b[0mfunction\u001b[0m \u001b[0;34m=\u001b[0m \u001b[0mself\u001b[0m\u001b[0;34m.\u001b[0m\u001b[0m_create_objective\u001b[0m\u001b[0;34m(\u001b[0m\u001b[0mX\u001b[0m\u001b[0;34m,\u001b[0m \u001b[0my\u001b[0m\u001b[0;34m)\u001b[0m\u001b[0;34m\u001b[0m\u001b[0;34m\u001b[0m\u001b[0m\n\u001b[0;32m--> 193\u001b[0;31m         \u001b[0;32mreturn\u001b[0m \u001b[0mself\u001b[0m\u001b[0;34m.\u001b[0m\u001b[0m_minimize\u001b[0m\u001b[0;34m(\u001b[0m\u001b[0mfunction\u001b[0m\u001b[0;34m)\u001b[0m\u001b[0;34m\u001b[0m\u001b[0;34m\u001b[0m\u001b[0m\n\u001b[0m\u001b[1;32m    194\u001b[0m \u001b[0;34m\u001b[0m\u001b[0m\n\u001b[1;32m    195\u001b[0m     \u001b[0;32mdef\u001b[0m \u001b[0m_get_interpret\u001b[0m\u001b[0;34m(\u001b[0m\u001b[0mself\u001b[0m\u001b[0;34m,\u001b[0m \u001b[0mnum_classes\u001b[0m\u001b[0;34m:\u001b[0m \u001b[0mint\u001b[0m\u001b[0;34m)\u001b[0m\u001b[0;34m:\u001b[0m\u001b[0;34m\u001b[0m\u001b[0;34m\u001b[0m\u001b[0m\n",
            "\u001b[0;32m/usr/local/lib/python3.10/dist-packages/qiskit_machine_learning/algorithms/trainable_model.py\u001b[0m in \u001b[0;36m_minimize\u001b[0;34m(self, function)\u001b[0m\n\u001b[1;32m    293\u001b[0m             )\n\u001b[1;32m    294\u001b[0m         \u001b[0;32melse\u001b[0m\u001b[0;34m:\u001b[0m\u001b[0;34m\u001b[0m\u001b[0;34m\u001b[0m\u001b[0m\n\u001b[0;32m--> 295\u001b[0;31m             optimizer_result = self._optimizer.minimize(\n\u001b[0m\u001b[1;32m    296\u001b[0m                 \u001b[0mfun\u001b[0m\u001b[0;34m=\u001b[0m\u001b[0mobjective\u001b[0m\u001b[0;34m,\u001b[0m\u001b[0;34m\u001b[0m\u001b[0;34m\u001b[0m\u001b[0m\n\u001b[1;32m    297\u001b[0m                 \u001b[0mx0\u001b[0m\u001b[0;34m=\u001b[0m\u001b[0minitial_point\u001b[0m\u001b[0;34m,\u001b[0m\u001b[0;34m\u001b[0m\u001b[0;34m\u001b[0m\u001b[0m\n",
            "\u001b[0;32m/usr/local/lib/python3.10/dist-packages/qiskit/algorithms/optimizers/spsa.py\u001b[0m in \u001b[0;36mminimize\u001b[0;34m(self, fun, x0, jac, bounds)\u001b[0m\n\u001b[1;32m    512\u001b[0m         \u001b[0;31m# this happens only here because for the calibration the loss function is required\u001b[0m\u001b[0;34m\u001b[0m\u001b[0;34m\u001b[0m\u001b[0m\n\u001b[1;32m    513\u001b[0m         \u001b[0;32mif\u001b[0m \u001b[0mself\u001b[0m\u001b[0;34m.\u001b[0m\u001b[0mlearning_rate\u001b[0m \u001b[0;32mis\u001b[0m \u001b[0;32mNone\u001b[0m \u001b[0;32mand\u001b[0m \u001b[0mself\u001b[0m\u001b[0;34m.\u001b[0m\u001b[0mperturbation\u001b[0m \u001b[0;32mis\u001b[0m \u001b[0;32mNone\u001b[0m\u001b[0;34m:\u001b[0m\u001b[0;34m\u001b[0m\u001b[0;34m\u001b[0m\u001b[0m\n\u001b[0;32m--> 514\u001b[0;31m             \u001b[0mget_eta\u001b[0m\u001b[0;34m,\u001b[0m \u001b[0mget_eps\u001b[0m \u001b[0;34m=\u001b[0m \u001b[0mself\u001b[0m\u001b[0;34m.\u001b[0m\u001b[0mcalibrate\u001b[0m\u001b[0;34m(\u001b[0m\u001b[0mfun\u001b[0m\u001b[0;34m,\u001b[0m \u001b[0mx0\u001b[0m\u001b[0;34m,\u001b[0m \u001b[0mmax_evals_grouped\u001b[0m\u001b[0;34m=\u001b[0m\u001b[0mself\u001b[0m\u001b[0;34m.\u001b[0m\u001b[0m_max_evals_grouped\u001b[0m\u001b[0;34m)\u001b[0m\u001b[0;34m\u001b[0m\u001b[0;34m\u001b[0m\u001b[0m\n\u001b[0m\u001b[1;32m    515\u001b[0m         \u001b[0;32melse\u001b[0m\u001b[0;34m:\u001b[0m\u001b[0;34m\u001b[0m\u001b[0;34m\u001b[0m\u001b[0m\n\u001b[1;32m    516\u001b[0m             get_eta, get_eps = _validate_pert_and_learningrate(\n",
            "\u001b[0;32m/usr/local/lib/python3.10/dist-packages/qiskit/algorithms/optimizers/spsa.py\u001b[0m in \u001b[0;36mcalibrate\u001b[0;34m(loss, initial_point, c, stability_constant, target_magnitude, alpha, gamma, modelspace, max_evals_grouped)\u001b[0m\n\u001b[1;32m    333\u001b[0m             \u001b[0mpoints\u001b[0m \u001b[0;34m+=\u001b[0m \u001b[0;34m[\u001b[0m\u001b[0minitial_point\u001b[0m \u001b[0;34m+\u001b[0m \u001b[0mc\u001b[0m \u001b[0;34m*\u001b[0m \u001b[0mpert\u001b[0m\u001b[0;34m,\u001b[0m \u001b[0minitial_point\u001b[0m \u001b[0;34m-\u001b[0m \u001b[0mc\u001b[0m \u001b[0;34m*\u001b[0m \u001b[0mpert\u001b[0m\u001b[0;34m]\u001b[0m\u001b[0;34m\u001b[0m\u001b[0;34m\u001b[0m\u001b[0m\n\u001b[1;32m    334\u001b[0m \u001b[0;34m\u001b[0m\u001b[0m\n\u001b[0;32m--> 335\u001b[0;31m         \u001b[0mlosses\u001b[0m \u001b[0;34m=\u001b[0m \u001b[0m_batch_evaluate\u001b[0m\u001b[0;34m(\u001b[0m\u001b[0mloss\u001b[0m\u001b[0;34m,\u001b[0m \u001b[0mpoints\u001b[0m\u001b[0;34m,\u001b[0m \u001b[0mmax_evals_grouped\u001b[0m\u001b[0;34m)\u001b[0m\u001b[0;34m\u001b[0m\u001b[0;34m\u001b[0m\u001b[0m\n\u001b[0m\u001b[1;32m    336\u001b[0m \u001b[0;34m\u001b[0m\u001b[0m\n\u001b[1;32m    337\u001b[0m         \u001b[0mavg_magnitudes\u001b[0m \u001b[0;34m=\u001b[0m \u001b[0;36m0.0\u001b[0m\u001b[0;34m\u001b[0m\u001b[0;34m\u001b[0m\u001b[0m\n",
            "\u001b[0;32m/usr/local/lib/python3.10/dist-packages/qiskit/algorithms/optimizers/spsa.py\u001b[0m in \u001b[0;36m_batch_evaluate\u001b[0;34m(function, points, max_evals_grouped, unpack_points)\u001b[0m\n\u001b[1;32m    726\u001b[0m     \u001b[0;32mif\u001b[0m \u001b[0mmax_evals_grouped\u001b[0m \u001b[0;32mis\u001b[0m \u001b[0;32mNone\u001b[0m \u001b[0;32mor\u001b[0m \u001b[0mmax_evals_grouped\u001b[0m \u001b[0;34m==\u001b[0m \u001b[0;36m1\u001b[0m\u001b[0;34m:\u001b[0m\u001b[0;34m\u001b[0m\u001b[0;34m\u001b[0m\u001b[0m\n\u001b[1;32m    727\u001b[0m         \u001b[0;31m# support functions with multiple arguments where the points are given in a tuple\u001b[0m\u001b[0;34m\u001b[0m\u001b[0;34m\u001b[0m\u001b[0m\n\u001b[0;32m--> 728\u001b[0;31m         return [\n\u001b[0m\u001b[1;32m    729\u001b[0m             \u001b[0mfunction\u001b[0m\u001b[0;34m(\u001b[0m\u001b[0;34m*\u001b[0m\u001b[0mpoint\u001b[0m\u001b[0;34m)\u001b[0m \u001b[0;32mif\u001b[0m \u001b[0misinstance\u001b[0m\u001b[0;34m(\u001b[0m\u001b[0mpoint\u001b[0m\u001b[0;34m,\u001b[0m \u001b[0mtuple\u001b[0m\u001b[0;34m)\u001b[0m \u001b[0;32melse\u001b[0m \u001b[0mfunction\u001b[0m\u001b[0;34m(\u001b[0m\u001b[0mpoint\u001b[0m\u001b[0;34m)\u001b[0m \u001b[0;32mfor\u001b[0m \u001b[0mpoint\u001b[0m \u001b[0;32min\u001b[0m \u001b[0mpoints\u001b[0m\u001b[0;34m\u001b[0m\u001b[0;34m\u001b[0m\u001b[0m\n\u001b[1;32m    730\u001b[0m         ]\n",
            "\u001b[0;32m/usr/local/lib/python3.10/dist-packages/qiskit/algorithms/optimizers/spsa.py\u001b[0m in \u001b[0;36m<listcomp>\u001b[0;34m(.0)\u001b[0m\n\u001b[1;32m    727\u001b[0m         \u001b[0;31m# support functions with multiple arguments where the points are given in a tuple\u001b[0m\u001b[0;34m\u001b[0m\u001b[0;34m\u001b[0m\u001b[0m\n\u001b[1;32m    728\u001b[0m         return [\n\u001b[0;32m--> 729\u001b[0;31m             \u001b[0mfunction\u001b[0m\u001b[0;34m(\u001b[0m\u001b[0;34m*\u001b[0m\u001b[0mpoint\u001b[0m\u001b[0;34m)\u001b[0m \u001b[0;32mif\u001b[0m \u001b[0misinstance\u001b[0m\u001b[0;34m(\u001b[0m\u001b[0mpoint\u001b[0m\u001b[0;34m,\u001b[0m \u001b[0mtuple\u001b[0m\u001b[0;34m)\u001b[0m \u001b[0;32melse\u001b[0m \u001b[0mfunction\u001b[0m\u001b[0;34m(\u001b[0m\u001b[0mpoint\u001b[0m\u001b[0;34m)\u001b[0m \u001b[0;32mfor\u001b[0m \u001b[0mpoint\u001b[0m \u001b[0;32min\u001b[0m \u001b[0mpoints\u001b[0m\u001b[0;34m\u001b[0m\u001b[0;34m\u001b[0m\u001b[0m\n\u001b[0m\u001b[1;32m    730\u001b[0m         ]\n\u001b[1;32m    731\u001b[0m \u001b[0;34m\u001b[0m\u001b[0m\n",
            "\u001b[0;32m/usr/local/lib/python3.10/dist-packages/qiskit_machine_learning/algorithms/objective_functions.py\u001b[0m in \u001b[0;36mobjective\u001b[0;34m(self, weights)\u001b[0m\n\u001b[1;32m    189\u001b[0m     \u001b[0;32mdef\u001b[0m \u001b[0mobjective\u001b[0m\u001b[0;34m(\u001b[0m\u001b[0mself\u001b[0m\u001b[0;34m,\u001b[0m \u001b[0mweights\u001b[0m\u001b[0;34m:\u001b[0m \u001b[0mnp\u001b[0m\u001b[0;34m.\u001b[0m\u001b[0mndarray\u001b[0m\u001b[0;34m)\u001b[0m \u001b[0;34m->\u001b[0m \u001b[0mfloat\u001b[0m\u001b[0;34m:\u001b[0m\u001b[0;34m\u001b[0m\u001b[0;34m\u001b[0m\u001b[0m\n\u001b[1;32m    190\u001b[0m         \u001b[0;31m# probabilities is of shape (N, num_outputs)\u001b[0m\u001b[0;34m\u001b[0m\u001b[0;34m\u001b[0m\u001b[0m\n\u001b[0;32m--> 191\u001b[0;31m         \u001b[0mprobs\u001b[0m \u001b[0;34m=\u001b[0m \u001b[0mself\u001b[0m\u001b[0;34m.\u001b[0m\u001b[0m_neural_network_forward\u001b[0m\u001b[0;34m(\u001b[0m\u001b[0mweights\u001b[0m\u001b[0;34m)\u001b[0m\u001b[0;34m\u001b[0m\u001b[0;34m\u001b[0m\u001b[0m\n\u001b[0m\u001b[1;32m    192\u001b[0m         \u001b[0;31m# float(...) is for mypy compliance\u001b[0m\u001b[0;34m\u001b[0m\u001b[0;34m\u001b[0m\u001b[0m\n\u001b[1;32m    193\u001b[0m         \u001b[0mvalue\u001b[0m \u001b[0;34m=\u001b[0m \u001b[0mfloat\u001b[0m\u001b[0;34m(\u001b[0m\u001b[0mnp\u001b[0m\u001b[0;34m.\u001b[0m\u001b[0msum\u001b[0m\u001b[0;34m(\u001b[0m\u001b[0mself\u001b[0m\u001b[0;34m.\u001b[0m\u001b[0m_loss\u001b[0m\u001b[0;34m(\u001b[0m\u001b[0mprobs\u001b[0m\u001b[0;34m,\u001b[0m \u001b[0mself\u001b[0m\u001b[0;34m.\u001b[0m\u001b[0m_y\u001b[0m\u001b[0;34m)\u001b[0m\u001b[0;34m)\u001b[0m \u001b[0;34m/\u001b[0m \u001b[0mself\u001b[0m\u001b[0;34m.\u001b[0m\u001b[0m_num_samples\u001b[0m\u001b[0;34m)\u001b[0m\u001b[0;34m\u001b[0m\u001b[0;34m\u001b[0m\u001b[0m\n",
            "\u001b[0;32m/usr/local/lib/python3.10/dist-packages/qiskit_machine_learning/algorithms/objective_functions.py\u001b[0m in \u001b[0;36m_neural_network_forward\u001b[0;34m(self, weights)\u001b[0m\n\u001b[1;32m    100\u001b[0m         ):\n\u001b[1;32m    101\u001b[0m             \u001b[0;31m# compute forward and cache the results for re-use in backward\u001b[0m\u001b[0;34m\u001b[0m\u001b[0;34m\u001b[0m\u001b[0m\n\u001b[0;32m--> 102\u001b[0;31m             \u001b[0mself\u001b[0m\u001b[0;34m.\u001b[0m\u001b[0m_last_forward\u001b[0m \u001b[0;34m=\u001b[0m \u001b[0mself\u001b[0m\u001b[0;34m.\u001b[0m\u001b[0m_neural_network\u001b[0m\u001b[0;34m.\u001b[0m\u001b[0mforward\u001b[0m\u001b[0;34m(\u001b[0m\u001b[0mself\u001b[0m\u001b[0;34m.\u001b[0m\u001b[0m_X\u001b[0m\u001b[0;34m,\u001b[0m \u001b[0mweights\u001b[0m\u001b[0;34m)\u001b[0m\u001b[0;34m\u001b[0m\u001b[0;34m\u001b[0m\u001b[0m\n\u001b[0m\u001b[1;32m    103\u001b[0m             \u001b[0;31m# a copy avoids keeping a reference to the same array, so we are sure we have\u001b[0m\u001b[0;34m\u001b[0m\u001b[0;34m\u001b[0m\u001b[0m\n\u001b[1;32m    104\u001b[0m             \u001b[0;31m# different arrays on the next iteration.\u001b[0m\u001b[0;34m\u001b[0m\u001b[0;34m\u001b[0m\u001b[0m\n",
            "\u001b[0;32m/usr/local/lib/python3.10/dist-packages/qiskit_machine_learning/neural_networks/neural_network.py\u001b[0m in \u001b[0;36mforward\u001b[0;34m(self, input_data, weights)\u001b[0m\n\u001b[1;32m    223\u001b[0m         \"\"\"\n\u001b[1;32m    224\u001b[0m         \u001b[0minput_\u001b[0m\u001b[0;34m,\u001b[0m \u001b[0mshape\u001b[0m \u001b[0;34m=\u001b[0m \u001b[0mself\u001b[0m\u001b[0;34m.\u001b[0m\u001b[0m_validate_input\u001b[0m\u001b[0;34m(\u001b[0m\u001b[0minput_data\u001b[0m\u001b[0;34m)\u001b[0m\u001b[0;34m\u001b[0m\u001b[0;34m\u001b[0m\u001b[0m\n\u001b[0;32m--> 225\u001b[0;31m         \u001b[0mweights_\u001b[0m \u001b[0;34m=\u001b[0m \u001b[0mself\u001b[0m\u001b[0;34m.\u001b[0m\u001b[0m_validate_weights\u001b[0m\u001b[0;34m(\u001b[0m\u001b[0mweights\u001b[0m\u001b[0;34m)\u001b[0m\u001b[0;34m\u001b[0m\u001b[0;34m\u001b[0m\u001b[0m\n\u001b[0m\u001b[1;32m    226\u001b[0m         \u001b[0moutput_data\u001b[0m \u001b[0;34m=\u001b[0m \u001b[0mself\u001b[0m\u001b[0;34m.\u001b[0m\u001b[0m_forward\u001b[0m\u001b[0;34m(\u001b[0m\u001b[0minput_\u001b[0m\u001b[0;34m,\u001b[0m \u001b[0mweights_\u001b[0m\u001b[0;34m)\u001b[0m\u001b[0;34m\u001b[0m\u001b[0;34m\u001b[0m\u001b[0m\n\u001b[1;32m    227\u001b[0m         \u001b[0;32mreturn\u001b[0m \u001b[0mself\u001b[0m\u001b[0;34m.\u001b[0m\u001b[0m_validate_forward_output\u001b[0m\u001b[0;34m(\u001b[0m\u001b[0moutput_data\u001b[0m\u001b[0;34m,\u001b[0m \u001b[0mshape\u001b[0m\u001b[0;34m)\u001b[0m\u001b[0;34m\u001b[0m\u001b[0;34m\u001b[0m\u001b[0m\n",
            "\u001b[0;32m/usr/local/lib/python3.10/dist-packages/qiskit_machine_learning/neural_networks/neural_network.py\u001b[0m in \u001b[0;36m_validate_weights\u001b[0;34m(self, weights)\u001b[0m\n\u001b[1;32m    176\u001b[0m             \u001b[0;32mreturn\u001b[0m \u001b[0;32mNone\u001b[0m\u001b[0;34m\u001b[0m\u001b[0;34m\u001b[0m\u001b[0m\n\u001b[1;32m    177\u001b[0m         \u001b[0mweights_\u001b[0m \u001b[0;34m=\u001b[0m \u001b[0mnp\u001b[0m\u001b[0;34m.\u001b[0m\u001b[0marray\u001b[0m\u001b[0;34m(\u001b[0m\u001b[0mweights\u001b[0m\u001b[0;34m)\u001b[0m\u001b[0;34m\u001b[0m\u001b[0;34m\u001b[0m\u001b[0m\n\u001b[0;32m--> 178\u001b[0;31m         \u001b[0;32mreturn\u001b[0m \u001b[0mweights_\u001b[0m\u001b[0;34m.\u001b[0m\u001b[0mreshape\u001b[0m\u001b[0;34m(\u001b[0m\u001b[0mself\u001b[0m\u001b[0;34m.\u001b[0m\u001b[0m_num_weights\u001b[0m\u001b[0;34m)\u001b[0m\u001b[0;34m\u001b[0m\u001b[0;34m\u001b[0m\u001b[0m\n\u001b[0m\u001b[1;32m    179\u001b[0m \u001b[0;34m\u001b[0m\u001b[0m\n\u001b[1;32m    180\u001b[0m     def _validate_forward_output(\n",
            "\u001b[0;31mValueError\u001b[0m: cannot reshape array of size 0 into shape (12,)"
          ]
        }
      ],
      "source": [
        "\n",
        "\n",
        "# Create a list of VQC instances, one for each client\n",
        "clients = []\n",
        "# Initialize an empty list to store client logs\n",
        "client_logs = []\n",
        "# Initialize an empty list to store client parameters\n",
        "client_parameters = []\n",
        "\n",
        "global_parameters=[]\n",
        "global_cost=[]\n",
        "\n",
        "# Federated training loop\n",
        "for round_num in range(num_rounds):\n",
        "     #client_parameters=global_optimizer_log.parameters[-1]\n",
        "     #print('Round',round_num,'',global_optimizer_log.parameters)\n",
        "     #print(f\"Round {round_num}: global parameters {global_optimizer_log.parameters[-1]}\")\n",
        "    # Aggregate optimizer logs and compute mean gradient\n",
        "     aggregated_params = []  # List to store aggregated parameters for this round\n",
        "\n",
        "     #Train each clients data on each vqc to generate client models\n",
        "     for client_id, data in enumerate(client_data):\n",
        "          #client_parameters=global_optimizer_log.parameters\n",
        "          train_data, train_labels, _, _ = data\n",
        "\n",
        "          log = OptimizerLog()\n",
        "          #set initial points to the global parameters to fine tune the clients on top of global model\n",
        "          vqc = VQC(feature_map=FEATURE_MAP,\n",
        "          ansatz=VAR_FORM,\n",
        "          loss='cross_entropy',\n",
        "          optimizer=SPSA(callback=log.update),\n",
        "          initial_point=global_parameters,\n",
        "          quantum_instance=BasicAer.get_backend('qasm_simulator'))\n",
        "\n",
        "          vqc.fit(train_data, train_labels)\n",
        "\n",
        "          clients.append(vqc)\n",
        "          client_logs.append(log)\n",
        "          client_parameters.append(log.parameters[-1])\n",
        "          cost = log.costs[-1]\n",
        "          print(f\"Round {round_num}, Client {client_id}: parameters = {log.parameters[-1]}\")\n",
        "          #print(f\"Round {round_num}, Client {client_id}: Cost = {cost}\")\n",
        "\n",
        "          aggregated_params.append(client_parameters[client_id])  # Store client's updated parameters\n",
        "\n",
        "        # Print the cost for each client in each round\n",
        "         # Aggregation step\n",
        "     aggregated_params = np.mean(aggregated_params, axis=0)  # Calculate mean of parameters\n",
        "\n",
        "     # Update global parameters for the next round\n",
        "     global_parameters = aggregated_params\n",
        "     # Aggregate client parameters\n",
        "     print(f\"Round {round_num},global: aggregated_gradients = {global_parameters}\")\n",
        "\n",
        "     # Update the global optimizer log with the aggregated parameters\n",
        "     global_optimizer_log.parameters.append(global_parameters)\n",
        "     global_model.fit(train_data, train_labels)\n",
        "     global_cost = global_optimizer_log.costs\n",
        "     print(f\"Round {round_num},global cost: {global_cost}\")\n"
      ]
    },
    {
      "cell_type": "code",
      "execution_count": null,
      "metadata": {
        "id": "xwZt-6E6PCAh"
      },
      "outputs": [],
      "source": [
        "import numpy as np\n",
        "\n",
        "# Define  existing code here\n",
        "GlobalCostperRoundAll=[]\n",
        "clients=[]\n",
        "client_parameters=[]\n",
        "client_logs=[]\n",
        "\n",
        "# Initialize global parameters\n",
        "global_parameters = np.random.rand(VAR_FORM.num_parameters)  # Initialize with random values or any desired initial values\n",
        "\n",
        "# Federated training loop\n",
        "for round_num in range(num_rounds):\n",
        "    global_cost=[]\n",
        "    client_logs=[]\n",
        "    aggregated_params = np.zeros_like(global_parameters)  # Initialize aggregated parameters\n",
        "\n",
        "    # Train each client's data on their VQC models\n",
        "    for client_id, data in enumerate(client_data):\n",
        "        train_data, train_labels, _, _ = data\n",
        "\n",
        "        log = OptimizerLog()\n",
        "\n",
        "        vqc = VQC(\n",
        "            feature_map=FEATURE_MAP,\n",
        "            ansatz=VAR_FORM,\n",
        "            loss='cross_entropy',\n",
        "            optimizer=SPSA(callback=log.update),\n",
        "            initial_point=global_parameters,\n",
        "            quantum_instance=BasicAer.get_backend('qasm_simulator')\n",
        "            #statevector_simulator\n",
        "        )\n",
        "\n",
        "        vqc.fit(train_data, train_labels)\n",
        "\n",
        "        clients.append(vqc)\n",
        "        client_logs.append(log)\n",
        "\n",
        "        # Append the latest parameters to the client_parameters list\n",
        "        client_parameters.append(log.parameters[-1])\n",
        "        cost = log.costs[-1]\n",
        "        #print(f\"Round {round_num}, Client {client_id}: parameters = {log.parameters[-1]}\")\n",
        "\n",
        "        # Add the client's latest parameters to the aggregated_params\n",
        "        aggregated_params += log.parameters[-1]\n",
        "\n",
        "    # Average the aggregated parameters across clients\n",
        "    aggregated_params /= len(client_data)\n",
        "\n",
        "    # Update global parameters for the next round\n",
        "    global_parameters = aggregated_params\n",
        "\n",
        "    # Perform any global updates, e.g., update the global VQC model using global_parameters\n",
        "    #global_vqc.update_params(global_parameters)\n",
        "\n",
        "    # Print aggregated parameters and global updates\n",
        "    print(f\"Round {round_num}, Global parameters: {global_parameters}\")\n",
        "    global_model.fit(train_data, train_labels)\n",
        "    global_cost = global_optimizer_log.costs\n",
        "    print(f\"Round {round_num}, Global Cost: {min(global_cost)}\")\n",
        "\n",
        "    GlobalCostperRoundAll.append(min(global_cost))\n",
        "\n",
        "\n",
        "print(\"======================================\")\n",
        "print(\"Global cost over communication rounds: \")\n",
        "print(GlobalCostperRoundAll)\n",
        "\n",
        "#each client cost variations over epochs\n",
        "import matplotlib.pyplot as plt\n",
        "epoch = len(global_optimizer_log.evaluations)\n",
        "num_rounds= [i for i in range(5)]\n",
        "plt.plot(epoch, GlobalCostperRoundAll)\n",
        "#plt.plot(range(epoch), global_optimizer_log.costs, label='Global Cost')\n",
        "plt.xlabel('Round')\n",
        "plt.ylabel('Cost')\n",
        "plt.title('Cost Evolution for global model')\n",
        "plt.legend()\n",
        "plt.show()\n"
      ]
    },
    {
      "cell_type": "code",
      "execution_count": 18,
      "metadata": {
        "colab": {
          "base_uri": "https://localhost:8080/",
          "height": 1000
        },
        "id": "k4ueCKHLyKcN",
        "outputId": "2c01b01f-4fb0-4519-e160-8ad2792b887a"
      },
      "outputs": [
        {
          "output_type": "stream",
          "name": "stdout",
          "text": [
            "Round 0, Global parameters: [1.32223557 0.3665868  0.31417572 0.68778027 0.65046373 0.69600011\n",
            " 0.92514002 0.52202381 0.31145532 0.35860698 0.34393596 1.06147695]\n",
            "Round 1, Global parameters: [ 1.40057099 -0.53502266 -0.07108722  0.70274999  0.3787337   0.90033019\n",
            "  1.95181334  0.8050515   0.04895603  0.73844726 -0.54780219  0.97760504]\n",
            "Round 2, Global parameters: [ 1.28255568 -1.55515213 -0.52890506 -0.68203614  0.60459122  1.80146601\n",
            "  1.51998236  1.24865072 -0.64130218  0.69705631 -0.44211458  0.69570415]\n",
            "Round 3, Global parameters: [ 1.33147933 -0.13273482 -0.13840594 -0.25495565  0.64795671  2.39441861\n",
            "  1.47885605 -0.10187743 -1.03867536  0.82539239 -1.13694061  1.01253839]\n",
            "Round 4, Global parameters: [ 0.64661789 -0.36831166 -0.0612208   0.47084905  0.40464654  2.08947103\n",
            "  1.26256099 -0.61003654 -0.49359747  0.59545012 -1.06727216  1.76716447]\n",
            "======================================\n",
            "Global cost over communication rounds: \n",
            "[[1.6406174427286249, 1.3621116514015241, 1.1266051992515584, 0.5343556299473571, 0.5091174299262422, 0.5127508607809583, 0.4379404790616143, 0.39725584146249904, 0.38921246886544736, 0.3915691658035339, 0.38996928155731914, 0.3870560479949417, 0.3873707563471645, 0.39244566048147644, 0.3894608605834047, 0.3841397492031874, 0.375221229392822, 0.37500510959129846, 0.35338063563434907, 0.3575800338780709, 0.35453655205854834, 0.3460287048229077, 0.3486277172937178, 0.345628081218491, 0.34119876869874965, 0.3450606854706798, 0.34957629429600245, 0.34680893369981625, 0.34979418977493315, 0.340026118132725, 0.3429009791853249, 0.34311465338642466, 0.334811513035736, 0.33521756089787313, 0.3455055825101034, 0.32850041963667576, 0.3324941826497273, 0.33314239741915097, 0.32777900974349683, 0.32758454584138363, 0.3337965616076969, 0.3314781425292874, 0.33386146609435663, 0.3340177889769582, 0.32960183243662244, 0.3357647529198233, 0.3335022408225391, 0.3324830320133333, 0.3255539897117818, 0.3286645356869236, 0.3299317304047886, 0.327030002239116, 0.3284538013293671, 0.3198464243406353, 0.3287180557783301, 0.32081368709158764, 0.3235968345414827, 0.3294204971385802, 0.3262684361381651, 0.32108351124114165, 0.3216445277759116, 0.32238741573474144, 0.32432447882544974, 0.32686039384303694, 0.3187134542553018, 0.32135227870839983, 0.3211884715204401, 0.31641560528303875, 0.3247546255280983, 0.3232451758683171, 0.3218802410841174, 0.32171371934626014, 0.3182722179102776, 0.32091947227511447, 0.3304290400708659, 0.32023404212469553, 0.3224795533404962, 0.32081738130780274, 0.32056526496644383, 0.3207421423158178, 0.31765935814711377, 0.31809716562666984, 0.31491457375465287, 0.3167721654431245, 0.3164920016592861, 0.3156257776911059, 0.3244781139536502, 0.31830679234183196, 0.31665930997445974, 0.3155622138696068, 0.32101294018524973, 0.31625797768443614, 0.3119156006612692, 0.3198634489501676, 0.31215965942324053, 0.31440267910008074, 0.30891148429336196, 0.32078125757133397, 0.32245677330527645, 0.31902463352441046, 0.7997218919301352, 0.4396792540837625, 0.3564294055753615, 0.34415575721138614, 0.35718194096697253, 0.34999372746934504, 0.34252404427462324, 0.33147739488258104, 0.3262256354324619, 0.3183913322109055, 0.3183708373562052, 0.31456501728581976, 0.3151541530570493, 0.3096873459063529, 0.31375107262949575, 0.30802929949442054, 0.31227283629565433, 0.3088701402459154, 0.30997302258032144, 0.3079381588796088, 0.30919890370353215, 0.31421095009358246, 0.30987410792643716, 0.30851907847814186, 0.313180627619155, 0.30971720491458343, 0.30913368034218414, 0.30220705524944314, 0.30504403165718197, 0.3084785473891475, 0.30562784417918465, 0.30602704333030695, 0.311331787131333, 0.30985932555986845, 0.3099287081914992, 0.3119978316384952, 0.30263963430713153, 0.3047599417264663, 0.30794395648811235, 0.30804206009222146, 0.3071943735093866, 0.3101880878353991, 0.305577956655675, 0.3107498811889305, 0.3027933164580753, 0.31246976756861733, 0.31116288642149426, 0.30831164633908525, 0.30588854856000347, 0.309725820257092, 0.30458265435580956, 0.30468595637108914, 0.31217376044498374, 0.3068767201797705, 0.3086193265437765, 0.30322392928686, 0.3087464687564296, 0.30835486605020346, 0.3094200166618247, 0.3045111540049823, 0.30174222027090136, 0.30729013162120405, 0.30292251080012483, 0.3048337582354067, 0.3016017082411395, 0.30913653479058145, 0.30615261517531733, 0.30792100870424816, 0.3094517876042069, 0.3118884499088963, 0.3041393626685401, 0.305477794695266, 0.30627596237795146, 0.3095098392863318, 0.3049854251083137, 0.30761243083428014, 0.31181167636296314, 0.30527075278575205, 0.30599405850071426, 0.30636305813894404, 0.30813700759739604, 0.30135043297940894, 0.3053869802244507, 0.302998990747754, 0.30943829251339655, 0.3056768066143203, 0.3097401342541441, 0.30629828613092974, 0.3107916264235991, 0.30733528288201917, 0.31172169346575634, 0.3076484016639971, 0.31246717321886563, 0.30223876632518987, 0.30074957173221895, 0.3080370870533711, 0.30061601087623907, 0.312088352124975, 0.30203743261537525, 0.30397333429205214, 0.9848339262112287, 0.91694592868784, 0.8925031075195899, 0.8982920932047476, 0.8848569719149726, 0.6076366750392778, 0.5918654023176537, 0.5643377388891954, 0.5565018649742566, 0.548772355238461, 0.5488572701648229, 0.5335174009582586, 0.5328723661782813, 0.4996941654624358, 0.48925822807738195, 0.4804861544688478, 0.48253517471666163, 0.45317656533510087, 0.4422853847554583, 0.4322036250571236, 0.43168597136302295, 0.4232925144142171, 0.4179261268763857, 0.424534548634114, 0.41853365048331403, 0.4232369466082904, 0.41623315763902885, 0.41495414546587855, 0.40854094191028595, 0.411735034839073, 0.4138253891303399, 0.41228597192940875, 0.40486306915543135, 0.3983443332431498, 0.3956292445846919, 0.3986865964800308, 0.39281776767615495, 0.395073939981199, 0.3904638003820703, 0.37935989408814275, 0.37910419073919266, 0.3702050704780403, 0.36771570763953554, 0.3682303794428187, 0.37760292450727856, 0.37383035006191356, 0.3786299766339961, 0.3702886586506371, 0.37483671047482386, 0.37658709422644143, 0.3648461233103292, 0.36588912497838555, 0.37317031792719063, 0.3695181978903267, 0.3647720632510828, 0.3614206689397128, 0.36814512785258846, 0.36469980674049923, 0.359870563433648, 0.3569144638074845, 0.35582798562337986, 0.3636968085375045, 0.35107304439191556, 0.3562673305005369, 0.34825827692556743, 0.3494490877345215, 0.359338084202444, 0.35774445882738604, 0.3541838934484528, 0.3515111364682328, 0.3509242246468388, 0.3480542409567223, 0.3535733771983959, 0.3412328779044089, 0.3402256098355323, 0.34214027854762435, 0.3374840265947121, 0.34163140996785035, 0.3438293142320799, 0.3384600577296095, 0.3400422596781, 0.339600569780232, 0.3423441277210464, 0.33907706812670024, 0.33670321269085823, 0.3345020379668018, 0.32622689171453934, 0.3325662944244184, 0.32940478400776707, 0.33386886851698644, 0.3274340233358113, 0.33507692656303634, 0.3337227584988007, 0.3378034967527198, 0.33150371364013187, 0.3289840228614054, 0.3353938621638738, 0.3354911187581896, 0.3300259887291797, 0.32702986148116897, 1.086802847930184, 0.9432762257705957, 0.8522762829366368, 0.7474769496792788, 0.7151638501394719, 0.7005481684071666, 0.587473798738676, 0.5733972542811034, 0.5617584287922448, 0.4699831194622048, 0.4703899856818472, 0.45909754448936047, 0.4132622830415421, 0.41397403739485583, 0.3837280299492643, 0.38479842191248115, 0.3718975815304843, 0.3670776503740055, 0.36883196301511145, 0.3657887187749081, 0.35978411804515564, 0.35569723302406103, 0.3558606244016581, 0.3503337911611468, 0.3573778936927634, 0.354984975568568, 0.35365981076705266, 0.3541870321440919, 0.3449786025258597, 0.35482576844147495, 0.34288837833829133, 0.3298530946618494, 0.3277828157572422, 0.33196076085308035, 0.3350626319277901, 0.3277998520801023, 0.32301721725256805, 0.3326358934209513, 0.32694212330296224, 0.3298530075461162, 0.3193604096394815, 0.32880588005625927, 0.3240861127288477, 0.32472824125640665, 0.3237051143661187, 0.3216640806517164, 0.32099026629768546, 0.3233365628241662, 0.32131353393301526, 0.3245591814905943, 0.3141106372408295, 0.31873399972964495, 0.3107323918761443, 0.3193923507589361, 0.31817528211997026, 0.31104395245742517, 0.31919017800338834, 0.31527028779167043, 0.31948203056039687, 0.31573622192958023, 0.3115362444066133, 0.30824949569744886, 0.31481583029270677, 0.30959510795694334, 0.31654428776757537, 0.3109554655913362, 0.304422503942256, 0.3097865355399576, 0.3175480065351852, 0.3056951486472418, 0.3067652460648048, 0.3085727163863671, 0.3044851832379471, 0.31574488689963714, 0.3103991892982646, 0.31683442266810385, 0.308558387564212, 0.3127821952601637, 0.30618697034950865, 0.31164685504251793, 0.31102694906446704, 0.3067843118303928, 0.30864417769616104, 0.3118020637435786, 0.30531238070773653, 0.3094824347325591, 0.31065173345833685, 0.3069421927211249, 0.3053210358627615, 0.3119255633300308, 0.3088245847876963, 0.30642810641826185, 0.3031378035396323, 0.3112738218183878, 0.3079632516534082, 0.30503566946688127, 0.2976748219028327, 0.3151854852973892, 0.3067448804599901, 0.30237540080795705, 1.3357139899630157, 0.7913028370002355, 0.7556422043434021, 0.3497330995730688, 0.3222022915595587, 0.3186861392396912, 0.3037618558516767, 0.3065381262903786, 0.3130486914250089, 0.30412042243996174, 0.3126166534459331, 0.3011619837496016, 0.30222656720620844, 0.30312666929356, 0.3022684834538355, 0.3043947048628939, 0.29615175252572157, 0.30075734178045066, 0.30468602827329155, 0.30279860691885857, 0.2937256517311687, 0.2941137449965686, 0.29699034780587386, 0.3030951646868618, 0.2948822259264919, 0.2972286632752737, 0.29836519912274906, 0.2957339484897209, 0.29356576584094196, 0.2995980516296105, 0.3016948074441446, 0.3021185467751937, 0.29440198134619433, 0.29475199466785407, 0.29640415049039126, 0.3039687245719466, 0.30025307582597527, 0.2903365428428625, 0.30303948792282276, 0.29504963699201, 0.28986192213177475, 0.2979848144232925, 0.2938884454704708, 0.299078814510272, 0.2960379101415073, 0.29111544201869677, 0.2988618797013511, 0.29440334255721146, 0.291865847048366, 0.29478336782218906, 0.30043151790525247, 0.2954042682574965, 0.29447409866319224, 0.29550647717044937, 0.2971851298917417, 0.2986415622957356, 0.291238395967638, 0.29344165323778737, 0.3022232546102302, 0.2977834507131706, 0.2939608094856575, 0.29626370933082147, 0.2893343754343465, 0.29633069741633816, 0.2962505247298458, 0.29171587942772653, 0.29785167453589306, 0.29356191760090916, 0.2945665114753173, 0.29428742638721983, 0.30273890317310226, 0.2930459660629799, 0.292673300149339, 0.2923378605165362, 0.29966240450977794, 0.2958037395246487, 0.2972845051903196, 0.2875865418228899, 0.2962821805631808, 0.2945175106684811, 0.3003208152693933, 0.2904643698770833, 0.2941829880702998, 0.2918825845886365, 0.29252039755652437, 0.29340695754810653, 0.2998722283697731, 0.2965565046307771, 0.2989299989425008, 0.29267161689904214, 0.2955248709361328, 0.29062555802910905, 0.2869713791326021, 0.2863973599301315, 0.29405537999025105, 0.2958400875475248, 0.2974210241104972, 0.2929364978874749, 0.29504207197040244, 0.29232459910308844]]\n"
          ]
        },
        {
          "output_type": "error",
          "ename": "ValueError",
          "evalue": "ignored",
          "traceback": [
            "\u001b[0;31m---------------------------------------------------------------------------\u001b[0m",
            "\u001b[0;31mValueError\u001b[0m                                Traceback (most recent call last)",
            "\u001b[0;32m<ipython-input-18-062bc1564d25>\u001b[0m in \u001b[0;36m<cell line: 85>\u001b[0;34m()\u001b[0m\n\u001b[1;32m     83\u001b[0m \u001b[0;31m#epoch = len(global_optimizer_log.evaluations)\u001b[0m\u001b[0;34m\u001b[0m\u001b[0;34m\u001b[0m\u001b[0m\n\u001b[1;32m     84\u001b[0m \u001b[0mnum_rounds\u001b[0m\u001b[0;34m=\u001b[0m \u001b[0;34m[\u001b[0m\u001b[0mi\u001b[0m \u001b[0;32mfor\u001b[0m \u001b[0mi\u001b[0m \u001b[0;32min\u001b[0m \u001b[0mrange\u001b[0m\u001b[0;34m(\u001b[0m\u001b[0;36m5\u001b[0m\u001b[0;34m)\u001b[0m\u001b[0;34m]\u001b[0m\u001b[0;34m\u001b[0m\u001b[0;34m\u001b[0m\u001b[0m\n\u001b[0;32m---> 85\u001b[0;31m \u001b[0mplt\u001b[0m\u001b[0;34m.\u001b[0m\u001b[0mplot\u001b[0m\u001b[0;34m(\u001b[0m\u001b[0mnum_rounds\u001b[0m\u001b[0;34m,\u001b[0m \u001b[0mGlobalCostperRoundAll\u001b[0m\u001b[0;34m)\u001b[0m\u001b[0;34m\u001b[0m\u001b[0;34m\u001b[0m\u001b[0m\n\u001b[0m\u001b[1;32m     86\u001b[0m \u001b[0;31m#plt.plot(range(epoch), global_optimizer_log.costs, label='Global Cost')\u001b[0m\u001b[0;34m\u001b[0m\u001b[0;34m\u001b[0m\u001b[0m\n\u001b[1;32m     87\u001b[0m \u001b[0mplt\u001b[0m\u001b[0;34m.\u001b[0m\u001b[0mxlabel\u001b[0m\u001b[0;34m(\u001b[0m\u001b[0;34m'Round'\u001b[0m\u001b[0;34m)\u001b[0m\u001b[0;34m\u001b[0m\u001b[0;34m\u001b[0m\u001b[0m\n",
            "\u001b[0;32m/usr/local/lib/python3.10/dist-packages/matplotlib/pyplot.py\u001b[0m in \u001b[0;36mplot\u001b[0;34m(scalex, scaley, data, *args, **kwargs)\u001b[0m\n\u001b[1;32m   2810\u001b[0m \u001b[0;34m@\u001b[0m\u001b[0m_copy_docstring_and_deprecators\u001b[0m\u001b[0;34m(\u001b[0m\u001b[0mAxes\u001b[0m\u001b[0;34m.\u001b[0m\u001b[0mplot\u001b[0m\u001b[0;34m)\u001b[0m\u001b[0;34m\u001b[0m\u001b[0;34m\u001b[0m\u001b[0m\n\u001b[1;32m   2811\u001b[0m \u001b[0;32mdef\u001b[0m \u001b[0mplot\u001b[0m\u001b[0;34m(\u001b[0m\u001b[0;34m*\u001b[0m\u001b[0margs\u001b[0m\u001b[0;34m,\u001b[0m \u001b[0mscalex\u001b[0m\u001b[0;34m=\u001b[0m\u001b[0;32mTrue\u001b[0m\u001b[0;34m,\u001b[0m \u001b[0mscaley\u001b[0m\u001b[0;34m=\u001b[0m\u001b[0;32mTrue\u001b[0m\u001b[0;34m,\u001b[0m \u001b[0mdata\u001b[0m\u001b[0;34m=\u001b[0m\u001b[0;32mNone\u001b[0m\u001b[0;34m,\u001b[0m \u001b[0;34m**\u001b[0m\u001b[0mkwargs\u001b[0m\u001b[0;34m)\u001b[0m\u001b[0;34m:\u001b[0m\u001b[0;34m\u001b[0m\u001b[0;34m\u001b[0m\u001b[0m\n\u001b[0;32m-> 2812\u001b[0;31m     return gca().plot(\n\u001b[0m\u001b[1;32m   2813\u001b[0m         \u001b[0;34m*\u001b[0m\u001b[0margs\u001b[0m\u001b[0;34m,\u001b[0m \u001b[0mscalex\u001b[0m\u001b[0;34m=\u001b[0m\u001b[0mscalex\u001b[0m\u001b[0;34m,\u001b[0m \u001b[0mscaley\u001b[0m\u001b[0;34m=\u001b[0m\u001b[0mscaley\u001b[0m\u001b[0;34m,\u001b[0m\u001b[0;34m\u001b[0m\u001b[0;34m\u001b[0m\u001b[0m\n\u001b[1;32m   2814\u001b[0m         **({\"data\": data} if data is not None else {}), **kwargs)\n",
            "\u001b[0;32m/usr/local/lib/python3.10/dist-packages/matplotlib/axes/_axes.py\u001b[0m in \u001b[0;36mplot\u001b[0;34m(self, scalex, scaley, data, *args, **kwargs)\u001b[0m\n\u001b[1;32m   1686\u001b[0m         \"\"\"\n\u001b[1;32m   1687\u001b[0m         \u001b[0mkwargs\u001b[0m \u001b[0;34m=\u001b[0m \u001b[0mcbook\u001b[0m\u001b[0;34m.\u001b[0m\u001b[0mnormalize_kwargs\u001b[0m\u001b[0;34m(\u001b[0m\u001b[0mkwargs\u001b[0m\u001b[0;34m,\u001b[0m \u001b[0mmlines\u001b[0m\u001b[0;34m.\u001b[0m\u001b[0mLine2D\u001b[0m\u001b[0;34m)\u001b[0m\u001b[0;34m\u001b[0m\u001b[0;34m\u001b[0m\u001b[0m\n\u001b[0;32m-> 1688\u001b[0;31m         \u001b[0mlines\u001b[0m \u001b[0;34m=\u001b[0m \u001b[0;34m[\u001b[0m\u001b[0;34m*\u001b[0m\u001b[0mself\u001b[0m\u001b[0;34m.\u001b[0m\u001b[0m_get_lines\u001b[0m\u001b[0;34m(\u001b[0m\u001b[0;34m*\u001b[0m\u001b[0margs\u001b[0m\u001b[0;34m,\u001b[0m \u001b[0mdata\u001b[0m\u001b[0;34m=\u001b[0m\u001b[0mdata\u001b[0m\u001b[0;34m,\u001b[0m \u001b[0;34m**\u001b[0m\u001b[0mkwargs\u001b[0m\u001b[0;34m)\u001b[0m\u001b[0;34m]\u001b[0m\u001b[0;34m\u001b[0m\u001b[0;34m\u001b[0m\u001b[0m\n\u001b[0m\u001b[1;32m   1689\u001b[0m         \u001b[0;32mfor\u001b[0m \u001b[0mline\u001b[0m \u001b[0;32min\u001b[0m \u001b[0mlines\u001b[0m\u001b[0;34m:\u001b[0m\u001b[0;34m\u001b[0m\u001b[0;34m\u001b[0m\u001b[0m\n\u001b[1;32m   1690\u001b[0m             \u001b[0mself\u001b[0m\u001b[0;34m.\u001b[0m\u001b[0madd_line\u001b[0m\u001b[0;34m(\u001b[0m\u001b[0mline\u001b[0m\u001b[0;34m)\u001b[0m\u001b[0;34m\u001b[0m\u001b[0;34m\u001b[0m\u001b[0m\n",
            "\u001b[0;32m/usr/local/lib/python3.10/dist-packages/matplotlib/axes/_base.py\u001b[0m in \u001b[0;36m__call__\u001b[0;34m(self, data, *args, **kwargs)\u001b[0m\n\u001b[1;32m    309\u001b[0m                 \u001b[0mthis\u001b[0m \u001b[0;34m+=\u001b[0m \u001b[0margs\u001b[0m\u001b[0;34m[\u001b[0m\u001b[0;36m0\u001b[0m\u001b[0;34m]\u001b[0m\u001b[0;34m,\u001b[0m\u001b[0;34m\u001b[0m\u001b[0;34m\u001b[0m\u001b[0m\n\u001b[1;32m    310\u001b[0m                 \u001b[0margs\u001b[0m \u001b[0;34m=\u001b[0m \u001b[0margs\u001b[0m\u001b[0;34m[\u001b[0m\u001b[0;36m1\u001b[0m\u001b[0;34m:\u001b[0m\u001b[0;34m]\u001b[0m\u001b[0;34m\u001b[0m\u001b[0;34m\u001b[0m\u001b[0m\n\u001b[0;32m--> 311\u001b[0;31m             yield from self._plot_args(\n\u001b[0m\u001b[1;32m    312\u001b[0m                 this, kwargs, ambiguous_fmt_datakey=ambiguous_fmt_datakey)\n\u001b[1;32m    313\u001b[0m \u001b[0;34m\u001b[0m\u001b[0m\n",
            "\u001b[0;32m/usr/local/lib/python3.10/dist-packages/matplotlib/axes/_base.py\u001b[0m in \u001b[0;36m_plot_args\u001b[0;34m(self, tup, kwargs, return_kwargs, ambiguous_fmt_datakey)\u001b[0m\n\u001b[1;32m    502\u001b[0m \u001b[0;34m\u001b[0m\u001b[0m\n\u001b[1;32m    503\u001b[0m         \u001b[0;32mif\u001b[0m \u001b[0mx\u001b[0m\u001b[0;34m.\u001b[0m\u001b[0mshape\u001b[0m\u001b[0;34m[\u001b[0m\u001b[0;36m0\u001b[0m\u001b[0;34m]\u001b[0m \u001b[0;34m!=\u001b[0m \u001b[0my\u001b[0m\u001b[0;34m.\u001b[0m\u001b[0mshape\u001b[0m\u001b[0;34m[\u001b[0m\u001b[0;36m0\u001b[0m\u001b[0;34m]\u001b[0m\u001b[0;34m:\u001b[0m\u001b[0;34m\u001b[0m\u001b[0;34m\u001b[0m\u001b[0m\n\u001b[0;32m--> 504\u001b[0;31m             raise ValueError(f\"x and y must have same first dimension, but \"\n\u001b[0m\u001b[1;32m    505\u001b[0m                              f\"have shapes {x.shape} and {y.shape}\")\n\u001b[1;32m    506\u001b[0m         \u001b[0;32mif\u001b[0m \u001b[0mx\u001b[0m\u001b[0;34m.\u001b[0m\u001b[0mndim\u001b[0m \u001b[0;34m>\u001b[0m \u001b[0;36m2\u001b[0m \u001b[0;32mor\u001b[0m \u001b[0my\u001b[0m\u001b[0;34m.\u001b[0m\u001b[0mndim\u001b[0m \u001b[0;34m>\u001b[0m \u001b[0;36m2\u001b[0m\u001b[0;34m:\u001b[0m\u001b[0;34m\u001b[0m\u001b[0;34m\u001b[0m\u001b[0m\n",
            "\u001b[0;31mValueError\u001b[0m: x and y must have same first dimension, but have shapes (5,) and (1, 500)"
          ]
        },
        {
          "output_type": "display_data",
          "data": {
            "text/plain": [
              "<Figure size 640x480 with 1 Axes>"
            ],
            "image/png": "[encoded data removed]"
          },
          "metadata": {}
        }
      ],
      "source": [
        "import numpy as np\n",
        "\n",
        "class OptimizerLog:\n",
        "    \"\"\"Log to store optimizer's intermediate results\"\"\"\n",
        "    def __init__(self):\n",
        "        self.evaluations = []\n",
        "        self.parameters = []\n",
        "        self.costs = []\n",
        "    def update(self, evaluation, parameter, cost, _stepsize, _accept):\n",
        "        \"\"\"Save intermediate results. Optimizer passes five values\n",
        "        but we ignore the last two.\"\"\"\n",
        "        self.evaluations.append(evaluation)\n",
        "        self.parameters.append(parameter)\n",
        "        self.costs.append(cost)\n",
        "\n",
        "# Define  existing code here\n",
        "GlobalCostperRoundAll=[]\n",
        "clients=[]\n",
        "client_parameters=[]\n",
        "client_logs=[]\n",
        "\n",
        "# Initialize global parameters\n",
        "global_parameters = np.random.rand(VAR_FORM.num_parameters)  # Initialize with random values or any desired initial values\n",
        "\n",
        "# Federated training loop\n",
        "for round_num in range(num_rounds):\n",
        "    global_cost=[]\n",
        "    client_logs=[]\n",
        "    aggregated_params = np.zeros_like(global_parameters)  # Initialize aggregated parameters\n",
        "\n",
        "    # Train each client's data on their VQC models\n",
        "    for client_id, data in enumerate(client_data):\n",
        "        train_data, train_labels, _, _ = data\n",
        "\n",
        "        log = OptimizerLog()\n",
        "\n",
        "        vqc = VQC(\n",
        "            feature_map=FEATURE_MAP,\n",
        "            ansatz=VAR_FORM,\n",
        "            loss='cross_entropy',\n",
        "            optimizer=SPSA(callback=log.update),\n",
        "            initial_point=global_parameters,\n",
        "            quantum_instance=BasicAer.get_backend('qasm_simulator')\n",
        "            #statevector_simulator\n",
        "        )\n",
        "\n",
        "        vqc.fit(train_data, train_labels)\n",
        "\n",
        "        clients.append(vqc)\n",
        "        client_logs.append(log)\n",
        "\n",
        "        # Append the latest parameters to the client_parameters list\n",
        "        client_parameters.append(log.parameters[-1])\n",
        "        cost = log.costs[-1]\n",
        "        #print(f\"Round {round_num}, Client {client_id}: parameters = {log.parameters[-1]}\")\n",
        "\n",
        "        # Add the client's latest parameters to the aggregated_params\n",
        "        aggregated_params += log.parameters[-1]\n",
        "\n",
        "    # Average the aggregated parameters across clients\n",
        "    aggregated_params /= len(client_data)\n",
        "\n",
        "    # Update global parameters for the next round\n",
        "    global_parameters = aggregated_params\n",
        "\n",
        "    # Perform any global updates, e.g., update the global VQC model using global_parameters\n",
        "    #global_vqc.update_params(global_parameters)\n",
        "\n",
        "    # Print aggregated parameters and global updates\n",
        "    print(f\"Round {round_num}, Global parameters: {global_parameters}\")\n",
        "    global_model.fit(train_data, train_labels)\n",
        "\n",
        "    #print(f\"Round {round_num}, Global Cost: {min(global_cost)}\")\n",
        "\n",
        "global_cost = global_optimizer_log.costs\n",
        "GlobalCostperRoundAll.append(global_cost)\n",
        "print(\"======================================\")\n",
        "print(\"Global cost over communication rounds: \")\n",
        "print(GlobalCostperRoundAll)\n",
        "\n",
        "#each client cost variations over epochs\n",
        "import matplotlib.pyplot as plt\n",
        "#epoch = len(global_optimizer_log.evaluations)\n",
        "num_rounds= [i for i in range(50)]\n",
        "plt.plot(num_rounds, GlobalCostperRoundAll)\n",
        "#plt.plot(range(epoch), global_optimizer_log.costs, label='Global Cost')\n",
        "plt.xlabel('Round')\n",
        "plt.ylabel('Cost')\n",
        "plt.title('Cost Evolution for global model')\n",
        "plt.legend()\n",
        "plt.show()\n"
      ]
    },
    {
      "cell_type": "code",
      "source": [],
      "metadata": {
        "id": "I-fDV6e1rl_R"
      },
      "execution_count": null,
      "outputs": []
    },
    {
      "cell_type": "code",
      "execution_count": 35,
      "metadata": {
        "id": "kBscLCksCRyb",
        "colab": {
          "base_uri": "https://localhost:8080/",
          "height": 410
        },
        "outputId": "d3537b96-5b3d-4c64-c33b-b3be030cc00d"
      },
      "outputs": [
        {
          "output_type": "display_data",
          "data": {
            "text/plain": [
              "<Figure size 500x400 with 1 Axes>"
            ],
            "image/png": "[encoded data removed]"
          },
          "metadata": {}
        }
      ],
      "source": [
        "\n",
        "#each client cost variations over epochs\n",
        "import matplotlib.pyplot as plt\n",
        "plt.figure(figsize=(5, 4))\n",
        "# Plot cost for each client over rounds\n",
        "epoch = len(client_logs[0].evaluations)\n",
        "for client_id, log in enumerate(client_logs):\n",
        "    plt.plot(range(epoch), log.costs, label=f'Client {client_id + 1}')\n",
        "plt.plot(range(epoch), global_optimizer_log.costs[-100:], label=\"global\", linewidth=2, marker='*')\n",
        "#plt.plot(range(epoch), global_optimizer_log.costs, label='Global Cost')\n",
        "plt.xlabel('Round')\n",
        "plt.ylabel('Cost')\n",
        "plt.title('QiskitFL Cost Evolution for Optimization')\n",
        "plt.legend()\n",
        "plt.show()\n"
      ]
    },
    {
      "cell_type": "markdown",
      "metadata": {
        "id": "ajOZPul4FsV6"
      },
      "source": [
        "DUNQFL using Qiskit"
      ]
    },
    {
      "cell_type": "code",
      "source": [
        "#Step 01 - Deep Unfolding Framework for Optimization\n",
        "\n",
        "import torch\n",
        "import torch.nn as nn\n",
        "from torchvision import datasets, transforms\n",
        "import torch.nn.functional as F\n",
        "import torch.optim as optim\n",
        "import matplotlib.pyplot as plt\n",
        "import numpy as np\n",
        "#Define DUN network - using classical neural network\n",
        "#%%\n",
        "#%% this is for sgd optmizer to train unfolding\n",
        "#Data loading step and settings\n",
        "#%% Parameters\n",
        "T = 10                  # number of rounds for FL\n",
        "M = 100                 # number of learning iterations\n",
        "Es = [2, 1, 1, 1, 1]    # number of epochs\n",
        "batch_size = 50         # mini-batch size\n",
        "lr_du = 0.001           # learning rate for proposed preprocess\n",
        "mu = 0.01               # learning rate for ClientUpdate\n",
        "num_feature = 128       # dimension of hidden layers\n",
        "#q = 1                   # parameter for DR-FedAvg\n",
        "\n",
        "# Fixed parameters\n",
        "K = 5                   # number of clients\n",
        "datalocation = '/content/drive/MyDrive/Colab Notebooks/DeepUnfoldingFL/mnist/5clients_env3_4/'                     # data for env3\n",
        "N = sum([1713, 1713, 1713, 1713, 1716])                     # number of all training data for env3\n",
        "\n",
        "print(\"Set parameters\", flush=True)\n",
        "\n",
        "#%% Global Data Load\n",
        "root = '.'\n",
        "download = True\n",
        "trans = transforms.Compose([transforms.ToTensor(), transforms.Normalize((0.5,), (1.0,))])\n",
        "test_set = datasets.MNIST(root=root, train=False, transform=trans, download=download)\n",
        "test_loader = torch.utils.data.DataLoader(dataset=test_set, batch_size=batch_size, shuffle=False)\n",
        "\n",
        "print(\"Download done\", flush=True)\n",
        "\n",
        "#%% Local Data setting\n",
        "datasizes_test = []\n",
        "for i in range(K):\n",
        "    datasizes_test.append(int(round(len(test_set)/K)))\n",
        "test_sets = torch.utils.data.random_split(dataset=test_set, lengths=datasizes_test, generator=torch.Generator().manual_seed(42))\n",
        "\n",
        "test_loaders = []\n",
        "train_datasets = []\n",
        "\n",
        "for node in range (K):\n",
        "    localtraindata = np.load(datalocation+'train/'+str(node)+'.npz', allow_pickle=True)     # training data load\n",
        "    localtraindata = np.atleast_1d(localtraindata['data'])\n",
        "    inputs = localtraindata[0]['x']\n",
        "    targets = localtraindata[0]['y']\n",
        "    tensor_X = torch.stack([torch.from_numpy(i) for i in inputs])\n",
        "    tensor_y = torch.stack([torch.from_numpy(np.array(i)) for i in targets])\n",
        "    train_datasets.append(torch.utils.data.TensorDataset(tensor_X,tensor_y))\n",
        "    test_loaders.append(torch.utils.data.DataLoader(dataset=test_sets[node], batch_size=batch_size, shuffle=False))\n",
        "pk = [len(train_datasets[node])/N for node in range(K)]\n",
        "\n",
        "print(\"Set local data\", flush=True)\n",
        "\n",
        "\n",
        "#%% Definition of Initial Network\n",
        "class Net(nn.Module):\n",
        "    def __init__(self):\n",
        "        super(Net, self).__init__()\n",
        "        self.l1 = nn.Linear(784, num_feature)\n",
        "        self.l2 = nn.Linear(num_feature, num_feature)\n",
        "        self.l3 = nn.Linear(num_feature, 10)\n",
        "    def forward(self, x):\n",
        "        x = torch.relu(self.l1(x))\n",
        "        x = torch.relu(self.l2(x))\n",
        "        x = self.l3(x)\n",
        "        return F.log_softmax(x, dim=1)\n",
        "#%% Definition of Unfolded FL\n",
        "\n",
        "class TrainDUW(nn.Module):\n",
        "    def __init__(self) -> None:\n",
        "        super(TrainDUW, self).__init__()\n",
        "        self.thetak = nn.ParameterList([nn.Parameter(torch.ones(T)*np.sqrt(len(train_datasets[i])/N)) for i in range(K)])\n",
        "        # initial value: N_k/N\n",
        "    #def network(self, W1, b1, W2, b2, W3, b3, x):\n",
        "    def network(self, W1, b1, W2, b2, W3, b3, x):\n",
        "        x = torch.relu(torch.matmul(x,W1.T)+b1.T)\n",
        "        x = torch.relu(torch.matmul(x,W2.T)+b2.T)\n",
        "        x = F.log_softmax(torch.matmul(x,W3.T)+b3.T, dim=1)\n",
        "        return x\n",
        "    def forward(self, aveW1, aveb1, aveW2, aveb2, aveW3, aveb3):\n",
        "        outputlists = []\n",
        "        targetlists = []\n",
        "        for itr in range(T+1):\n",
        "            tmploss = 0.\n",
        "            outputlist = []\n",
        "            targetlist = []\n",
        "            if not itr == T:\n",
        "                sumweights = sum([self.thetak[x][itr]**2 for x in range(K)])\n",
        "            for node in range(K):\n",
        "                weight1, bias1, weight2, bias2, weight3, bias3 = aveW1, aveb1, aveW2, aveb2, aveW3, aveb3\n",
        "                weight1.requires_grad_(True)\n",
        "                bias1.requires_grad_(True)\n",
        "                weight2.requires_grad_(True)\n",
        "                bias2.requires_grad_(True)\n",
        "                weight3.requires_grad_(True)\n",
        "                bias3.requires_grad_(True)\n",
        "                train_loader_node = torch.utils.data.DataLoader(dataset=train_datasets[node], batch_size=batch_size, shuffle=True)\n",
        "                outputvalues = []\n",
        "                targetvalues = []\n",
        "                for ep in range(Es[node]):\n",
        "                    for (input, target) in train_loader_node:\n",
        "                        input = input.view(-1, 28*28)\n",
        "                        output = self.network(weight1,bias1,weight2,bias2,weight3,bias3,input)\n",
        "                        outputvalues.append(output)\n",
        "                        targetvalues.append(target)\n",
        "                        if not itr == T:\n",
        "                            loss = F.nll_loss(output, target)\n",
        "                            tmploss += loss.item()\n",
        "                            w1grad = torch.autograd.grad(loss,weight1,retain_graph=True)\n",
        "                            b1grad = torch.autograd.grad(loss,bias1,retain_graph=True)\n",
        "                            w2grad = torch.autograd.grad(loss,weight2,retain_graph=True)\n",
        "                            b2grad = torch.autograd.grad(loss,bias2,retain_graph=True)\n",
        "                            w3grad = torch.autograd.grad(loss,weight3,retain_graph=True)\n",
        "                            b3grad = torch.autograd.grad(loss,bias3,retain_graph=True)\n",
        "                            weight1 = weight1 - mu * w1grad[0].detach()\n",
        "                            bias1 = bias1 - mu * b1grad[0].detach()\n",
        "                            weight2 = weight2 - mu * w2grad[0].detach()\n",
        "                            bias2 = bias2 - mu * b2grad[0].detach()\n",
        "                            weight3 = weight3 - mu * w3grad[0].detach()\n",
        "                            bias3 = bias3 - mu * b3grad[0].detach()\n",
        "                if not itr == T:\n",
        "                    if node == 0:\n",
        "                        weight0 = self.thetak[node][itr]**2 / sumweights\n",
        "                        W1, b1, W2, b2, W3, b3 = weight1*weight0, bias1*weight0, weight2*weight0, bias2*weight0, weight3*weight0, bias3*weight0\n",
        "                    else:\n",
        "                        weightnode = self.thetak[node][itr]**2 / sumweights\n",
        "                        W1, b1, W2, b2, W3, b3 = W1 + weight1*weightnode, b1 + bias1*weightnode, W2 + weight2*weightnode, b2 + bias2*weightnode, W3 + weight3*weightnode, b3 + bias3*weightnode\n",
        "                outputlist.append(outputvalues)\n",
        "                targetlist.append(targetvalues)\n",
        "                if itr == T:\n",
        "                    print(self.thetak[node]**2/sumweights, flush=True)\n",
        "            aveW1, aveb1, aveW2, aveb2, aveW3, aveb3 = W1, b1, W2, b2, W3, b3\n",
        "            outputlists.append(outputlist)\n",
        "            targetlists.append(targetlist)\n",
        "        return outputlists, targetlists\n",
        "\n",
        "print(\"Network defined\", flush=True)"
      ],
      "metadata": {
        "colab": {
          "base_uri": "https://localhost:8080/",
          "height": 453
        },
        "id": "tLAvTI-GuVKP",
        "outputId": "0198ebef-82ed-42ef-fe00-44dc796c8a04"
      },
      "execution_count": 20,
      "outputs": [
        {
          "output_type": "stream",
          "name": "stdout",
          "text": [
            "Set parameters\n",
            "Download done\n"
          ]
        },
        {
          "output_type": "error",
          "ename": "FileNotFoundError",
          "evalue": "ignored",
          "traceback": [
            "\u001b[0;31m---------------------------------------------------------------------------\u001b[0m",
            "\u001b[0;31mFileNotFoundError\u001b[0m                         Traceback (most recent call last)",
            "\u001b[0;32m<ipython-input-20-c65165aeda02>\u001b[0m in \u001b[0;36m<cell line: 49>\u001b[0;34m()\u001b[0m\n\u001b[1;32m     48\u001b[0m \u001b[0;34m\u001b[0m\u001b[0m\n\u001b[1;32m     49\u001b[0m \u001b[0;32mfor\u001b[0m \u001b[0mnode\u001b[0m \u001b[0;32min\u001b[0m \u001b[0mrange\u001b[0m \u001b[0;34m(\u001b[0m\u001b[0mK\u001b[0m\u001b[0;34m)\u001b[0m\u001b[0;34m:\u001b[0m\u001b[0;34m\u001b[0m\u001b[0;34m\u001b[0m\u001b[0m\n\u001b[0;32m---> 50\u001b[0;31m     \u001b[0mlocaltraindata\u001b[0m \u001b[0;34m=\u001b[0m \u001b[0mnp\u001b[0m\u001b[0;34m.\u001b[0m\u001b[0mload\u001b[0m\u001b[0;34m(\u001b[0m\u001b[0mdatalocation\u001b[0m\u001b[0;34m+\u001b[0m\u001b[0;34m'train/'\u001b[0m\u001b[0;34m+\u001b[0m\u001b[0mstr\u001b[0m\u001b[0;34m(\u001b[0m\u001b[0mnode\u001b[0m\u001b[0;34m)\u001b[0m\u001b[0;34m+\u001b[0m\u001b[0;34m'.npz'\u001b[0m\u001b[0;34m,\u001b[0m \u001b[0mallow_pickle\u001b[0m\u001b[0;34m=\u001b[0m\u001b[0;32mTrue\u001b[0m\u001b[0;34m)\u001b[0m     \u001b[0;31m# training data load\u001b[0m\u001b[0;34m\u001b[0m\u001b[0;34m\u001b[0m\u001b[0m\n\u001b[0m\u001b[1;32m     51\u001b[0m     \u001b[0mlocaltraindata\u001b[0m \u001b[0;34m=\u001b[0m \u001b[0mnp\u001b[0m\u001b[0;34m.\u001b[0m\u001b[0matleast_1d\u001b[0m\u001b[0;34m(\u001b[0m\u001b[0mlocaltraindata\u001b[0m\u001b[0;34m[\u001b[0m\u001b[0;34m'data'\u001b[0m\u001b[0;34m]\u001b[0m\u001b[0;34m)\u001b[0m\u001b[0;34m\u001b[0m\u001b[0;34m\u001b[0m\u001b[0m\n\u001b[1;32m     52\u001b[0m     \u001b[0minputs\u001b[0m \u001b[0;34m=\u001b[0m \u001b[0mlocaltraindata\u001b[0m\u001b[0;34m[\u001b[0m\u001b[0;36m0\u001b[0m\u001b[0;34m]\u001b[0m\u001b[0;34m[\u001b[0m\u001b[0;34m'x'\u001b[0m\u001b[0;34m]\u001b[0m\u001b[0;34m\u001b[0m\u001b[0;34m\u001b[0m\u001b[0m\n",
            "\u001b[0;32m/usr/local/lib/python3.10/dist-packages/numpy/lib/npyio.py\u001b[0m in \u001b[0;36mload\u001b[0;34m(file, mmap_mode, allow_pickle, fix_imports, encoding, max_header_size)\u001b[0m\n\u001b[1;32m    403\u001b[0m             \u001b[0mown_fid\u001b[0m \u001b[0;34m=\u001b[0m \u001b[0;32mFalse\u001b[0m\u001b[0;34m\u001b[0m\u001b[0;34m\u001b[0m\u001b[0m\n\u001b[1;32m    404\u001b[0m         \u001b[0;32melse\u001b[0m\u001b[0;34m:\u001b[0m\u001b[0;34m\u001b[0m\u001b[0;34m\u001b[0m\u001b[0m\n\u001b[0;32m--> 405\u001b[0;31m             \u001b[0mfid\u001b[0m \u001b[0;34m=\u001b[0m \u001b[0mstack\u001b[0m\u001b[0;34m.\u001b[0m\u001b[0menter_context\u001b[0m\u001b[0;34m(\u001b[0m\u001b[0mopen\u001b[0m\u001b[0;34m(\u001b[0m\u001b[0mos_fspath\u001b[0m\u001b[0;34m(\u001b[0m\u001b[0mfile\u001b[0m\u001b[0;34m)\u001b[0m\u001b[0;34m,\u001b[0m \u001b[0;34m\"rb\"\u001b[0m\u001b[0;34m)\u001b[0m\u001b[0;34m)\u001b[0m\u001b[0;34m\u001b[0m\u001b[0;34m\u001b[0m\u001b[0m\n\u001b[0m\u001b[1;32m    406\u001b[0m             \u001b[0mown_fid\u001b[0m \u001b[0;34m=\u001b[0m \u001b[0;32mTrue\u001b[0m\u001b[0;34m\u001b[0m\u001b[0;34m\u001b[0m\u001b[0m\n\u001b[1;32m    407\u001b[0m \u001b[0;34m\u001b[0m\u001b[0m\n",
            "\u001b[0;31mFileNotFoundError\u001b[0m: [Errno 2] No such file or directory: '/content/drive/MyDrive/Colab Notebooks/DeepUnfoldingFL/mnist/5clients_env3_4/train/0.npz'"
          ]
        }
      ]
    },
    {
      "cell_type": "code",
      "source": [
        "#VQC deep unfolding structure\n",
        "import torch\n",
        "import torch.nn as nn\n",
        "import torch.nn.functional as F\n",
        "import torch.optim as optim\n",
        "\n",
        "vqc_instance = VQC(\n",
        "            feature_map=FEATURE_MAP,\n",
        "            ansatz=VAR_FORM,\n",
        "            loss='cross_entropy',\n",
        "            optimizer=SPSA(callback=log.update),\n",
        "            initial_point=global_parameters,\n",
        "            quantum_instance=BasicAer.get_backend('qasm_simulator')\n",
        "            #statevector_simulator\n",
        "        )\n",
        "class TrainDUW(nn.Module):\n",
        "    def __init__(self, K, T, train_datasets, Es, batch_size, mu) -> None:\n",
        "        super(TrainDUW, self).__init__()\n",
        "        self.K = K\n",
        "        self.T = T\n",
        "        self.train_datasets = train_datasets\n",
        "        self.Es = Es\n",
        "        self.batch_size = batch_size\n",
        "        self.mu = mu\n",
        "\n",
        "        # Initialize the VQC parameters (thetak) as nn.Parameter\n",
        "        self.thetak = nn.ParameterList([nn.Parameter(torch.ones(T) * 0.5) for _ in range(K)])\n",
        "\n",
        "    def network(self, x, vqc_parameters):\n",
        "        # Implement your VQC's quantum circuit here using vqc_parameters\n",
        "        # x is the input data\n",
        "        # vqc_parameters are the parameters of the VQC circuit\n",
        "        # Return the quantum circuit's output\n",
        "\n",
        "            # Update the parameters of the VQC instance using vqc_parameters\n",
        "        self.vqc_instance.ansatz.parameters = vqc_parameters\n",
        "\n",
        "        # Assuming you're using the VQC for classification, you can get predictions\n",
        "        # by using the `predict` method of the VQC instance\n",
        "        predictions = self.vqc_instance.predict(x)\n",
        "\n",
        "        return predictions\n",
        "\n",
        "    def forward(self, initial_vqc_parameters):\n",
        "        outputlists = []\n",
        "        targetlists = []\n",
        "\n",
        "        for itr in range(self.T + 1):\n",
        "            tmploss = 0.\n",
        "            outputlist = []\n",
        "            targetlist = []\n",
        "\n",
        "            if not itr == self.T:\n",
        "                sumweights = sum([self.thetak[x][itr]**2 for x in range(self.K)])\n",
        "\n",
        "            for node in range(self.K):\n",
        "                vqc_parameters = initial_vqc_parameters.clone().detach()\n",
        "                vqc_parameters.requires_grad_(True)\n",
        "\n",
        "                train_loader_node = torch.utils.data.DataLoader(dataset=self.train_datasets[node], batch_size=self.batch_size, shuffle=True)\n",
        "                outputvalues = []\n",
        "                targetvalues = []\n",
        "\n",
        "                for ep in range(self.Es[node]):\n",
        "                    for (input, target) in train_loader_node:\n",
        "                        output = self.network(input, vqc_parameters)\n",
        "                        outputvalues.append(output)\n",
        "                        targetvalues.append(target)\n",
        "\n",
        "                        if not itr == self.T:\n",
        "                            loss = F.nll_loss(output, target)\n",
        "                            tmploss += loss.item()\n",
        "                            parameter_gradients = torch.autograd.grad(loss, vqc_parameters, retain_graph=True)\n",
        "                            vqc_parameters = vqc_parameters - self.mu * parameter_gradients[0].detach()\n",
        "\n",
        "                # Update VQC parameters using the average of parameter updates\n",
        "                if not itr == self.T:\n",
        "                    if node == 0:\n",
        "                        vqc_parameters_0 = self.thetak[node][itr]**2 / sumweights\n",
        "                    else:\n",
        "                        vqc_parameters_node = self.thetak[node][itr]**2 / sumweights\n",
        "                        vqc_parameters = vqc_parameters + vqc_parameters_node\n",
        "\n",
        "                outputlist.append(outputvalues)\n",
        "                targetlist.append(targetvalues)\n",
        "\n",
        "                if itr == self.T:\n",
        "                    print(self.thetak[node] ** 2 / sumweights, flush=True)\n",
        "\n",
        "            initial_vqc_parameters = vqc_parameters\n",
        "            outputlists.append(outputlist)\n",
        "            targetlists.append(targetlist)\n",
        "\n",
        "        return outputlists, targetlists\n"
      ],
      "metadata": {
        "id": "WijaSyRA1-r6"
      },
      "execution_count": null,
      "outputs": []
    },
    {
      "cell_type": "code",
      "execution_count": 21,
      "metadata": {
        "id": "Sv-dIO0exXgL",
        "colab": {
          "base_uri": "https://localhost:8080/"
        },
        "outputId": "df071e30-4f8b-49a9-a581-6851b30a08f5"
      },
      "outputs": [
        {
          "output_type": "stream",
          "name": "stdout",
          "text": [
            "Round 0, Global Cost: 0.31902463352441046\n",
            "Round 1, Global Cost: 0.30397333429205214\n",
            "Round 2, Global Cost: 0.32702986148116897\n",
            "Round 3, Global Cost: 0.30237540080795705\n",
            "Round 4, Global Cost: 0.29232459910308844\n",
            "======================================\n",
            "Global cost over communication rounds: \n",
            "[0.30891148429336196, 0.30061601087623907, 0.30061601087623907, 0.2976748219028327, 0.2863973599301315]\n"
          ]
        }
      ],
      "source": [
        "import numpy as np\n",
        "# Training settings\n",
        "\n",
        "num_rounds = 5\n",
        "learning_rate = 0.01  # Adjust as needed\n",
        "# Define  existing code here\n",
        "GlobalCostperRound=[]\n",
        "clients=[]\n",
        "client_parameters=[]\n",
        "client_logs=[]\n",
        "\n",
        "# Define your existing code here\n",
        "\n",
        "# Initialize global parameters\n",
        "global_parameters = np.random.rand(VAR_FORM.num_parameters)  # Initialize with random values or any desired initial values\n",
        "\n",
        "# Initialize weights for each client\n",
        "client_weights = [0.2256, 0.1910, 0.1922, 0.1921, 0.1990]  # Adjust weights as needed\n",
        "\n",
        "#For each round I need to run DUN code and get the client weights.\n",
        "\n",
        "# Federated training loop\n",
        "# Federated training loop\n",
        "for round_num in range(num_rounds):\n",
        "    global_cost=[]\n",
        "    aggregated_params = np.zeros_like(global_parameters)  # Initialize aggregated parameters\n",
        "\n",
        "    # Train each client's data on their VQC models\n",
        "    for client_id, data in enumerate(client_data):\n",
        "        train_data, train_labels, _, _ = data\n",
        "\n",
        "        log = OptimizerLog()\n",
        "\n",
        "        vqc = VQC(\n",
        "            feature_map=FEATURE_MAP,\n",
        "            ansatz=VAR_FORM,\n",
        "            loss='cross_entropy',\n",
        "            optimizer=SPSA(callback=log.update),\n",
        "            initial_point=global_parameters,\n",
        "            quantum_instance=BasicAer.get_backend('qasm_simulator')\n",
        "        )\n",
        "\n",
        "        vqc.fit(train_data, train_labels)\n",
        "\n",
        "        clients.append(vqc)\n",
        "        client_logs.append(log)\n",
        "\n",
        "        # Append the latest parameters to the client_parameters list\n",
        "        client_parameters.append(log.parameters[-1])\n",
        "        cost = log.costs[-1]\n",
        "        #print(f\"Round {round_num}, Client {client_id}: parameters = {log.parameters[-1]}\")\n",
        "\n",
        "        # Add the client's latest parameters to the aggregated_params\n",
        "        aggregated_params += (client_weights[client_id] *log.parameters[-1])\n",
        "        #aggregated_params.append(client_weights[client_id] * client_parameters[client_id])\n",
        "\n",
        "     # Weighted aggregation step\n",
        "    weighted_aggregated_params = np.sum(aggregated_params, axis=0) / np.sum(client_weights)\n",
        "\n",
        "     #aggregated_params = np.mean(aggregated_params, axis=0)  # Calculate mean of parameters\n",
        "\n",
        "     # Update global parameters for the next round\n",
        "    global_parameters = weighted_aggregated_params  # Update global parameters with weighted aggregated values\n",
        "\n",
        "     # Update global parameters for the next round\n",
        "    global_parameters = aggregated_params\n",
        "\n",
        "    # Perform any global updates, e.g., update the global VQC model using global_parameters\n",
        "    #global_vqc.update_params(global_parameters)\n",
        "\n",
        "\n",
        "        # Print aggregated parameters and global updates\n",
        "    #print(f\"Round {round_num}, Global parameters: {global_parameters}\")\n",
        "    global_model.fit(train_data, train_labels)\n",
        "    global_cost = global_optimizer_log.costs\n",
        "    print(f\"Round {round_num}, Global Cost: {global_cost[-1]}\")\n",
        "\n",
        "    GlobalCostperRound.append(min(global_cost))\n",
        "\n",
        "print(\"======================================\")\n",
        "print(\"Global cost over communication rounds: \")\n",
        "print(GlobalCostperRound)\n"
      ]
    },
    {
      "cell_type": "code",
      "source": [
        "#each client cost variations over epochs\n",
        "import matplotlib.pyplot as plt\n",
        "plt.figure(figsize=(5, 4))\n",
        "# Plot cost for each client over rounds\n",
        "epoch = len(client_logs[0].evaluations)\n",
        "#for client_id, log in enumerate(client_logs):\n",
        "    #plt.plot(range(epoch), log.costs, label=f'Client {client_id + 1}')\n",
        "plt.plot(range(epoch), global_optimizer_log.costs[-100:], label=\"global\", linewidth=2, marker='*')\n",
        "#plt.plot(range(epoch), global_optimizer_log.costs, label='Global Cost')\n",
        "plt.xlabel('Round')\n",
        "plt.ylabel('Cost')\n",
        "plt.title('QiskitFL Cost Evolution for Optimization')\n",
        "plt.legend()\n",
        "plt.show()"
      ],
      "metadata": {
        "colab": {
          "base_uri": "https://localhost:8080/",
          "height": 410
        },
        "id": "JK3xCpPH8AY-",
        "outputId": "6563a475-314c-4c14-d708-9646be77914d"
      },
      "execution_count": 23,
      "outputs": [
        {
          "output_type": "display_data",
          "data": {
            "text/plain": [
              "<Figure size 500x400 with 1 Axes>"
            ],
            "image/png": "[encoded data removed]"
          },
          "metadata": {}
        }
      ]
    }
  ],
  "metadata": {
    "accelerator": "TPU",
    "colab": {
      "machine_shape": "hm",
      "provenance": [],
      "mount_file_id": "1YRpNg6jTAhAoC-gVRis2JGwB_HW0_msf",
      "authorship_tag": "ABX9TyPakrWDazcuCuUaO+kbenGE",
      "include_colab_link": true
    },
    "kernelspec": {
      "display_name": "Python 3",
      "name": "python3"
    },
    "language_info": {
      "name": "python"
    }
  },
  "nbformat": 4,
  "nbformat_minor": 0
}