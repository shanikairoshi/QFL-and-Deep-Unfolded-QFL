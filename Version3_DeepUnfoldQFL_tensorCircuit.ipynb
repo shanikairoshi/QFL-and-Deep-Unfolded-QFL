{
  "nbformat": 4,
  "nbformat_minor": 0,
  "metadata": {
    "colab": {
      "provenance": [],
      "authorship_tag": "ABX9TyNasv9ChctVTgJRIKA489Vw",
      "include_colab_link": true
    },
    "kernelspec": {
      "name": "python3",
      "display_name": "Python 3"
    },
    "language_info": {
      "name": "python"
    }
  },
  "cells": [
    {
      "cell_type": "markdown",
      "metadata": {
        "id": "view-in-github",
        "colab_type": "text"
      },
      "source": [
        "<a href=\"https://colab.research.google.com/github/shanikairoshi/QFL-with-DUN/blob/main/Version3_DeepUnfoldQFL_tensorCircuit.ipynb\" target=\"_parent\"><img src=\"https://colab.research.google.com/assets/colab-badge.svg\" alt=\"Open In Colab\"/></a>"
      ]
    },
    {
      "cell_type": "code",
      "execution_count": null,
      "metadata": {
        "id": "cdaWzw9Dnz2B"
      },
      "outputs": [],
      "source": []
    },
    {
      "cell_type": "code",
      "source": [
        "!pip install tensorcircuit"
      ],
      "metadata": {
        "colab": {
          "base_uri": "https://localhost:8080/"
        },
        "id": "Dh_SRnsMn_yR",
        "outputId": "933e52cc-87b0-49e6-d83f-83caa10116c7"
      },
      "execution_count": 1,
      "outputs": [
        {
          "output_type": "stream",
          "name": "stdout",
          "text": [
            "Collecting tensorcircuit\n",
            "  Downloading tensorcircuit-0.11.0-py3-none-any.whl (329 kB)\n",
            "\u001b[?25l     \u001b[90m━━━━━━━━━━━━━━━━━━━━━━━━━━━━━━━━━━━━━━━━\u001b[0m \u001b[32m0.0/329.4 kB\u001b[0m \u001b[31m?\u001b[0m eta \u001b[36m-:--:--\u001b[0m\r\u001b[2K     \u001b[91m━━━━━━━━━━━━━━━━━━━━━\u001b[0m\u001b[90m╺\u001b[0m\u001b[90m━━━━━━━━━━━━━━━━━━\u001b[0m \u001b[32m174.1/329.4 kB\u001b[0m \u001b[31m5.1 MB/s\u001b[0m eta \u001b[36m0:00:01\u001b[0m\r\u001b[2K     \u001b[90m━━━━━━━━━━━━━━━━━━━━━━━━━━━━━━━━━━━━━━━━\u001b[0m \u001b[32m329.4/329.4 kB\u001b[0m \u001b[31m5.9 MB/s\u001b[0m eta \u001b[36m0:00:00\u001b[0m\n",
            "\u001b[?25hRequirement already satisfied: numpy in /usr/local/lib/python3.10/dist-packages (from tensorcircuit) (1.25.2)\n",
            "Requirement already satisfied: scipy in /usr/local/lib/python3.10/dist-packages (from tensorcircuit) (1.11.4)\n",
            "Collecting tensornetwork (from tensorcircuit)\n",
            "  Downloading tensornetwork-0.4.6-py3-none-any.whl (364 kB)\n",
            "\u001b[2K     \u001b[90m━━━━━━━━━━━━━━━━━━━━━━━━━━━━━━━━━━━━━━━━\u001b[0m \u001b[32m364.3/364.3 kB\u001b[0m \u001b[31m9.9 MB/s\u001b[0m eta \u001b[36m0:00:00\u001b[0m\n",
            "\u001b[?25hRequirement already satisfied: networkx in /usr/local/lib/python3.10/dist-packages (from tensorcircuit) (3.2.1)\n",
            "Requirement already satisfied: graphviz>=0.11.1 in /usr/local/lib/python3.10/dist-packages (from tensornetwork->tensorcircuit) (0.20.1)\n",
            "Requirement already satisfied: opt-einsum>=2.3.0 in /usr/local/lib/python3.10/dist-packages (from tensornetwork->tensorcircuit) (3.3.0)\n",
            "Requirement already satisfied: h5py>=2.9.0 in /usr/local/lib/python3.10/dist-packages (from tensornetwork->tensorcircuit) (3.9.0)\n",
            "Installing collected packages: tensornetwork, tensorcircuit\n",
            "Successfully installed tensorcircuit-0.11.0 tensornetwork-0.4.6\n"
          ]
        }
      ]
    },
    {
      "cell_type": "code",
      "source": [
        "import tensorcircuit as tc\n",
        "import optax\n",
        "import jax.numpy as jnp\n",
        "import jax\n",
        "import tensorflow as tf\n",
        "import matplotlib.pyplot as plt\n",
        "from tqdm import tqdm\n",
        "\n",
        "from sklearn.mixture import GaussianMixture\n",
        "\n",
        "import os\n",
        "os.environ[\"CUDA_DEVICE_ORDER\"]=\"PCI_BUS_ID\"\n",
        "os.environ[\"CUDA_VISIBLE_DEVICES\"]=\"1\"\n",
        "os.environ[\"XLA_PYTHON_CLIENT_PREALLOCATE\"]=\"false\"\n",
        "os.environ[\"TF_FORCE_GPU_ALLOW_GROWTH\"]=\"true\"\n",
        "\n",
        "plt.rcParams[\"font.family\"] = \"serif\"\n",
        "plt.rcParams['mathtext.fontset'] = 'cm'\n",
        "plt.rcParams['mathtext.rm'] = 'serif'\n",
        "plt.rc('font', size=14)\n",
        "\n",
        "K = tc.set_backend('jax')\n",
        "key = jax.random.PRNGKey(42)\n",
        "tf.random.set_seed(42)\n",
        "\n",
        "\n",
        "dataset = 'mnist'\n",
        "# dataset = 'fashion'\n",
        "readout_mode = 'softmax'\n",
        "# readout_mode = 'sample'\n",
        "encoding_mode = 'vanilla'\n",
        "# encoding_mode = 'mean'\n",
        "# encoding_mode = 'half'\n",
        "\n",
        "T=5\n",
        "n = 8\n",
        "n_node = 8\n",
        "k = 20\n",
        "\n",
        "def filter(x, y, class_list):\n",
        "    keep = jnp.zeros(len(y)).astype(bool)\n",
        "    for c in class_list:\n",
        "        keep = keep | (y == c)\n",
        "    x, y = x[keep], y[keep]\n",
        "    y = jax.nn.one_hot(y, n_node)\n",
        "    return x, y\n",
        "\n",
        "def clf(params, c, k):\n",
        "    for j in range(k):\n",
        "        for i in range(n - 1):\n",
        "            c.cnot(i, i + 1)\n",
        "        for i in range(n):\n",
        "            c.rx(i, theta=params[3 * j, i])\n",
        "            c.rz(i, theta=params[3 * j + 1, i])\n",
        "            c.rx(i, theta=params[3 * j + 2, i])\n",
        "    return c\n",
        "\n",
        "def readout(c):\n",
        "    if readout_mode == 'softmax':\n",
        "        logits = []\n",
        "        for i in range(n_node):\n",
        "            logits.append(jnp.real(c.expectation([tc.gates.z(), [i,]])))\n",
        "        logits = jnp.stack(logits, axis=-1) * 10\n",
        "        probs = jax.nn.softmax(logits)\n",
        "    elif readout_mode == 'sample':\n",
        "        wf = jnp.abs(c.wavefunction()[:n_node])**2\n",
        "        probs = wf / jnp.sum(wf)\n",
        "    return probs\n",
        "\n",
        "def loss(params, x, y, k):\n",
        "    c = tc.Circuit(n, inputs=x)\n",
        "    c = clf(params, c, k)\n",
        "    probs = readout(c)\n",
        "    #print(\"Length of probability:\",len(probs))\n",
        "    #print(-jnp.mean(jnp.sum(y * jnp.log(probs + 1e-7), axis=-1)))\n",
        "    return -jnp.mean(jnp.sum(y * jnp.log(probs + 1e-7), axis=-1))\n",
        "loss = K.jit(loss, static_argnums=[3])\n",
        "\n",
        "def accuracy(params, x, y, k):\n",
        "    c = tc.Circuit(n, inputs=x)\n",
        "    c = clf(params, c, k)\n",
        "    probs = readout(c)\n",
        "    return jnp.argmax(probs, axis=-1) == jnp.argmax(y, axis=-1)\n",
        "accuracy = K.jit(accuracy, static_argnums=[3])\n",
        "\n",
        "compute_loss = K.jit(K.vectorized_value_and_grad(loss, vectorized_argnums=[1, 2]), static_argnums=[3])\n",
        "compute_accuracy = K.jit(K.vmap(accuracy, vectorized_argnums=[1, 2]), static_argnums=[3])\n",
        "\n",
        "def pred(params, x, k):\n",
        "    c = tc.Circuit(n, inputs=x)\n",
        "    c = clf(params, c, k)\n",
        "    probs = readout(c)\n",
        "    return probs\n",
        "pred = K.vmap(pred, vectorized_argnums=[1])\n",
        "\n",
        "compute_loss = K.jit(K.vectorized_value_and_grad(loss, vectorized_argnums=[1, 2]), static_argnums=[3])\n",
        "compute_accuracy = K.jit(K.vmap(accuracy, vectorized_argnums=[1, 2]), static_argnums=[3])"
      ],
      "metadata": {
        "id": "jZrTWhArn0y3"
      },
      "execution_count": 38,
      "outputs": []
    },
    {
      "cell_type": "code",
      "source": [
        "# numpy data\n",
        "if dataset == 'mnist':\n",
        "    (x_train, y_train), (x_test, y_test) = tf.keras.datasets.mnist.load_data()\n",
        "elif dataset == 'fashion':\n",
        "    (x_train, y_train), (x_test, y_test) = tf.keras.datasets.fashion_mnist.load_data()\n",
        "ind = y_test == 9\n",
        "x_test, y_test = x_test[~ind], y_test[~ind]\n",
        "ind = y_test == 8\n",
        "x_test, y_test = x_test[~ind], y_test[~ind]\n",
        "ind = y_train == 9\n",
        "x_train, y_train = x_train[~ind], y_train[~ind]\n",
        "ind = y_train == 8\n",
        "x_train, y_train = x_train[~ind], y_train[~ind]\n",
        "\n",
        "x_train = x_train / 255.0\n",
        "if encoding_mode == 'vanilla':\n",
        "    mean = 0\n",
        "elif encoding_mode == 'mean':\n",
        "    mean = jnp.mean(x_train, axis=0)\n",
        "elif encoding_mode == 'half':\n",
        "    mean = 0.5\n",
        "x_train = x_train - mean\n",
        "x_train = tf.image.resize(x_train[..., tf.newaxis], (int(2**(n/2)), int(2**(n/2)))).numpy()[..., 0].reshape(-1, 2**n)\n",
        "x_train = x_train / jnp.sqrt(jnp.sum(x_train**2, axis=-1, keepdims=True))\n",
        "\n",
        "x_test = x_test / 255.0\n",
        "x_test = x_test - mean\n",
        "x_test = tf.image.resize(x_test[..., tf.newaxis], (int(2**(n/2)), int(2**(n/2)))).numpy()[..., 0].reshape(-1, 2**n)\n",
        "x_test = x_test / jnp.sqrt(jnp.sum(x_test**2, axis=-1, keepdims=True))\n",
        "y_test = jax.nn.one_hot(y_test, n_node)\n",
        "\n",
        "def filter_pair(x, y, a, b):\n",
        "    keep = (y == a) | (y == b)\n",
        "    x, y = x[keep], y[keep]\n",
        "    y = jax.nn.one_hot(y, n_node)\n",
        "    return x, y\n"
      ],
      "metadata": {
        "id": "RtVOoTXdQ7l2"
      },
      "execution_count": 37,
      "outputs": []
    },
    {
      "cell_type": "code",
      "source": [],
      "metadata": {
        "id": "KzqVaZ-jRWHZ"
      },
      "execution_count": null,
      "outputs": []
    },
    {
      "cell_type": "code",
      "source": [
        "\n",
        "def Unfolded_FLtraining(params_list,opt_state_list):\n",
        "\n",
        "\n",
        "  paramslist_all = []\n",
        "  xlist_all = []\n",
        "  ylist_all = []\n",
        "  opt_statenodeall=[]\n",
        "\n",
        "\n",
        "\n",
        "  params_listnode=[]\n",
        "  xnode=[]\n",
        "  ynode=[]\n",
        "  opt_statenode=[]\n",
        "  loss_list=[]\n",
        "  acc_list = []\n",
        "\n",
        "\n",
        "  params_list=params_list\n",
        "  opt_state_list=opt_state_list\n",
        "\n",
        "  for t in tqdm(range(T), leave=False):\n",
        "    #for b in range(100):\n",
        "      print(\"Iteration \", t)\n",
        "\n",
        "\n",
        "      params_lists=[]\n",
        "      xnodelists=[]\n",
        "      ynodelists=[]\n",
        "      for node in range(n_node-1):\n",
        "        try:\n",
        "            x, y = next(iter_list[node])\n",
        "        except StopIteration:\n",
        "            iter_list[node] = iter(data_list[node])\n",
        "            x, y = next(iter_list[node])\n",
        "        x = x.numpy()\n",
        "        y = y.numpy()\n",
        "        loss_val, grad_val = compute_loss(params_list[node], x, y, k)\n",
        "        updates, opt_state_list[node] = opt.update(grad_val, opt_state_list[node], params_list[node])\n",
        "        params_list[node] = optax.apply_updates(params_list[node], updates)\n",
        "\n",
        "        params_listnode.append(params_list[node])\n",
        "        opt_statenode.append(opt_state_list[node])\n",
        "        xnode.append(x)\n",
        "        ynode.append(y)\n",
        "\n",
        "      avg_params = jnp.mean(jnp.stack(params_list, axis=0), axis=0)\n",
        "      for node in range(n_node-1):\n",
        "        params_list[node] = avg_params\n",
        "\n",
        "      paramslist_all.append(params_listnode)\n",
        "      xlist_all.append(xnode)\n",
        "      ylist_all.append(ynode)\n",
        "      opt_statenodeall.append(opt_statenode)\n",
        "        #if b % 25 == 0:\n",
        "      avg_loss = jnp.mean(compute_loss(avg_params, x_test[:1024], y_test[:1024], k)[0])\n",
        "      loss_list.append(avg_loss)\n",
        "      acc_list.append(compute_accuracy(avg_params, x_test[:1024], y_test[:1024], k).mean())\n",
        "      print(f\"Epoch {t}, loss {avg_loss}, accuracy {acc_list[-1]}\")\n",
        "\n",
        "  plt.plot(loss_list)\n",
        "  plt.plot(acc_list)\n",
        "  plt.legend(['loss', 'accuracy'])\n",
        "  plt.ylim(0, 3)\n",
        "  plt.show()\n",
        "\n",
        "  #jnp.save(f'./{dataset}/fedavg_loss.npy', loss_list)\n",
        "  #jnp.save(f'./{dataset}/fedavg_acc.npy', acc_list)\n",
        "\n",
        "  return paramslist_all, xlist_all, ylist_all, opt_statenodeall\n",
        "\n"
      ],
      "metadata": {
        "id": "x9OwtsheRWO9"
      },
      "execution_count": 19,
      "outputs": []
    },
    {
      "cell_type": "code",
      "source": [
        "def dunloss(paramslist_all, xlist_all, ylist_all, k): #pass karanawa iteration one and two node wala params and x,y\n",
        "#e pass karan param tika man ganna one fed process eke yaddi save karagathha ewa.\n",
        "#me process ekedi api eka eka iteration eke nemei all iteration waladi loss balala params set eka update keranwa.\n",
        "    losses=[]\n",
        "    # Iterate through the values row-wise for the specified column\n",
        "    for t in range (T):\n",
        "      for node in range(n_node-1):\n",
        "\n",
        "        #value = paramslist_all[t][node]\n",
        "        #inputs = xlist_all[t][node]\n",
        "\n",
        "        # Print the shape of the inputs for debugging\n",
        "        #print(f\"Node: {node}, Iteration: {t}, Input Shape: {inputs.shape}\")\n",
        "\n",
        "\n",
        "        #print(f\"Value for Column {0} Row {row + 1}: {value}\")\n",
        "        c = tc.Circuit(n, inputs=xlist_all[t][node])\n",
        "        probs = readout(c)\n",
        "        loss = -jnp.mean(jnp.sum(ylist_all[t][node] * jnp.log(probs + 1e-7), axis=-1))\n",
        "        #losses.append(loss)\n",
        "        #print(f\"Value for Column {0} Row {row + 1}: {probs}\")\n",
        "    #return jnp.sum(losses)  # Sum the losses for all nodes and iterations\n",
        "    return -jnp.mean(jnp.sum(ylist_all[t][node] * jnp.log(probs + 1e-7), axis=-1))\n",
        "\n",
        "dunloss = K.jit(dunloss, static_argnums=[3])\n",
        "\n",
        "compute_dunloss = K.jit(K.vectorized_value_and_grad(dunloss, vectorized_argnums=[1, 2]), static_argnums=[3])"
      ],
      "metadata": {
        "id": "a65mKrQYICUC"
      },
      "execution_count": 39,
      "outputs": []
    },
    {
      "cell_type": "code",
      "source": [
        "params_list = []\n",
        "opt_state_list = []\n",
        "data_list = []\n",
        "iter_list = []\n",
        "for node in tqdm(range(n_node-1)):\n",
        "    x_train_node, y_train_node = filter_pair(x_train, y_train, 0, node + 1)\n",
        "    data = tf.data.Dataset.from_tensor_slices((x_train_node, y_train_node)).batch(128)\n",
        "    data_list.append(data)\n",
        "    iter_list.append(iter(data))\n",
        "\n",
        "    key, subkey = jax.random.split(key)\n",
        "    params = jax.random.normal(subkey, (3 * k, n))\n",
        "    opt = optax.adam(learning_rate=1e-2)\n",
        "    opt_state = opt.init(params)\n",
        "    params_list.append(params)\n",
        "    opt_state_list.append(opt_state)\n",
        "\n",
        "Unfoldlayers=2\n",
        "for l in range(Unfoldlayers):\n",
        "    print(f\"Unfolding layer\", l)\n",
        "    paramslist_all, xlist_all, ylist_all, opt_statenodeall=Unfolded_FLtraining(params_list,opt_state_list)\n",
        "\n",
        "    unfoldlayer_wise_weights=[]\n",
        "\n",
        "    loss_val, grad_val = compute_dunloss(paramslist_all, xlist_all, ylist_all, k)\n",
        "\n",
        "    for t in range (T):\n",
        "      for node in range(n_node-1):\n",
        "          updates,opt_statenodeall[t][node]= opt.update(grad_val[t][node], opt_statenodeall[t][node], paramslist_all[t][node])\n",
        "          paramslist_all[t][node] = optax.apply_updates(paramslist_all[t][node], updates)\n",
        "          #print(paramslist_all[t][node])\n",
        "          #Assign last parameter set aggregation in last iteration in first deep layer\n",
        "    #at the end of the last iteration of each deep unfolding layer,  need to get average parameters and assign it to each nodes parameters.\n",
        "    #if t==T:\n",
        "    avg_params = jnp.mean(jnp.stack(paramslist_all[T-1], axis=0), axis=0)\n",
        "      #params=avg_params\n",
        "    for node in range(n_node-1):\n",
        "          params_list[node] = avg_params\n",
        "\n",
        "    #Calculate the weights using parameters now.\n",
        "    # Calculate sum of squares for each node and get normailzed values\n",
        "    sum_of_squares_per_iter = []\n",
        "    for t in range(T):\n",
        "        sum_of_squares_for_t =0\n",
        "        for node in range(n_node-1):\n",
        "            sum_of_squares_for_t+=jnp.sum(paramslist_all[t][node]**2)\n",
        "            print(sum_of_squares_for_t)\n",
        "            sum_of_squares_per_iter.append(sum_of_squares_for_t)\n",
        "    for t in range(T):\n",
        "      print(\"Sum of squared in iteration\",t,\" is \", sum_of_squares_per_iter[t])\n",
        "\n",
        "    normalized_weights_Per_it = []\n",
        "    for t in range(T):\n",
        "        normalized_weights_node=[]\n",
        "        for node in range(n_node-1):\n",
        "           #print(\"Iteration\", t)\n",
        "           nodeweights=jnp.sum((paramslist_all[t][node])**2)/jnp.array(sum_of_squares_per_iter[t])\n",
        "           #print(f\"Iteration {t}, Node {node}\", nodeweights )\n",
        "           #node_sum_of_squares[t][node] = (jnp.sum(paramslist_all[t][node]**2))/jnp.array(sum_of_squares_per_iter[t])\n",
        "           #print(len(node_sum_of_squares[]))\n",
        "\n",
        "           normalized_weights_node.append(nodeweights)\n",
        "        normalized_weights_Per_it.append(normalized_weights_node)\n",
        "    #print(normalized_weights_Per_it)\n",
        "\n",
        "    import csv\n",
        "\n",
        "    with open('weights.csv', 'w', newline='') as csvfile:\n",
        "      writer = csv.writer(csvfile)\n",
        "\n",
        "      # Write the header row\n",
        "      writer.writerow(['Iteration', 'Node', 'Weight'])\n",
        "\n",
        "      # Write the data rows\n",
        "      for i in range(T):\n",
        "        for j in range(n_node-1):\n",
        "            writer.writerow([i, j, normalized_weights_Per_it[i][j]])\n",
        "\n",
        "    with open('weights.csv', 'r') as csvfile:\n",
        "      reader = csv.reader(csvfile)\n",
        "\n",
        "      # Read the header row\n",
        "      header = next(reader)\n",
        "\n",
        "      # Read the data rows\n",
        "      for row in reader:\n",
        "        iteration, node, weight = row\n",
        "        #print(f'Iteration {iteration}, Node {node}, Weight {weight}')\n",
        "\n",
        "    print(\"Deep unfolding\", \"Layer\", l, \"done\")"
      ],
      "metadata": {
        "colab": {
          "base_uri": "https://localhost:8080/",
          "height": 1000
        },
        "id": "kMqzqPi07y5u",
        "outputId": "f18cce4d-ed13-4ddd-8a6b-e1b6d9d56b1b"
      },
      "execution_count": 50,
      "outputs": [
        {
          "output_type": "stream",
          "name": "stderr",
          "text": [
            "100%|██████████| 7/7 [00:00<00:00, 31.89it/s]\n"
          ]
        },
        {
          "output_type": "stream",
          "name": "stdout",
          "text": [
            "Unfolding layer 0\n"
          ]
        },
        {
          "output_type": "stream",
          "name": "stderr",
          "text": [
            "\r  0%|          | 0/5 [00:00<?, ?it/s]"
          ]
        },
        {
          "output_type": "stream",
          "name": "stdout",
          "text": [
            "Iteration  0\n"
          ]
        },
        {
          "output_type": "stream",
          "name": "stderr",
          "text": [
            "\r 20%|██        | 1/5 [00:04<00:17,  4.47s/it]"
          ]
        },
        {
          "output_type": "stream",
          "name": "stdout",
          "text": [
            "Epoch 0, loss 2.070585250854492, accuracy 0.169921875\n",
            "Iteration  1\n"
          ]
        },
        {
          "output_type": "stream",
          "name": "stderr",
          "text": [
            "\r 40%|████      | 2/5 [00:07<00:11,  3.70s/it]"
          ]
        },
        {
          "output_type": "stream",
          "name": "stdout",
          "text": [
            "Epoch 1, loss 2.054739475250244, accuracy 0.166015625\n",
            "Iteration  2\n"
          ]
        },
        {
          "output_type": "stream",
          "name": "stderr",
          "text": [
            "\r 60%|██████    | 3/5 [00:10<00:06,  3.45s/it]"
          ]
        },
        {
          "output_type": "stream",
          "name": "stdout",
          "text": [
            "Epoch 2, loss 2.0378098487854004, accuracy 0.173828125\n",
            "Iteration  3\n"
          ]
        },
        {
          "output_type": "stream",
          "name": "stderr",
          "text": [
            "\r 80%|████████  | 4/5 [00:14<00:03,  3.49s/it]"
          ]
        },
        {
          "output_type": "stream",
          "name": "stdout",
          "text": [
            "Epoch 3, loss 2.0215420722961426, accuracy 0.1748046875\n",
            "Iteration  4\n"
          ]
        },
        {
          "output_type": "stream",
          "name": "stderr",
          "text": [
            "                                             "
          ]
        },
        {
          "output_type": "stream",
          "name": "stdout",
          "text": [
            "Epoch 4, loss 2.006730794906616, accuracy 0.1728515625\n"
          ]
        },
        {
          "output_type": "stream",
          "name": "stderr",
          "text": [
            "\r"
          ]
        },
        {
          "output_type": "display_data",
          "data": {
            "text/plain": [
              "<Figure size 640x480 with 1 Axes>"
            ],
            "image/png": "[encoded data removed]"
          },
          "metadata": {}
        },
        {
          "output_type": "stream",
          "name": "stdout",
          "text": [
            "460.49744\n",
            "884.9363\n",
            "1312.4197\n",
            "1783.8882\n",
            "2254.972\n",
            "2715.3345\n",
            "3259.1133\n",
            "460.49744\n",
            "884.9363\n",
            "1312.4197\n",
            "1783.8882\n",
            "2254.972\n",
            "2715.3345\n",
            "3259.1133\n",
            "460.49744\n",
            "884.9363\n",
            "1312.4197\n",
            "1783.8882\n",
            "2254.972\n",
            "2715.3345\n",
            "3259.1133\n",
            "460.49744\n",
            "884.9363\n",
            "1312.4197\n",
            "1783.8882\n",
            "2254.972\n",
            "2715.3345\n",
            "3259.1133\n",
            "460.49744\n",
            "884.9363\n",
            "1312.4197\n",
            "1783.8882\n",
            "2254.972\n",
            "2715.3345\n",
            "3259.1133\n",
            "Sum of squared in iteration 0  is  3259.1133\n",
            "Sum of squared in iteration 1  is  3259.1133\n",
            "Sum of squared in iteration 2  is  3259.1133\n",
            "Sum of squared in iteration 3  is  3259.1133\n",
            "Sum of squared in iteration 4  is  3259.1133\n",
            "Deep unfolding Layer 0 done\n",
            "Unfolding layer 1\n"
          ]
        },
        {
          "output_type": "stream",
          "name": "stderr",
          "text": [
            "\r  0%|          | 0/5 [00:00<?, ?it/s]"
          ]
        },
        {
          "output_type": "stream",
          "name": "stdout",
          "text": [
            "Iteration  0\n"
          ]
        },
        {
          "output_type": "stream",
          "name": "stderr",
          "text": [
            "\r 20%|██        | 1/5 [00:03<00:13,  3.35s/it]"
          ]
        },
        {
          "output_type": "stream",
          "name": "stdout",
          "text": [
            "Epoch 0, loss 2.010016918182373, accuracy 0.1806640625\n",
            "Iteration  1\n"
          ]
        },
        {
          "output_type": "stream",
          "name": "stderr",
          "text": [
            "\r 40%|████      | 2/5 [00:06<00:09,  3.26s/it]"
          ]
        },
        {
          "output_type": "stream",
          "name": "stdout",
          "text": [
            "Epoch 1, loss 1.9930768013000488, accuracy 0.1865234375\n",
            "Iteration  2\n"
          ]
        },
        {
          "output_type": "stream",
          "name": "stderr",
          "text": [
            "\r 60%|██████    | 3/5 [00:10<00:07,  3.62s/it]"
          ]
        },
        {
          "output_type": "stream",
          "name": "stdout",
          "text": [
            "Epoch 2, loss 1.9779231548309326, accuracy 0.1875\n",
            "Iteration  3\n"
          ]
        },
        {
          "output_type": "stream",
          "name": "stderr",
          "text": [
            "\r 80%|████████  | 4/5 [00:13<00:03,  3.47s/it]"
          ]
        },
        {
          "output_type": "stream",
          "name": "stdout",
          "text": [
            "Epoch 3, loss 1.9654345512390137, accuracy 0.1875\n",
            "Iteration  4\n"
          ]
        },
        {
          "output_type": "stream",
          "name": "stderr",
          "text": [
            "                                             "
          ]
        },
        {
          "output_type": "stream",
          "name": "stdout",
          "text": [
            "Epoch 4, loss 1.950136423110962, accuracy 0.1943359375\n"
          ]
        },
        {
          "output_type": "stream",
          "name": "stderr",
          "text": [
            "\r"
          ]
        },
        {
          "output_type": "display_data",
          "data": {
            "text/plain": [
              "<Figure size 640x480 with 1 Axes>"
            ],
            "image/png": "[encoded data removed]"
          },
          "metadata": {}
        },
        {
          "output_type": "stream",
          "name": "stdout",
          "text": [
            "72.14206\n",
            "144.48607\n",
            "215.78136\n",
            "287.95898\n",
            "361.01572\n",
            "432.9206\n",
            "505.2682\n",
            "72.14206\n",
            "144.48607\n",
            "215.78136\n",
            "287.95898\n",
            "361.01572\n",
            "432.9206\n",
            "505.2682\n",
            "72.14206\n",
            "144.48607\n",
            "215.78136\n",
            "287.95898\n",
            "361.01572\n",
            "432.9206\n",
            "505.2682\n",
            "72.14206\n",
            "144.48607\n",
            "215.78136\n",
            "287.95898\n",
            "361.01572\n",
            "432.9206\n",
            "505.2682\n",
            "72.14206\n",
            "144.48607\n",
            "215.78136\n",
            "287.95898\n",
            "361.01572\n",
            "432.9206\n",
            "505.2682\n",
            "Sum of squared in iteration 0  is  505.2682\n",
            "Sum of squared in iteration 1  is  505.2682\n",
            "Sum of squared in iteration 2  is  505.2682\n",
            "Sum of squared in iteration 3  is  505.2682\n",
            "Sum of squared in iteration 4  is  505.2682\n",
            "Deep unfolding Layer 1 done\n"
          ]
        }
      ]
    },
    {
      "cell_type": "code",
      "source": [
        "# Write the data rows\n",
        "for i in range(T):\n",
        "    for j in range(n_node-1):\n",
        "        print([i, j, normalized_weights_Per_it[i][j]])"
      ],
      "metadata": {
        "colab": {
          "base_uri": "https://localhost:8080/"
        },
        "id": "rsdPQDRNZ7e4",
        "outputId": "98eb21a5-5146-429f-cee7-2d8ea64d0e87"
      },
      "execution_count": 46,
      "outputs": [
        {
          "output_type": "stream",
          "name": "stdout",
          "text": [
            "[0, 0, Array(0.14387189, dtype=float32)]\n",
            "[0, 1, Array(0.1430365, dtype=float32)]\n",
            "[0, 2, Array(0.14209446, dtype=float32)]\n",
            "[0, 3, Array(0.14292443, dtype=float32)]\n",
            "[0, 4, Array(0.14296223, dtype=float32)]\n",
            "[0, 5, Array(0.14301957, dtype=float32)]\n",
            "[0, 6, Array(0.14209089, dtype=float32)]\n",
            "[1, 0, Array(0.14387189, dtype=float32)]\n",
            "[1, 1, Array(0.1430365, dtype=float32)]\n",
            "[1, 2, Array(0.14209446, dtype=float32)]\n",
            "[1, 3, Array(0.14292443, dtype=float32)]\n",
            "[1, 4, Array(0.14296223, dtype=float32)]\n",
            "[1, 5, Array(0.14301957, dtype=float32)]\n",
            "[1, 6, Array(0.14209089, dtype=float32)]\n",
            "[2, 0, Array(0.14387189, dtype=float32)]\n",
            "[2, 1, Array(0.1430365, dtype=float32)]\n",
            "[2, 2, Array(0.14209446, dtype=float32)]\n",
            "[2, 3, Array(0.14292443, dtype=float32)]\n",
            "[2, 4, Array(0.14296223, dtype=float32)]\n",
            "[2, 5, Array(0.14301957, dtype=float32)]\n",
            "[2, 6, Array(0.14209089, dtype=float32)]\n",
            "[3, 0, Array(0.14387189, dtype=float32)]\n",
            "[3, 1, Array(0.1430365, dtype=float32)]\n",
            "[3, 2, Array(0.14209446, dtype=float32)]\n",
            "[3, 3, Array(0.14292443, dtype=float32)]\n",
            "[3, 4, Array(0.14296223, dtype=float32)]\n",
            "[3, 5, Array(0.14301957, dtype=float32)]\n",
            "[3, 6, Array(0.14209089, dtype=float32)]\n",
            "[4, 0, Array(0.14387189, dtype=float32)]\n",
            "[4, 1, Array(0.1430365, dtype=float32)]\n",
            "[4, 2, Array(0.14209446, dtype=float32)]\n",
            "[4, 3, Array(0.14292443, dtype=float32)]\n",
            "[4, 4, Array(0.14296223, dtype=float32)]\n",
            "[4, 5, Array(0.14301957, dtype=float32)]\n",
            "[4, 6, Array(0.14209089, dtype=float32)]\n"
          ]
        }
      ]
    },
    {
      "cell_type": "code",
      "source": [
        "   for t in tqdm(range(T)):\n",
        "        weights_dict={}\n",
        "        with open('weights.csv', 'r') as csvfile:\n",
        "          reader = csv.reader(csvfile)\n",
        "          # Read the header row\n",
        "          header = next(reader)\n",
        "          # Read the data rows for the desired iteration\n",
        "          for row in reader:\n",
        "            iteration, node, weight = map(float, row)  # Convert to int assuming iteration and node are integers\n",
        "            if iteration == t:\n",
        "                  weights_dict[node] = weight\n",
        "          # Now you have a dictionary with node as keys and weights as values for the specified iteration\n",
        "        print(\"Weights for iteration\", t, \":\", weights_dict)"
      ],
      "metadata": {
        "colab": {
          "base_uri": "https://localhost:8080/"
        },
        "id": "SZ6DhEhRK6N4",
        "outputId": "9833d570-11d3-46f8-baee-0324ca92f5a5"
      },
      "execution_count": 41,
      "outputs": [
        {
          "output_type": "stream",
          "name": "stderr",
          "text": [
            "100%|██████████| 5/5 [00:00<00:00, 1131.76it/s]"
          ]
        },
        {
          "output_type": "stream",
          "name": "stdout",
          "text": [
            "Weights for iteration 0 : {0.0: 0.14247216, 1.0: 0.14304182, 2.0: 0.14500764, 3.0: 0.14281717, 4.0: 0.14207053, 5.0: 0.1438871, 6.0: 0.14070356}\n",
            "Weights for iteration 1 : {0.0: 0.14247216, 1.0: 0.14304182, 2.0: 0.14500764, 3.0: 0.14281717, 4.0: 0.14207053, 5.0: 0.1438871, 6.0: 0.14070356}\n",
            "Weights for iteration 2 : {0.0: 0.14247216, 1.0: 0.14304182, 2.0: 0.14500764, 3.0: 0.14281717, 4.0: 0.14207053, 5.0: 0.1438871, 6.0: 0.14070356}\n",
            "Weights for iteration 3 : {0.0: 0.14247216, 1.0: 0.14304182, 2.0: 0.14500764, 3.0: 0.14281717, 4.0: 0.14207053, 5.0: 0.1438871, 6.0: 0.14070356}\n",
            "Weights for iteration 4 : {0.0: 0.14247216, 1.0: 0.14304182, 2.0: 0.14500764, 3.0: 0.14281717, 4.0: 0.14207053, 5.0: 0.1438871, 6.0: 0.14070356}\n"
          ]
        },
        {
          "output_type": "stream",
          "name": "stderr",
          "text": [
            "\n"
          ]
        }
      ]
    },
    {
      "cell_type": "code",
      "source": [
        "if __name__ == '__main__':\n",
        "#def fedlearning(weights,method,params):\n",
        "    # numpy data\n",
        "    if dataset == 'mnist':\n",
        "        (x_train, y_train), (x_test, y_test) = tf.keras.datasets.mnist.load_data()\n",
        "    elif dataset == 'fashion':\n",
        "        (x_train, y_train), (x_test, y_test) = tf.keras.datasets.fashion_mnist.load_data()\n",
        "    ind = y_test == 9\n",
        "    x_test, y_test = x_test[~ind], y_test[~ind]\n",
        "    ind = y_test == 8\n",
        "    x_test, y_test = x_test[~ind], y_test[~ind]\n",
        "    ind = y_train == 9\n",
        "    x_train, y_train = x_train[~ind], y_train[~ind]\n",
        "    ind = y_train == 8\n",
        "    x_train, y_train = x_train[~ind], y_train[~ind]\n",
        "\n",
        "    x_train = x_train / 255.0\n",
        "    if encoding_mode == 'vanilla':\n",
        "        mean = 0\n",
        "    elif encoding_mode == 'mean':\n",
        "        mean = jnp.mean(x_train, axis=0)\n",
        "    elif encoding_mode == 'half':\n",
        "        mean = 0.5\n",
        "    x_train = x_train - mean\n",
        "    x_train = tf.image.resize(x_train[..., tf.newaxis], (int(2**(n/2)), int(2**(n/2)))).numpy()[..., 0].reshape(-1, 2**n)\n",
        "    x_train = x_train / jnp.sqrt(jnp.sum(x_train**2, axis=-1, keepdims=True))\n",
        "\n",
        "    x_test = x_test / 255.0\n",
        "    x_test = x_test - mean\n",
        "    x_test = tf.image.resize(x_test[..., tf.newaxis], (int(2**(n/2)), int(2**(n/2)))).numpy()[..., 0].reshape(-1, 2**n)\n",
        "    x_test = x_test / jnp.sqrt(jnp.sum(x_test**2, axis=-1, keepdims=True))\n",
        "    y_test = jax.nn.one_hot(y_test, n_node)\n",
        "\n",
        "    world_train_loss = []\n",
        "    world_test_loss = []\n",
        "    world_train_acc = []\n",
        "    world_test_acc = []\n",
        "    paramslist_all = []\n",
        "    xlist_all = []\n",
        "    ylist_all = []\n",
        "    opt_statenodeall=[]\n",
        "\n",
        "    params_list = []\n",
        "    opt_state_list = []\n",
        "    data_list = []\n",
        "    iter_list = []\n",
        "    params_lists=[]\n",
        "    xnodelists=[]\n",
        "    ynodelists=[]\n",
        "    for node in range(n_node-1):\n",
        "        x_train_node, y_train_node = filter(x_train, y_train, [0, node+1])\n",
        "        # x_train_node, y_train_node = x_train, jax.nn.one_hot(y_train, n_node)\n",
        "        data = tf.data.Dataset.from_tensor_slices((x_train_node, y_train_node)).batch(128)\n",
        "        data_list.append(data)\n",
        "        iter_list.append(iter(data))\n",
        "\n",
        "        key, subkey = jax.random.split(key)\n",
        "        params = jax.random.normal(subkey, (3 * k, n))\n",
        "            #params=params\n",
        "        opt = optax.adam(learning_rate=1e-2)\n",
        "        opt_state = opt.init(params)\n",
        "        params_list.append(params)\n",
        "        opt_state_list.append(opt_state)\n",
        "\n",
        "        #weights=[0.14114611,0.14295208,14467925,14332035,14269364,14413896,14106953]\n",
        "\n",
        "    for t in tqdm(range(T)):\n",
        "        weights_dict={}\n",
        "        with open('weights.csv', 'r') as csvfile:\n",
        "          reader = csv.reader(csvfile)\n",
        "          # Read the header row\n",
        "          header = next(reader)\n",
        "          # Read the data rows for the desired iteration\n",
        "          for row in reader:\n",
        "            iteration, node, weight = map(float, row)  # Convert to int assuming iteration and node are integers\n",
        "            if iteration == t:\n",
        "                  weights_dict[node] = weight\n",
        "          # Now you have a dictionary with node as keys and weights as values for the specified iteration\n",
        "        print(\"Weights for iteration\", t, \":\", weights_dict)\n",
        "\n",
        "\n",
        "        loss_list = []\n",
        "        acc_list = []\n",
        "        params_listnode=[]\n",
        "        xnode=[]\n",
        "        ynode=[]\n",
        "        opt_statenode=[]\n",
        "        weighted_paramlist=[]\n",
        "\n",
        "        for node in range(n_node-1):\n",
        "            #for b in range(100):\n",
        "            #print(\"node\", node)\n",
        "\n",
        "            try:\n",
        "              x, y = next(iter_list[node])\n",
        "            except StopIteration:\n",
        "              iter_list[node] = iter(data_list[node])\n",
        "              x, y = next(iter_list[node])\n",
        "            x = x.numpy()\n",
        "            y = y.numpy()\n",
        "            loss_val, grad_val = compute_loss(params_list[node], x, y, k)\n",
        "            #print(\"loss lenth\",node, \"is\", len(loss_val))\n",
        "            #print(\"grad lenth\",node, \"is\", len(grad_val))\n",
        "            #print(\"para length\",node, \"is\", len(params_list[node]))\n",
        "            updates, opt_state_list[node] = opt.update(grad_val, opt_state_list[node], params_list[node])\n",
        "            params_list[node] = optax.apply_updates(params_list[node], updates)\n",
        "                #print(loss_val)\n",
        "            #if method==\"dunQFL\":\n",
        "            #params_list[node] = params_list[node]*normalized_weights_Per_it[t][node]\n",
        "            #if method==\"QFL\":\n",
        "              #params_list[node]=params_list[node]\n",
        "\n",
        "\n",
        "            #print(weighted_paramlist[node])\n",
        "            params_listnode.append(params_list[node])\n",
        "            opt_statenode.append(opt_state_list[node])\n",
        "            xnode.append(x)\n",
        "            ynode.append(y)\n",
        "            print(weights_dict[node])\n",
        "            params_list[node]=params_list[node] * weights_dict[node]\n",
        "\n",
        "        avg_params = jnp.mean(jnp.stack(params_list, axis=0), axis=0)\n",
        "\n",
        "\n",
        "        for node in range(n_node-1):\n",
        "            params_list[node] = avg_params\n",
        "\n",
        "                #if b % 25 == 0:\n",
        "        avg_loss = jnp.mean(compute_loss(avg_params, x_test[:1024], y_test[:1024], k)[0])\n",
        "        loss_list.append(avg_loss)\n",
        "        acc_list.append(compute_accuracy(avg_params, x_test[:1024], y_test[:1024], k).mean())\n",
        "        tqdm.write(f\"Iteration {t}, loss {avg_loss}, accuracy {acc_list[-1]}\")\n",
        "\n",
        "        paramslist_all.append(params_listnode)\n",
        "        xlist_all.append(xnode)\n",
        "        ylist_all.append(ynode)\n",
        "        opt_statenodeall.append(opt_statenode)\n",
        "        test_acc = jnp.mean(pred(avg_params, x_test[:1024], k).argmax(axis=-1) == y_test[:1024].argmax(axis=-1))\n",
        "        test_loss = -jnp.mean(jnp.log(pred(avg_params, x_test[:1024], k)) * y_test[:1024])\n",
        "\n",
        "        world_train_loss.append(loss_list)\n",
        "        world_test_loss.append(test_loss)\n",
        "        world_train_acc.append(acc_list)\n",
        "        world_test_acc.append(test_acc)\n",
        "        #tqdm.write(f\"world {world}: test loss {test_loss}, test accuracy {test_acc}\")\n",
        "        #print(len(paramslist_all[0]))\n",
        "\n",
        "    #return paramslist_all, xlist_all, ylist_all,opt_statenodeall\n",
        "\n",
        "    #avg_test_loss = jnp.mean(jnp.array(world_test_loss), axis=0)\n",
        "    #avg_test_acc = jnp.mean(jnp.array(world_test_acc), axis=0)\n",
        "    #std_test_loss = jnp.std(jnp.array(world_test_loss), axis=0)\n",
        "    #std_test_acc = jnp.std(jnp.array(world_test_acc), axis=0)\n",
        "    #print(f'test loss: {avg_test_loss}+-{std_test_loss}, test acc: {avg_test_acc}+-{std_test_acc}')"
      ],
      "metadata": {
        "colab": {
          "base_uri": "https://localhost:8080/",
          "height": 897
        },
        "id": "ec2o_RcDKhZQ",
        "outputId": "ff4ab085-b692-4b47-a25c-ea9ee4b0a54e"
      },
      "execution_count": 43,
      "outputs": [
        {
          "output_type": "stream",
          "name": "stderr",
          "text": [
            "\r  0%|          | 0/5 [00:00<?, ?it/s]"
          ]
        },
        {
          "output_type": "stream",
          "name": "stdout",
          "text": [
            "Weights for iteration 0 : {0.0: 0.14247216, 1.0: 0.14304182, 2.0: 0.14500764, 3.0: 0.14281717, 4.0: 0.14207053, 5.0: 0.1438871, 6.0: 0.14070356}\n",
            "0.14247216\n",
            "0.14304182\n",
            "0.14500764\n",
            "0.14281717\n",
            "0.14207053\n",
            "0.1438871\n",
            "0.14070356\n"
          ]
        },
        {
          "output_type": "stream",
          "name": "stderr",
          "text": [
            "  0%|          | 0/5 [00:03<?, ?it/s]"
          ]
        },
        {
          "output_type": "stream",
          "name": "stdout",
          "text": [
            "Iteration 0, loss 3.1473207473754883, accuracy 0.134765625\n"
          ]
        },
        {
          "output_type": "stream",
          "name": "stderr",
          "text": [
            "\r 20%|██        | 1/5 [00:09<00:37,  9.25s/it]"
          ]
        },
        {
          "output_type": "stream",
          "name": "stdout",
          "text": [
            "Weights for iteration 1 : {0.0: 0.14247216, 1.0: 0.14304182, 2.0: 0.14500764, 3.0: 0.14281717, 4.0: 0.14207053, 5.0: 0.1438871, 6.0: 0.14070356}\n",
            "0.14247216\n",
            "0.14304182\n",
            "0.14500764\n",
            "0.14281717\n",
            "0.14207053\n",
            "0.1438871\n",
            "0.14070356\n"
          ]
        },
        {
          "output_type": "stream",
          "name": "stderr",
          "text": [
            " 20%|██        | 1/5 [00:12<00:37,  9.25s/it]"
          ]
        },
        {
          "output_type": "stream",
          "name": "stdout",
          "text": [
            "Iteration 1, loss 3.28305721282959, accuracy 0.1298828125\n"
          ]
        },
        {
          "output_type": "stream",
          "name": "stderr",
          "text": [
            "\r 40%|████      | 2/5 [00:16<00:24,  8.11s/it]"
          ]
        },
        {
          "output_type": "stream",
          "name": "stdout",
          "text": [
            "Weights for iteration 2 : {0.0: 0.14247216, 1.0: 0.14304182, 2.0: 0.14500764, 3.0: 0.14281717, 4.0: 0.14207053, 5.0: 0.1438871, 6.0: 0.14070356}\n",
            "0.14247216\n",
            "0.14304182\n",
            "0.14500764\n",
            "0.14281717\n",
            "0.14207053\n",
            "0.1438871\n",
            "0.14070356\n"
          ]
        },
        {
          "output_type": "stream",
          "name": "stderr",
          "text": [
            " 40%|████      | 2/5 [00:21<00:24,  8.11s/it]"
          ]
        },
        {
          "output_type": "stream",
          "name": "stdout",
          "text": [
            "Iteration 2, loss 3.2869949340820312, accuracy 0.130859375\n"
          ]
        },
        {
          "output_type": "stream",
          "name": "stderr",
          "text": [
            "\r 40%|████      | 2/5 [00:23<00:35, 11.67s/it]\n"
          ]
        },
        {
          "output_type": "error",
          "ename": "KeyboardInterrupt",
          "evalue": "",
          "traceback": [
            "\u001b[0;31m---------------------------------------------------------------------------\u001b[0m",
            "\u001b[0;31mKeyboardInterrupt\u001b[0m                         Traceback (most recent call last)",
            "\u001b[0;32m<ipython-input-43-4e922620b9da>\u001b[0m in \u001b[0;36m<cell line: 1>\u001b[0;34m()\u001b[0m\n\u001b[1;32m    137\u001b[0m         \u001b[0mopt_statenodeall\u001b[0m\u001b[0;34m.\u001b[0m\u001b[0mappend\u001b[0m\u001b[0;34m(\u001b[0m\u001b[0mopt_statenode\u001b[0m\u001b[0;34m)\u001b[0m\u001b[0;34m\u001b[0m\u001b[0;34m\u001b[0m\u001b[0m\n\u001b[1;32m    138\u001b[0m         \u001b[0mtest_acc\u001b[0m \u001b[0;34m=\u001b[0m \u001b[0mjnp\u001b[0m\u001b[0;34m.\u001b[0m\u001b[0mmean\u001b[0m\u001b[0;34m(\u001b[0m\u001b[0mpred\u001b[0m\u001b[0;34m(\u001b[0m\u001b[0mavg_params\u001b[0m\u001b[0;34m,\u001b[0m \u001b[0mx_test\u001b[0m\u001b[0;34m[\u001b[0m\u001b[0;34m:\u001b[0m\u001b[0;36m1024\u001b[0m\u001b[0;34m]\u001b[0m\u001b[0;34m,\u001b[0m \u001b[0mk\u001b[0m\u001b[0;34m)\u001b[0m\u001b[0;34m.\u001b[0m\u001b[0margmax\u001b[0m\u001b[0;34m(\u001b[0m\u001b[0maxis\u001b[0m\u001b[0;34m=\u001b[0m\u001b[0;34m-\u001b[0m\u001b[0;36m1\u001b[0m\u001b[0;34m)\u001b[0m \u001b[0;34m==\u001b[0m \u001b[0my_test\u001b[0m\u001b[0;34m[\u001b[0m\u001b[0;34m:\u001b[0m\u001b[0;36m1024\u001b[0m\u001b[0;34m]\u001b[0m\u001b[0;34m.\u001b[0m\u001b[0margmax\u001b[0m\u001b[0;34m(\u001b[0m\u001b[0maxis\u001b[0m\u001b[0;34m=\u001b[0m\u001b[0;34m-\u001b[0m\u001b[0;36m1\u001b[0m\u001b[0;34m)\u001b[0m\u001b[0;34m)\u001b[0m\u001b[0;34m\u001b[0m\u001b[0;34m\u001b[0m\u001b[0m\n\u001b[0;32m--> 139\u001b[0;31m         \u001b[0mtest_loss\u001b[0m \u001b[0;34m=\u001b[0m \u001b[0;34m-\u001b[0m\u001b[0mjnp\u001b[0m\u001b[0;34m.\u001b[0m\u001b[0mmean\u001b[0m\u001b[0;34m(\u001b[0m\u001b[0mjnp\u001b[0m\u001b[0;34m.\u001b[0m\u001b[0mlog\u001b[0m\u001b[0;34m(\u001b[0m\u001b[0mpred\u001b[0m\u001b[0;34m(\u001b[0m\u001b[0mavg_params\u001b[0m\u001b[0;34m,\u001b[0m \u001b[0mx_test\u001b[0m\u001b[0;34m[\u001b[0m\u001b[0;34m:\u001b[0m\u001b[0;36m1024\u001b[0m\u001b[0;34m]\u001b[0m\u001b[0;34m,\u001b[0m \u001b[0mk\u001b[0m\u001b[0;34m)\u001b[0m\u001b[0;34m)\u001b[0m \u001b[0;34m*\u001b[0m \u001b[0my_test\u001b[0m\u001b[0;34m[\u001b[0m\u001b[0;34m:\u001b[0m\u001b[0;36m1024\u001b[0m\u001b[0;34m]\u001b[0m\u001b[0;34m)\u001b[0m\u001b[0;34m\u001b[0m\u001b[0;34m\u001b[0m\u001b[0m\n\u001b[0m\u001b[1;32m    140\u001b[0m \u001b[0;34m\u001b[0m\u001b[0m\n\u001b[1;32m    141\u001b[0m         \u001b[0mworld_train_loss\u001b[0m\u001b[0;34m.\u001b[0m\u001b[0mappend\u001b[0m\u001b[0;34m(\u001b[0m\u001b[0mloss_list\u001b[0m\u001b[0;34m)\u001b[0m\u001b[0;34m\u001b[0m\u001b[0;34m\u001b[0m\u001b[0m\n",
            "\u001b[0;32m/usr/local/lib/python3.10/dist-packages/tensorcircuit/backends/jax_backend.py\u001b[0m in \u001b[0;36mwrapper\u001b[0;34m(*args, **kws)\u001b[0m\n\u001b[1;32m    711\u001b[0m         \u001b[0;32mdef\u001b[0m \u001b[0mwrapper\u001b[0m\u001b[0;34m(\u001b[0m\u001b[0;34m*\u001b[0m\u001b[0margs\u001b[0m\u001b[0;34m:\u001b[0m \u001b[0mAny\u001b[0m\u001b[0;34m,\u001b[0m \u001b[0;34m**\u001b[0m\u001b[0mkws\u001b[0m\u001b[0;34m:\u001b[0m \u001b[0mAny\u001b[0m\u001b[0;34m)\u001b[0m \u001b[0;34m->\u001b[0m \u001b[0mTensor\u001b[0m\u001b[0;34m:\u001b[0m\u001b[0;34m\u001b[0m\u001b[0;34m\u001b[0m\u001b[0m\n\u001b[1;32m    712\u001b[0m             \u001b[0min_axes\u001b[0m \u001b[0;34m=\u001b[0m \u001b[0;34m[\u001b[0m\u001b[0;36m0\u001b[0m \u001b[0;32mif\u001b[0m \u001b[0mi\u001b[0m \u001b[0;32min\u001b[0m \u001b[0mvectorized_argnums\u001b[0m \u001b[0;32melse\u001b[0m \u001b[0;32mNone\u001b[0m \u001b[0;32mfor\u001b[0m \u001b[0mi\u001b[0m \u001b[0;32min\u001b[0m \u001b[0mrange\u001b[0m\u001b[0;34m(\u001b[0m\u001b[0mlen\u001b[0m\u001b[0;34m(\u001b[0m\u001b[0margs\u001b[0m\u001b[0;34m)\u001b[0m\u001b[0;34m)\u001b[0m\u001b[0;34m]\u001b[0m  \u001b[0;31m# type: ignore\u001b[0m\u001b[0;34m\u001b[0m\u001b[0;34m\u001b[0m\u001b[0m\n\u001b[0;32m--> 713\u001b[0;31m             \u001b[0;32mreturn\u001b[0m \u001b[0mlibjax\u001b[0m\u001b[0;34m.\u001b[0m\u001b[0mvmap\u001b[0m\u001b[0;34m(\u001b[0m\u001b[0mf\u001b[0m\u001b[0;34m,\u001b[0m \u001b[0min_axes\u001b[0m\u001b[0;34m,\u001b[0m \u001b[0;36m0\u001b[0m\u001b[0;34m)\u001b[0m\u001b[0;34m(\u001b[0m\u001b[0;34m*\u001b[0m\u001b[0margs\u001b[0m\u001b[0;34m,\u001b[0m \u001b[0;34m**\u001b[0m\u001b[0mkws\u001b[0m\u001b[0;34m)\u001b[0m\u001b[0;34m\u001b[0m\u001b[0;34m\u001b[0m\u001b[0m\n\u001b[0m\u001b[1;32m    714\u001b[0m \u001b[0;34m\u001b[0m\u001b[0m\n\u001b[1;32m    715\u001b[0m         \u001b[0;32mreturn\u001b[0m \u001b[0mwrapper\u001b[0m\u001b[0;34m\u001b[0m\u001b[0;34m\u001b[0m\u001b[0m\n",
            "    \u001b[0;31m[... skipping hidden 1 frame]\u001b[0m\n",
            "\u001b[0;32m/usr/local/lib/python3.10/dist-packages/jax/_src/api.py\u001b[0m in \u001b[0;36mvmap_f\u001b[0;34m(*args, **kwargs)\u001b[0m\n\u001b[1;32m   1256\u001b[0m     axis_size_ = (axis_size if axis_size is not None else\n\u001b[1;32m   1257\u001b[0m                   _mapped_axis_size(fun, in_tree, args_flat, in_axes_flat, \"vmap\"))\n\u001b[0;32m-> 1258\u001b[0;31m     out_flat = batching.batch(\n\u001b[0m\u001b[1;32m   1259\u001b[0m         \u001b[0mflat_fun\u001b[0m\u001b[0;34m,\u001b[0m \u001b[0maxis_name\u001b[0m\u001b[0;34m,\u001b[0m \u001b[0maxis_size_\u001b[0m\u001b[0;34m,\u001b[0m \u001b[0min_axes_flat\u001b[0m\u001b[0;34m,\u001b[0m\u001b[0;34m\u001b[0m\u001b[0;34m\u001b[0m\u001b[0m\n\u001b[1;32m   1260\u001b[0m         \u001b[0;32mlambda\u001b[0m\u001b[0;34m:\u001b[0m \u001b[0mflatten_axes\u001b[0m\u001b[0;34m(\u001b[0m\u001b[0;34m\"vmap out_axes\"\u001b[0m\u001b[0;34m,\u001b[0m \u001b[0mout_tree\u001b[0m\u001b[0;34m(\u001b[0m\u001b[0;34m)\u001b[0m\u001b[0;34m,\u001b[0m \u001b[0mout_axes\u001b[0m\u001b[0;34m)\u001b[0m\u001b[0;34m,\u001b[0m\u001b[0;34m\u001b[0m\u001b[0;34m\u001b[0m\u001b[0m\n",
            "\u001b[0;32m/usr/local/lib/python3.10/dist-packages/jax/_src/linear_util.py\u001b[0m in \u001b[0;36mcall_wrapped\u001b[0;34m(self, *args, **kwargs)\u001b[0m\n\u001b[1;32m    189\u001b[0m \u001b[0;34m\u001b[0m\u001b[0m\n\u001b[1;32m    190\u001b[0m     \u001b[0;32mtry\u001b[0m\u001b[0;34m:\u001b[0m\u001b[0;34m\u001b[0m\u001b[0;34m\u001b[0m\u001b[0m\n\u001b[0;32m--> 191\u001b[0;31m       \u001b[0mans\u001b[0m \u001b[0;34m=\u001b[0m \u001b[0mself\u001b[0m\u001b[0;34m.\u001b[0m\u001b[0mf\u001b[0m\u001b[0;34m(\u001b[0m\u001b[0;34m*\u001b[0m\u001b[0margs\u001b[0m\u001b[0;34m,\u001b[0m \u001b[0;34m**\u001b[0m\u001b[0mdict\u001b[0m\u001b[0;34m(\u001b[0m\u001b[0mself\u001b[0m\u001b[0;34m.\u001b[0m\u001b[0mparams\u001b[0m\u001b[0;34m,\u001b[0m \u001b[0;34m**\u001b[0m\u001b[0mkwargs\u001b[0m\u001b[0;34m)\u001b[0m\u001b[0;34m)\u001b[0m\u001b[0;34m\u001b[0m\u001b[0;34m\u001b[0m\u001b[0m\n\u001b[0m\u001b[1;32m    192\u001b[0m     \u001b[0;32mexcept\u001b[0m\u001b[0;34m:\u001b[0m\u001b[0;34m\u001b[0m\u001b[0;34m\u001b[0m\u001b[0m\n\u001b[1;32m    193\u001b[0m       \u001b[0;31m# Some transformations yield from inside context managers, so we have to\u001b[0m\u001b[0;34m\u001b[0m\u001b[0;34m\u001b[0m\u001b[0m\n",
            "\u001b[0;32m<ipython-input-38-4f9c7c198c3c>\u001b[0m in \u001b[0;36mpred\u001b[0;34m(params, x, k)\u001b[0m\n\u001b[1;32m     89\u001b[0m \u001b[0;32mdef\u001b[0m \u001b[0mpred\u001b[0m\u001b[0;34m(\u001b[0m\u001b[0mparams\u001b[0m\u001b[0;34m,\u001b[0m \u001b[0mx\u001b[0m\u001b[0;34m,\u001b[0m \u001b[0mk\u001b[0m\u001b[0;34m)\u001b[0m\u001b[0;34m:\u001b[0m\u001b[0;34m\u001b[0m\u001b[0;34m\u001b[0m\u001b[0m\n\u001b[1;32m     90\u001b[0m     \u001b[0mc\u001b[0m \u001b[0;34m=\u001b[0m \u001b[0mtc\u001b[0m\u001b[0;34m.\u001b[0m\u001b[0mCircuit\u001b[0m\u001b[0;34m(\u001b[0m\u001b[0mn\u001b[0m\u001b[0;34m,\u001b[0m \u001b[0minputs\u001b[0m\u001b[0;34m=\u001b[0m\u001b[0mx\u001b[0m\u001b[0;34m)\u001b[0m\u001b[0;34m\u001b[0m\u001b[0;34m\u001b[0m\u001b[0m\n\u001b[0;32m---> 91\u001b[0;31m     \u001b[0mc\u001b[0m \u001b[0;34m=\u001b[0m \u001b[0mclf\u001b[0m\u001b[0;34m(\u001b[0m\u001b[0mparams\u001b[0m\u001b[0;34m,\u001b[0m \u001b[0mc\u001b[0m\u001b[0;34m,\u001b[0m \u001b[0mk\u001b[0m\u001b[0;34m)\u001b[0m\u001b[0;34m\u001b[0m\u001b[0;34m\u001b[0m\u001b[0m\n\u001b[0m\u001b[1;32m     92\u001b[0m     \u001b[0mprobs\u001b[0m \u001b[0;34m=\u001b[0m \u001b[0mreadout\u001b[0m\u001b[0;34m(\u001b[0m\u001b[0mc\u001b[0m\u001b[0;34m)\u001b[0m\u001b[0;34m\u001b[0m\u001b[0;34m\u001b[0m\u001b[0m\n\u001b[1;32m     93\u001b[0m     \u001b[0;32mreturn\u001b[0m \u001b[0mprobs\u001b[0m\u001b[0;34m\u001b[0m\u001b[0;34m\u001b[0m\u001b[0m\n",
            "\u001b[0;32m<ipython-input-38-4f9c7c198c3c>\u001b[0m in \u001b[0;36mclf\u001b[0;34m(params, c, k)\u001b[0m\n\u001b[1;32m     53\u001b[0m             \u001b[0mc\u001b[0m\u001b[0;34m.\u001b[0m\u001b[0mrx\u001b[0m\u001b[0;34m(\u001b[0m\u001b[0mi\u001b[0m\u001b[0;34m,\u001b[0m \u001b[0mtheta\u001b[0m\u001b[0;34m=\u001b[0m\u001b[0mparams\u001b[0m\u001b[0;34m[\u001b[0m\u001b[0;36m3\u001b[0m \u001b[0;34m*\u001b[0m \u001b[0mj\u001b[0m\u001b[0;34m,\u001b[0m \u001b[0mi\u001b[0m\u001b[0;34m]\u001b[0m\u001b[0;34m)\u001b[0m\u001b[0;34m\u001b[0m\u001b[0;34m\u001b[0m\u001b[0m\n\u001b[1;32m     54\u001b[0m             \u001b[0mc\u001b[0m\u001b[0;34m.\u001b[0m\u001b[0mrz\u001b[0m\u001b[0;34m(\u001b[0m\u001b[0mi\u001b[0m\u001b[0;34m,\u001b[0m \u001b[0mtheta\u001b[0m\u001b[0;34m=\u001b[0m\u001b[0mparams\u001b[0m\u001b[0;34m[\u001b[0m\u001b[0;36m3\u001b[0m \u001b[0;34m*\u001b[0m \u001b[0mj\u001b[0m \u001b[0;34m+\u001b[0m \u001b[0;36m1\u001b[0m\u001b[0;34m,\u001b[0m \u001b[0mi\u001b[0m\u001b[0;34m]\u001b[0m\u001b[0;34m)\u001b[0m\u001b[0;34m\u001b[0m\u001b[0;34m\u001b[0m\u001b[0m\n\u001b[0;32m---> 55\u001b[0;31m             \u001b[0mc\u001b[0m\u001b[0;34m.\u001b[0m\u001b[0mrx\u001b[0m\u001b[0;34m(\u001b[0m\u001b[0mi\u001b[0m\u001b[0;34m,\u001b[0m \u001b[0mtheta\u001b[0m\u001b[0;34m=\u001b[0m\u001b[0mparams\u001b[0m\u001b[0;34m[\u001b[0m\u001b[0;36m3\u001b[0m \u001b[0;34m*\u001b[0m \u001b[0mj\u001b[0m \u001b[0;34m+\u001b[0m \u001b[0;36m2\u001b[0m\u001b[0;34m,\u001b[0m \u001b[0mi\u001b[0m\u001b[0;34m]\u001b[0m\u001b[0;34m)\u001b[0m\u001b[0;34m\u001b[0m\u001b[0;34m\u001b[0m\u001b[0m\n\u001b[0m\u001b[1;32m     56\u001b[0m     \u001b[0;32mreturn\u001b[0m \u001b[0mc\u001b[0m\u001b[0;34m\u001b[0m\u001b[0;34m\u001b[0m\u001b[0m\n\u001b[1;32m     57\u001b[0m \u001b[0;34m\u001b[0m\u001b[0m\n",
            "\u001b[0;32m/usr/local/lib/python3.10/dist-packages/jax/_src/array.py\u001b[0m in \u001b[0;36m__getitem__\u001b[0;34m(self, idx)\u001b[0m\n\u001b[1;32m    334\u001b[0m       \u001b[0;32mreturn\u001b[0m \u001b[0mlax_numpy\u001b[0m\u001b[0;34m.\u001b[0m\u001b[0m_rewriting_take\u001b[0m\u001b[0;34m(\u001b[0m\u001b[0mself\u001b[0m\u001b[0;34m,\u001b[0m \u001b[0midx\u001b[0m\u001b[0;34m)\u001b[0m\u001b[0;34m\u001b[0m\u001b[0;34m\u001b[0m\u001b[0m\n\u001b[1;32m    335\u001b[0m     \u001b[0;32melse\u001b[0m\u001b[0;34m:\u001b[0m\u001b[0;34m\u001b[0m\u001b[0;34m\u001b[0m\u001b[0m\n\u001b[0;32m--> 336\u001b[0;31m       \u001b[0;32mreturn\u001b[0m \u001b[0mlax_numpy\u001b[0m\u001b[0;34m.\u001b[0m\u001b[0m_rewriting_take\u001b[0m\u001b[0;34m(\u001b[0m\u001b[0mself\u001b[0m\u001b[0;34m,\u001b[0m \u001b[0midx\u001b[0m\u001b[0;34m)\u001b[0m\u001b[0;34m\u001b[0m\u001b[0;34m\u001b[0m\u001b[0m\n\u001b[0m\u001b[1;32m    337\u001b[0m \u001b[0;34m\u001b[0m\u001b[0m\n\u001b[1;32m    338\u001b[0m   \u001b[0;32mdef\u001b[0m \u001b[0m__iter__\u001b[0m\u001b[0;34m(\u001b[0m\u001b[0mself\u001b[0m\u001b[0;34m)\u001b[0m\u001b[0;34m:\u001b[0m\u001b[0;34m\u001b[0m\u001b[0;34m\u001b[0m\u001b[0m\n",
            "\u001b[0;32m/usr/local/lib/python3.10/dist-packages/jax/_src/numpy/lax_numpy.py\u001b[0m in \u001b[0;36m_rewriting_take\u001b[0;34m(arr, idx, indices_are_sorted, unique_indices, mode, fill_value)\u001b[0m\n\u001b[1;32m   4477\u001b[0m   \u001b[0;31m# simplest cases: i.e. non-dynamic arrays indexed with integers and slices.\u001b[0m\u001b[0;34m\u001b[0m\u001b[0;34m\u001b[0m\u001b[0m\n\u001b[1;32m   4478\u001b[0m \u001b[0;34m\u001b[0m\u001b[0m\n\u001b[0;32m-> 4479\u001b[0;31m   \u001b[0;32mif\u001b[0m \u001b[0;34m(\u001b[0m\u001b[0mresult\u001b[0m \u001b[0;34m:=\u001b[0m \u001b[0m_attempt_rewriting_take_via_slice\u001b[0m\u001b[0;34m(\u001b[0m\u001b[0marr\u001b[0m\u001b[0;34m,\u001b[0m \u001b[0midx\u001b[0m\u001b[0;34m,\u001b[0m \u001b[0mmode\u001b[0m\u001b[0;34m)\u001b[0m\u001b[0;34m)\u001b[0m \u001b[0;32mis\u001b[0m \u001b[0;32mnot\u001b[0m \u001b[0;32mNone\u001b[0m\u001b[0;34m:\u001b[0m\u001b[0;34m\u001b[0m\u001b[0;34m\u001b[0m\u001b[0m\n\u001b[0m\u001b[1;32m   4480\u001b[0m     \u001b[0;32mreturn\u001b[0m \u001b[0mresult\u001b[0m\u001b[0;34m\u001b[0m\u001b[0;34m\u001b[0m\u001b[0m\n\u001b[1;32m   4481\u001b[0m \u001b[0;34m\u001b[0m\u001b[0m\n",
            "\u001b[0;32m/usr/local/lib/python3.10/dist-packages/jax/_src/numpy/lax_numpy.py\u001b[0m in \u001b[0;36m_attempt_rewriting_take_via_slice\u001b[0;34m(arr, idx, mode)\u001b[0m\n\u001b[1;32m   4454\u001b[0m     \u001b[0mint_start_indices\u001b[0m \u001b[0;34m=\u001b[0m \u001b[0;34m[\u001b[0m\u001b[0mint\u001b[0m\u001b[0;34m(\u001b[0m\u001b[0mi\u001b[0m\u001b[0;34m)\u001b[0m \u001b[0;32mfor\u001b[0m \u001b[0mi\u001b[0m \u001b[0;32min\u001b[0m \u001b[0mstart_indices\u001b[0m\u001b[0;34m]\u001b[0m  \u001b[0;31m# type: ignore\u001b[0m\u001b[0;34m\u001b[0m\u001b[0;34m\u001b[0m\u001b[0m\n\u001b[1;32m   4455\u001b[0m     \u001b[0mint_limit_indices\u001b[0m \u001b[0;34m=\u001b[0m \u001b[0;34m[\u001b[0m\u001b[0mi\u001b[0m \u001b[0;34m+\u001b[0m \u001b[0ms\u001b[0m \u001b[0;32mfor\u001b[0m \u001b[0mi\u001b[0m\u001b[0;34m,\u001b[0m \u001b[0ms\u001b[0m \u001b[0;32min\u001b[0m \u001b[0mzip\u001b[0m\u001b[0;34m(\u001b[0m\u001b[0mint_start_indices\u001b[0m\u001b[0;34m,\u001b[0m \u001b[0mslice_sizes\u001b[0m\u001b[0;34m)\u001b[0m\u001b[0;34m]\u001b[0m\u001b[0;34m\u001b[0m\u001b[0;34m\u001b[0m\u001b[0m\n\u001b[0;32m-> 4456\u001b[0;31m     arr = lax.slice(\n\u001b[0m\u001b[1;32m   4457\u001b[0m         arr, start_indices=int_start_indices, limit_indices=int_limit_indices)\n\u001b[1;32m   4458\u001b[0m   \u001b[0;32melse\u001b[0m\u001b[0;34m:\u001b[0m\u001b[0;34m\u001b[0m\u001b[0;34m\u001b[0m\u001b[0m\n",
            "\u001b[0;32m/usr/local/lib/python3.10/dist-packages/jax/_src/lax/slicing.py\u001b[0m in \u001b[0;36mslice\u001b[0;34m(operand, start_indices, limit_indices, strides)\u001b[0m\n\u001b[1;32m    106\u001b[0m     \u001b[0;34m-\u001b[0m \u001b[0;34m:\u001b[0m\u001b[0mfunc\u001b[0m\u001b[0;34m:\u001b[0m\u001b[0;31m`\u001b[0m\u001b[0mjax\u001b[0m\u001b[0;34m.\u001b[0m\u001b[0mlax\u001b[0m\u001b[0;34m.\u001b[0m\u001b[0mdynamic_slice\u001b[0m\u001b[0;31m`\u001b[0m\u001b[0;34m\u001b[0m\u001b[0;34m\u001b[0m\u001b[0m\n\u001b[1;32m    107\u001b[0m   \"\"\"\n\u001b[0;32m--> 108\u001b[0;31m   return slice_p.bind(operand, start_indices=tuple(start_indices),\n\u001b[0m\u001b[1;32m    109\u001b[0m                       \u001b[0mlimit_indices\u001b[0m\u001b[0;34m=\u001b[0m\u001b[0mtuple\u001b[0m\u001b[0;34m(\u001b[0m\u001b[0mlimit_indices\u001b[0m\u001b[0;34m)\u001b[0m\u001b[0;34m,\u001b[0m\u001b[0;34m\u001b[0m\u001b[0;34m\u001b[0m\u001b[0m\n\u001b[1;32m    110\u001b[0m                       strides=None if strides is None else tuple(strides))\n",
            "\u001b[0;32m/usr/local/lib/python3.10/dist-packages/jax/_src/core.py\u001b[0m in \u001b[0;36mbind\u001b[0;34m(self, *args, **params)\u001b[0m\n\u001b[1;32m    442\u001b[0m     assert (not config.enable_checks.value or\n\u001b[1;32m    443\u001b[0m             all(isinstance(arg, Tracer) or valid_jaxtype(arg) for arg in args)), args\n\u001b[0;32m--> 444\u001b[0;31m     \u001b[0;32mreturn\u001b[0m \u001b[0mself\u001b[0m\u001b[0;34m.\u001b[0m\u001b[0mbind_with_trace\u001b[0m\u001b[0;34m(\u001b[0m\u001b[0mfind_top_trace\u001b[0m\u001b[0;34m(\u001b[0m\u001b[0margs\u001b[0m\u001b[0;34m)\u001b[0m\u001b[0;34m,\u001b[0m \u001b[0margs\u001b[0m\u001b[0;34m,\u001b[0m \u001b[0mparams\u001b[0m\u001b[0;34m)\u001b[0m\u001b[0;34m\u001b[0m\u001b[0;34m\u001b[0m\u001b[0m\n\u001b[0m\u001b[1;32m    445\u001b[0m \u001b[0;34m\u001b[0m\u001b[0m\n\u001b[1;32m    446\u001b[0m   \u001b[0;32mdef\u001b[0m \u001b[0mbind_with_trace\u001b[0m\u001b[0;34m(\u001b[0m\u001b[0mself\u001b[0m\u001b[0;34m,\u001b[0m \u001b[0mtrace\u001b[0m\u001b[0;34m,\u001b[0m \u001b[0margs\u001b[0m\u001b[0;34m,\u001b[0m \u001b[0mparams\u001b[0m\u001b[0;34m)\u001b[0m\u001b[0;34m:\u001b[0m\u001b[0;34m\u001b[0m\u001b[0;34m\u001b[0m\u001b[0m\n",
            "\u001b[0;32m/usr/local/lib/python3.10/dist-packages/jax/_src/core.py\u001b[0m in \u001b[0;36mbind_with_trace\u001b[0;34m(self, trace, args, params)\u001b[0m\n\u001b[1;32m    445\u001b[0m \u001b[0;34m\u001b[0m\u001b[0m\n\u001b[1;32m    446\u001b[0m   \u001b[0;32mdef\u001b[0m \u001b[0mbind_with_trace\u001b[0m\u001b[0;34m(\u001b[0m\u001b[0mself\u001b[0m\u001b[0;34m,\u001b[0m \u001b[0mtrace\u001b[0m\u001b[0;34m,\u001b[0m \u001b[0margs\u001b[0m\u001b[0;34m,\u001b[0m \u001b[0mparams\u001b[0m\u001b[0;34m)\u001b[0m\u001b[0;34m:\u001b[0m\u001b[0;34m\u001b[0m\u001b[0;34m\u001b[0m\u001b[0m\n\u001b[0;32m--> 447\u001b[0;31m     \u001b[0mout\u001b[0m \u001b[0;34m=\u001b[0m \u001b[0mtrace\u001b[0m\u001b[0;34m.\u001b[0m\u001b[0mprocess_primitive\u001b[0m\u001b[0;34m(\u001b[0m\u001b[0mself\u001b[0m\u001b[0;34m,\u001b[0m \u001b[0mmap\u001b[0m\u001b[0;34m(\u001b[0m\u001b[0mtrace\u001b[0m\u001b[0;34m.\u001b[0m\u001b[0mfull_raise\u001b[0m\u001b[0;34m,\u001b[0m \u001b[0margs\u001b[0m\u001b[0;34m)\u001b[0m\u001b[0;34m,\u001b[0m \u001b[0mparams\u001b[0m\u001b[0;34m)\u001b[0m\u001b[0;34m\u001b[0m\u001b[0;34m\u001b[0m\u001b[0m\n\u001b[0m\u001b[1;32m    448\u001b[0m     \u001b[0;32mreturn\u001b[0m \u001b[0mmap\u001b[0m\u001b[0;34m(\u001b[0m\u001b[0mfull_lower\u001b[0m\u001b[0;34m,\u001b[0m \u001b[0mout\u001b[0m\u001b[0;34m)\u001b[0m \u001b[0;32mif\u001b[0m \u001b[0mself\u001b[0m\u001b[0;34m.\u001b[0m\u001b[0mmultiple_results\u001b[0m \u001b[0;32melse\u001b[0m \u001b[0mfull_lower\u001b[0m\u001b[0;34m(\u001b[0m\u001b[0mout\u001b[0m\u001b[0;34m)\u001b[0m\u001b[0;34m\u001b[0m\u001b[0;34m\u001b[0m\u001b[0m\n\u001b[1;32m    449\u001b[0m \u001b[0;34m\u001b[0m\u001b[0m\n",
            "\u001b[0;32m/usr/local/lib/python3.10/dist-packages/jax/_src/core.py\u001b[0m in \u001b[0;36mprocess_primitive\u001b[0;34m(self, primitive, tracers, params)\u001b[0m\n\u001b[1;32m    933\u001b[0m \u001b[0;34m\u001b[0m\u001b[0m\n\u001b[1;32m    934\u001b[0m   \u001b[0;32mdef\u001b[0m \u001b[0mprocess_primitive\u001b[0m\u001b[0;34m(\u001b[0m\u001b[0mself\u001b[0m\u001b[0;34m,\u001b[0m \u001b[0mprimitive\u001b[0m\u001b[0;34m,\u001b[0m \u001b[0mtracers\u001b[0m\u001b[0;34m,\u001b[0m \u001b[0mparams\u001b[0m\u001b[0;34m)\u001b[0m\u001b[0;34m:\u001b[0m\u001b[0;34m\u001b[0m\u001b[0;34m\u001b[0m\u001b[0m\n\u001b[0;32m--> 935\u001b[0;31m     \u001b[0;32mreturn\u001b[0m \u001b[0mprimitive\u001b[0m\u001b[0;34m.\u001b[0m\u001b[0mimpl\u001b[0m\u001b[0;34m(\u001b[0m\u001b[0;34m*\u001b[0m\u001b[0mtracers\u001b[0m\u001b[0;34m,\u001b[0m \u001b[0;34m**\u001b[0m\u001b[0mparams\u001b[0m\u001b[0;34m)\u001b[0m\u001b[0;34m\u001b[0m\u001b[0;34m\u001b[0m\u001b[0m\n\u001b[0m\u001b[1;32m    936\u001b[0m \u001b[0;34m\u001b[0m\u001b[0m\n\u001b[1;32m    937\u001b[0m   \u001b[0;32mdef\u001b[0m \u001b[0mprocess_call\u001b[0m\u001b[0;34m(\u001b[0m\u001b[0mself\u001b[0m\u001b[0;34m,\u001b[0m \u001b[0mprimitive\u001b[0m\u001b[0;34m,\u001b[0m \u001b[0mf\u001b[0m\u001b[0;34m,\u001b[0m \u001b[0mtracers\u001b[0m\u001b[0;34m,\u001b[0m \u001b[0mparams\u001b[0m\u001b[0;34m)\u001b[0m\u001b[0;34m:\u001b[0m\u001b[0;34m\u001b[0m\u001b[0;34m\u001b[0m\u001b[0m\n",
            "\u001b[0;32m/usr/local/lib/python3.10/dist-packages/jax/_src/lax/slicing.py\u001b[0m in \u001b[0;36m_slice_impl\u001b[0;34m(x, start_indices, limit_indices, strides)\u001b[0m\n\u001b[1;32m   1167\u001b[0m       limit_indices=limit_indices, strides=strides)\n\u001b[1;32m   1168\u001b[0m   \u001b[0mslice_sizes\u001b[0m \u001b[0;34m=\u001b[0m \u001b[0mtuple\u001b[0m\u001b[0;34m(\u001b[0m\u001b[0mnp\u001b[0m\u001b[0;34m.\u001b[0m\u001b[0marray\u001b[0m\u001b[0;34m(\u001b[0m\u001b[0mlimit_indices\u001b[0m\u001b[0;34m)\u001b[0m \u001b[0;34m-\u001b[0m \u001b[0mnp\u001b[0m\u001b[0;34m.\u001b[0m\u001b[0marray\u001b[0m\u001b[0;34m(\u001b[0m\u001b[0mstart_indices\u001b[0m\u001b[0;34m)\u001b[0m\u001b[0;34m)\u001b[0m\u001b[0;34m\u001b[0m\u001b[0;34m\u001b[0m\u001b[0m\n\u001b[0;32m-> 1169\u001b[0;31m   return dispatch.apply_primitive(dynamic_slice_p, x, *start_indices,\n\u001b[0m\u001b[1;32m   1170\u001b[0m                                   slice_sizes=slice_sizes)\n\u001b[1;32m   1171\u001b[0m \u001b[0;34m\u001b[0m\u001b[0m\n",
            "\u001b[0;32m/usr/local/lib/python3.10/dist-packages/jax/_src/dispatch.py\u001b[0m in \u001b[0;36mapply_primitive\u001b[0;34m(prim, *args, **params)\u001b[0m\n\u001b[1;32m     85\u001b[0m     \u001b[0mprev\u001b[0m \u001b[0;34m=\u001b[0m \u001b[0mlib\u001b[0m\u001b[0;34m.\u001b[0m\u001b[0mjax_jit\u001b[0m\u001b[0;34m.\u001b[0m\u001b[0mswap_thread_local_state_disable_jit\u001b[0m\u001b[0;34m(\u001b[0m\u001b[0;32mFalse\u001b[0m\u001b[0;34m)\u001b[0m\u001b[0;34m\u001b[0m\u001b[0;34m\u001b[0m\u001b[0m\n\u001b[1;32m     86\u001b[0m     \u001b[0;32mtry\u001b[0m\u001b[0;34m:\u001b[0m\u001b[0;34m\u001b[0m\u001b[0;34m\u001b[0m\u001b[0m\n\u001b[0;32m---> 87\u001b[0;31m       \u001b[0mouts\u001b[0m \u001b[0;34m=\u001b[0m \u001b[0mfun\u001b[0m\u001b[0;34m(\u001b[0m\u001b[0;34m*\u001b[0m\u001b[0margs\u001b[0m\u001b[0;34m)\u001b[0m\u001b[0;34m\u001b[0m\u001b[0;34m\u001b[0m\u001b[0m\n\u001b[0m\u001b[1;32m     88\u001b[0m     \u001b[0;32mfinally\u001b[0m\u001b[0;34m:\u001b[0m\u001b[0;34m\u001b[0m\u001b[0;34m\u001b[0m\u001b[0m\n\u001b[1;32m     89\u001b[0m       \u001b[0mlib\u001b[0m\u001b[0;34m.\u001b[0m\u001b[0mjax_jit\u001b[0m\u001b[0;34m.\u001b[0m\u001b[0mswap_thread_local_state_disable_jit\u001b[0m\u001b[0;34m(\u001b[0m\u001b[0mprev\u001b[0m\u001b[0;34m)\u001b[0m\u001b[0;34m\u001b[0m\u001b[0;34m\u001b[0m\u001b[0m\n",
            "\u001b[0;31mKeyboardInterrupt\u001b[0m: "
          ]
        }
      ]
    },
    {
      "cell_type": "code",
      "source": [
        "  plt.plot(loss_list)\n",
        "  plt.plot(acc_list)\n",
        "  plt.legend(['loss', 'accuracy'])\n",
        "  plt.ylim(0, 4)\n",
        "  plt.show()"
      ],
      "metadata": {
        "colab": {
          "base_uri": "https://localhost:8080/",
          "height": 441
        },
        "id": "2XlfNkhALWTB",
        "outputId": "363c7be0-85e0-4a16-d655-1cf9a7279ec7"
      },
      "execution_count": 31,
      "outputs": [
        {
          "output_type": "display_data",
          "data": {
            "text/plain": [
              "<Figure size 640x480 with 1 Axes>"
            ],
            "image/png": "[encoded data removed]"
          },
          "metadata": {}
        }
      ]
    },
    {
      "cell_type": "code",
      "source": [
        "\n",
        "import csv\n",
        "\n",
        "# Write the world_train_loss list to a CSV file\n",
        "with open(f'QFLworld_train_loss.csv', 'w', newline='') as csvfile:\n",
        "    writer = csv.writer(csvfile)\n",
        "\n",
        "    # Write the header row\n",
        "    writer.writerow(['Iteration', 'Node', 'Loss'])\n",
        "\n",
        "    # Write the data rows\n",
        "    for i in range(len(world_train_loss)):\n",
        "        for j in range(len(world_train_loss[i])):\n",
        "            writer.writerow([i, j, world_train_loss[i][j]])\n",
        "\n",
        "# Write the world_test_loss list to a CSV file\n",
        "with open(f'QFLworld_test_loss.csv', 'w', newline='') as csvfile:\n",
        "    writer = csv.writer(csvfile)\n",
        "\n",
        "    # Write the header row\n",
        "    writer.writerow(['Iteration', 'Loss'])\n",
        "\n",
        "    # Write the data rows\n",
        "    for i in range(len(world_test_loss)):\n",
        "        writer.writerow([i, world_test_loss[i]])\n",
        "\n",
        "# Write the world_train_acc list to a CSV file\n",
        "with open(f'QFLworld_train_acc.csv', 'w', newline='') as csvfile:\n",
        "    writer = csv.writer(csvfile)\n",
        "\n",
        "    # Write the header row\n",
        "    writer.writerow(['Iteration', 'Node', 'Accuracy'])\n",
        "\n",
        "    # Write the data rows\n",
        "    for i in range(len(world_train_acc)):\n",
        "        for j in range(len(world_train_acc[i])):\n",
        "            writer.writerow([i, j, world_train_acc[i][j]])\n",
        "\n",
        "# Write the world_test_acc list to a CSV file\n",
        "with open(f'QFLworld_test_acc.csv', 'w', newline='') as csvfile:\n",
        "    writer = csv.writer(csvfile)\n",
        "\n",
        "    # Write the header row\n",
        "    writer.writerow(['Iteration', 'Accuracy'])\n",
        "\n",
        "    # Write the data rows\n",
        "    for i in range(len(world_test_acc)):\n",
        "        writer.writerow([i, world_test_acc[i]])"
      ],
      "metadata": {
        "id": "iX8HwT_rnthw"
      },
      "execution_count": null,
      "outputs": []
    },
    {
      "cell_type": "code",
      "source": [],
      "metadata": {
        "id": "2jBUR-ILIpyY"
      },
      "execution_count": null,
      "outputs": []
    },
    {
      "cell_type": "code",
      "source": [
        "#Deep unfolding process loss calcualtion#\n",
        "def dunloss(paramslist_all, xlist_all, ylist_all, k): #pass karanawa iteration one and two node wala params and x,y\n",
        "#e pass karan param tika man ganna one fed process eke yaddi save karagathha ewa.\n",
        "#me process ekedi api eka eka iteration eke nemei all iteration waladi loss balala params set eka update keranwa.\n",
        "\n",
        "    # Iterate through the values row-wise for the specified column\n",
        "    for node in range(n_node-1):\n",
        "      for t in range (T):\n",
        "        value = paramslist_all[t][node]\n",
        "        #print(f\"Value for Column {0} Row {row + 1}: {value}\")\n",
        "        c = tc.Circuit(n, inputs=xlist_all[t][node])\n",
        "        probs = readout(c)\n",
        "        #print(f\"Value for Column {0} Row {row + 1}: {probs}\")\n",
        "        return -jnp.mean(jnp.sum(ylist_all[t][node] * jnp.log(probs + 1e-7), axis=-1))\n",
        "\n",
        "    #for row in range(3):\n",
        "      #for t in range(2):\n",
        "        #\n",
        "        #c = clf(paramslist_all[n][t], c, k)\n",
        "        #probs = readout(c)\n",
        "        #return -jnp.mean(jnp.sum(ylist_all[n][t] * jnp.log(probs + 1e-7), axis=-1))\n",
        "dunloss = K.jit(dunloss, static_argnums=[3])\n",
        "\n",
        "compute_dunloss = K.jit(K.vectorized_value_and_grad(dunloss, vectorized_argnums=[1, 2]), static_argnums=[3])"
      ],
      "metadata": {
        "id": "MDAqR3z3Hz4C"
      },
      "execution_count": null,
      "outputs": []
    },
    {
      "cell_type": "code",
      "source": [],
      "metadata": {
        "id": "hkcFMzsYWRZ-"
      },
      "execution_count": null,
      "outputs": []
    },
    {
      "cell_type": "code",
      "source": [],
      "metadata": {
        "id": "19J58OX_WPpl"
      },
      "execution_count": null,
      "outputs": []
    },
    {
      "cell_type": "code",
      "source": [
        "M=10\n",
        "#key, subkey = jax.random.split(key)\n",
        "#params = jax.random.normal(subkey, (3 * k, n))\n",
        "#opt = optax.adam(learning_rate=1e-2)\n",
        "#opt_state = opt.init(params)\n",
        "for loop in range (M):\n",
        "    unfoldlayer_wise_weights=[]\n",
        "    #paramslist_all, xlist_all, ylist_all,opt_statenodeall = fedlearning(params) #function call for fed process.\n",
        "    loss_val, grad_val = compute_dunloss(paramslist_all, xlist_all, ylist_all, k)\n",
        "    print(\"Unfolding layer\", loop)\n",
        "\n",
        "    for t in range (T):\n",
        "      for node in range(n_node-1):\n",
        "          updates,opt_statenodeall[t][node]= opt.update(grad_val[t][node], opt_statenodeall[t][node], paramslist_all[t][node])\n",
        "          paramslist_all[t][node] = optax.apply_updates(paramslist_all[t][node], updates)\n",
        "          #print(paramslist_all[t][node])\n",
        "          #Assign last parameter set aggregation in last iteration in first deep layer\n",
        "    #at the end of the last iteration of each deep unfolding layer,  need to get average parameters and assign it to each nodes parameters.\n",
        "    if t==T:\n",
        "      avg_params = jnp.mean(jnp.stack(paramslist_all[T-1], axis=0), axis=0)\n",
        "      #params=avg_params\n",
        "      for node in range(n_node-1):\n",
        "            params_list[node] = avg_params\n",
        "\n",
        "\n",
        "    #Calculate the weights using parameters now.\n",
        "    # Calculate sum of squares for each node and get normailzed values\n",
        "    sum_of_squares_per_iter = []\n",
        "    for t in range(T):\n",
        "        sum_of_squares_for_t =0\n",
        "        for node in range(n_node-1):\n",
        "            sum_of_squares_for_t+=jnp.sum(paramslist_all[t][node]**2)\n",
        "            #print(sum_of_squares_for_t)\n",
        "        sum_of_squares_per_iter.append(sum_of_squares_for_t)\n",
        "        #print(\"Sum of squared in iteration\",t,\" is \", sum_of_squares_per_iter[t])\n",
        "\n",
        "    normalized_weights_Per_it = []\n",
        "    for t in range(T):\n",
        "        normalized_weights_node=[]\n",
        "        for node in range(n_node-1):\n",
        "           #print(\"Iteration\", t)\n",
        "           nodeweights=jnp.sum((paramslist_all[t][node])**2)/jnp.array(sum_of_squares_per_iter[t])\n",
        "           #print(f\"Iteration {t}, Node {node}\", nodeweights )\n",
        "           #node_sum_of_squares[t][node] = (jnp.sum(paramslist_all[t][node]**2))/jnp.array(sum_of_squares_per_iter[t])\n",
        "           #print(len(node_sum_of_squares[]))\n",
        "\n",
        "           normalized_weights_node.append(nodeweights)\n",
        "        normalized_weights_Per_it.append(normalized_weights_node)\n",
        "    #print(normalized_weights_Per_it)\n",
        "\n",
        "    import csv\n",
        "\n",
        "    with open('weights.csv', 'w', newline='') as csvfile:\n",
        "      writer = csv.writer(csvfile)\n",
        "\n",
        "      # Write the header row\n",
        "      writer.writerow(['Iteration', 'Node', 'Weight'])\n",
        "\n",
        "      # Write the data rows\n",
        "      for i in range(T):\n",
        "        for j in range(n_node-1):\n",
        "            writer.writerow([i, j, normalized_weights_Per_it[i][j]])\n",
        "\n",
        "\n",
        "\n",
        "\n",
        "    with open('weights.csv', 'r') as csvfile:\n",
        "      reader = csv.reader(csvfile)\n",
        "\n",
        "      # Read the header row\n",
        "      header = next(reader)\n",
        "\n",
        "      # Read the data rows\n",
        "      for row in reader:\n",
        "        iteration, node, weight = row\n",
        "        print(f'Iteration {iteration}, Node {node}, Weight {weight}')\n",
        "\n",
        "print(\"Deep unfolding done\")"
      ],
      "metadata": {
        "colab": {
          "base_uri": "https://localhost:8080/"
        },
        "id": "xvcNiHhwHkD2",
        "outputId": "d0de63b6-8cf0-42ad-e512-19b77d53062d"
      },
      "execution_count": null,
      "outputs": [
        {
          "output_type": "stream",
          "name": "stdout",
          "text": [
            "Unfolding layer 0\n",
            "Iteration 0, Node 0, Weight 0.5580365\n",
            "Iteration 0, Node 1, Weight 0.07364059\n",
            "Iteration 0, Node 2, Weight 0.07351377\n",
            "Iteration 0, Node 3, Weight 0.073771246\n",
            "Iteration 0, Node 4, Weight 0.073975004\n",
            "Iteration 0, Node 5, Weight 0.07354213\n",
            "Iteration 0, Node 6, Weight 0.07352078\n",
            "Iteration 1, Node 0, Weight 0.5376451\n",
            "Iteration 1, Node 1, Weight 0.07721078\n",
            "Iteration 1, Node 2, Weight 0.07694454\n",
            "Iteration 1, Node 3, Weight 0.076960795\n",
            "Iteration 1, Node 4, Weight 0.07708155\n",
            "Iteration 1, Node 5, Weight 0.07689273\n",
            "Iteration 1, Node 6, Weight 0.07726447\n",
            "Iteration 2, Node 0, Weight 0.54938555\n",
            "Iteration 2, Node 1, Weight 0.07487465\n",
            "Iteration 2, Node 2, Weight 0.07486672\n",
            "Iteration 2, Node 3, Weight 0.07532531\n",
            "Iteration 2, Node 4, Weight 0.075077884\n",
            "Iteration 2, Node 5, Weight 0.075287275\n",
            "Iteration 2, Node 6, Weight 0.07518258\n",
            "Iteration 3, Node 0, Weight 0.5663277\n",
            "Iteration 3, Node 1, Weight 0.07204376\n",
            "Iteration 3, Node 2, Weight 0.07226076\n",
            "Iteration 3, Node 3, Weight 0.07236921\n",
            "Iteration 3, Node 4, Weight 0.07226167\n",
            "Iteration 3, Node 5, Weight 0.07244281\n",
            "Iteration 3, Node 6, Weight 0.07229413\n",
            "Iteration 4, Node 0, Weight 0.53289\n",
            "Iteration 4, Node 1, Weight 0.077863336\n",
            "Iteration 4, Node 2, Weight 0.07786236\n",
            "Iteration 4, Node 3, Weight 0.07779923\n",
            "Iteration 4, Node 4, Weight 0.077877864\n",
            "Iteration 4, Node 5, Weight 0.077872284\n",
            "Iteration 4, Node 6, Weight 0.07783484\n",
            "Iteration 5, Node 0, Weight 0.5247341\n",
            "Iteration 5, Node 1, Weight 0.079138875\n",
            "Iteration 5, Node 2, Weight 0.07910268\n",
            "Iteration 5, Node 3, Weight 0.079342164\n",
            "Iteration 5, Node 4, Weight 0.07923033\n",
            "Iteration 5, Node 5, Weight 0.07912119\n",
            "Iteration 5, Node 6, Weight 0.07933075\n",
            "Iteration 6, Node 0, Weight 0.5272258\n",
            "Iteration 6, Node 1, Weight 0.07872526\n",
            "Iteration 6, Node 2, Weight 0.078759715\n",
            "Iteration 6, Node 3, Weight 0.07870284\n",
            "Iteration 6, Node 4, Weight 0.078888096\n",
            "Iteration 6, Node 5, Weight 0.07879514\n",
            "Iteration 6, Node 6, Weight 0.078903176\n",
            "Iteration 7, Node 0, Weight 0.5424667\n",
            "Iteration 7, Node 1, Weight 0.076128826\n",
            "Iteration 7, Node 2, Weight 0.07627546\n",
            "Iteration 7, Node 3, Weight 0.07637305\n",
            "Iteration 7, Node 4, Weight 0.07637809\n",
            "Iteration 7, Node 5, Weight 0.07631383\n",
            "Iteration 7, Node 6, Weight 0.07606393\n",
            "Iteration 8, Node 0, Weight 0.5303833\n",
            "Iteration 8, Node 1, Weight 0.078066915\n",
            "Iteration 8, Node 2, Weight 0.07822181\n",
            "Iteration 8, Node 3, Weight 0.078313746\n",
            "Iteration 8, Node 4, Weight 0.07832176\n",
            "Iteration 8, Node 5, Weight 0.07847789\n",
            "Iteration 8, Node 6, Weight 0.07821457\n",
            "Iteration 9, Node 0, Weight 0.5349624\n",
            "Iteration 9, Node 1, Weight 0.07760456\n",
            "Iteration 9, Node 2, Weight 0.077388\n",
            "Iteration 9, Node 3, Weight 0.077549614\n",
            "Iteration 9, Node 4, Weight 0.07746466\n",
            "Iteration 9, Node 5, Weight 0.07724805\n",
            "Iteration 9, Node 6, Weight 0.07778269\n",
            "Unfolding layer 1\n",
            "Iteration 0, Node 0, Weight 0.5577578\n",
            "Iteration 0, Node 1, Weight 0.07368218\n",
            "Iteration 0, Node 2, Weight 0.073516466\n",
            "Iteration 0, Node 3, Weight 0.07385717\n",
            "Iteration 0, Node 4, Weight 0.0741204\n",
            "Iteration 0, Node 5, Weight 0.07354513\n",
            "Iteration 0, Node 6, Weight 0.0735208\n",
            "Iteration 1, Node 0, Weight 0.53748083\n",
            "Iteration 1, Node 1, Weight 0.077270694\n",
            "Iteration 1, Node 2, Weight 0.076924086\n",
            "Iteration 1, Node 3, Weight 0.0769544\n",
            "Iteration 1, Node 4, Weight 0.077120416\n",
            "Iteration 1, Node 5, Weight 0.07687701\n",
            "Iteration 1, Node 6, Weight 0.077372596\n",
            "Iteration 2, Node 0, Weight 0.54901105\n",
            "Iteration 2, Node 1, Weight 0.07487144\n",
            "Iteration 2, Node 2, Weight 0.07486294\n",
            "Iteration 2, Node 3, Weight 0.07546505\n",
            "Iteration 2, Node 4, Weight 0.07513089\n",
            "Iteration 2, Node 5, Weight 0.07540193\n",
            "Iteration 2, Node 6, Weight 0.07525673\n",
            "Iteration 3, Node 0, Weight 0.5660472\n",
            "Iteration 3, Node 1, Weight 0.0720131\n",
            "Iteration 3, Node 2, Weight 0.07230421\n",
            "Iteration 3, Node 3, Weight 0.07244686\n",
            "Iteration 3, Node 4, Weight 0.072303854\n",
            "Iteration 3, Node 5, Weight 0.07254175\n",
            "Iteration 3, Node 6, Weight 0.07234305\n",
            "Iteration 4, Node 0, Weight 0.5326464\n",
            "Iteration 4, Node 1, Weight 0.07791124\n",
            "Iteration 4, Node 2, Weight 0.07790804\n",
            "Iteration 4, Node 3, Weight 0.077823676\n",
            "Iteration 4, Node 4, Weight 0.07792665\n",
            "Iteration 4, Node 5, Weight 0.07791734\n",
            "Iteration 4, Node 6, Weight 0.07786663\n",
            "Iteration 5, Node 0, Weight 0.52424043\n",
            "Iteration 5, Node 1, Weight 0.07921121\n",
            "Iteration 5, Node 2, Weight 0.07915949\n",
            "Iteration 5, Node 3, Weight 0.07946988\n",
            "Iteration 5, Node 4, Weight 0.079314426\n",
            "Iteration 5, Node 5, Weight 0.0791662\n",
            "Iteration 5, Node 6, Weight 0.07943847\n",
            "Iteration 6, Node 0, Weight 0.5267881\n",
            "Iteration 6, Node 1, Weight 0.07878553\n",
            "Iteration 6, Node 2, Weight 0.07882742\n",
            "Iteration 6, Node 3, Weight 0.07874918\n",
            "Iteration 6, Node 4, Weight 0.07898965\n",
            "Iteration 6, Node 5, Weight 0.07886128\n",
            "Iteration 6, Node 6, Weight 0.07899895\n",
            "Iteration 7, Node 0, Weight 0.5422407\n",
            "Iteration 7, Node 1, Weight 0.07612282\n",
            "Iteration 7, Node 2, Weight 0.076320484\n",
            "Iteration 7, Node 3, Weight 0.07644955\n",
            "Iteration 7, Node 4, Weight 0.07645479\n",
            "Iteration 7, Node 5, Weight 0.076369226\n",
            "Iteration 7, Node 6, Weight 0.076042406\n",
            "Iteration 8, Node 0, Weight 0.5299647\n",
            "Iteration 8, Node 1, Weight 0.07808978\n",
            "Iteration 8, Node 2, Weight 0.07828966\n",
            "Iteration 8, Node 3, Weight 0.07840332\n",
            "Iteration 8, Node 4, Weight 0.078405306\n",
            "Iteration 8, Node 5, Weight 0.078601584\n",
            "Iteration 8, Node 6, Weight 0.07824566\n",
            "Iteration 9, Node 0, Weight 0.53469574\n",
            "Iteration 9, Node 1, Weight 0.07766947\n",
            "Iteration 9, Node 2, Weight 0.07738727\n",
            "Iteration 9, Node 3, Weight 0.077605985\n",
            "Iteration 9, Node 4, Weight 0.07749689\n",
            "Iteration 9, Node 5, Weight 0.077217415\n",
            "Iteration 9, Node 6, Weight 0.07792729\n",
            "Unfolding layer 2\n",
            "Iteration 0, Node 0, Weight 0.55746794\n",
            "Iteration 0, Node 1, Weight 0.073726535\n",
            "Iteration 0, Node 2, Weight 0.073529005\n",
            "Iteration 0, Node 3, Weight 0.073937766\n",
            "Iteration 0, Node 4, Weight 0.07424961\n",
            "Iteration 0, Node 5, Weight 0.07355796\n",
            "Iteration 0, Node 6, Weight 0.07353118\n",
            "Iteration 1, Node 0, Weight 0.5372904\n",
            "Iteration 1, Node 1, Weight 0.07732901\n",
            "Iteration 1, Node 2, Weight 0.07691664\n",
            "Iteration 1, Node 3, Weight 0.076958455\n",
            "Iteration 1, Node 4, Weight 0.077161536\n",
            "Iteration 1, Node 5, Weight 0.07687348\n",
            "Iteration 1, Node 6, Weight 0.077470385\n",
            "Iteration 2, Node 0, Weight 0.54864407\n",
            "Iteration 2, Node 1, Weight 0.074879006\n",
            "Iteration 2, Node 2, Weight 0.07487005\n",
            "Iteration 2, Node 3, Weight 0.07558935\n",
            "Iteration 2, Node 4, Weight 0.07518433\n",
            "Iteration 2, Node 5, Weight 0.07550576\n",
            "Iteration 2, Node 6, Weight 0.07532743\n",
            "Iteration 3, Node 0, Weight 0.5657529\n",
            "Iteration 3, Node 1, Weight 0.07199889\n",
            "Iteration 3, Node 2, Weight 0.07235056\n",
            "Iteration 3, Node 3, Weight 0.07252117\n",
            "Iteration 3, Node 4, Weight 0.07234913\n",
            "Iteration 3, Node 5, Weight 0.07263346\n",
            "Iteration 3, Node 6, Weight 0.07239385\n",
            "Iteration 4, Node 0, Weight 0.532389\n",
            "Iteration 4, Node 1, Weight 0.077960126\n",
            "Iteration 4, Node 2, Weight 0.07795509\n",
            "Iteration 4, Node 3, Weight 0.07785337\n",
            "Iteration 4, Node 4, Weight 0.077976264\n",
            "Iteration 4, Node 5, Weight 0.077963896\n",
            "Iteration 4, Node 6, Weight 0.077902354\n",
            "Iteration 5, Node 0, Weight 0.52377933\n",
            "Iteration 5, Node 1, Weight 0.07927994\n",
            "Iteration 5, Node 2, Weight 0.07921552\n",
            "Iteration 5, Node 3, Weight 0.07958383\n",
            "Iteration 5, Node 4, Weight 0.07939273\n",
            "Iteration 5, Node 5, Weight 0.07921259\n",
            "Iteration 5, Node 6, Weight 0.079536065\n",
            "Iteration 6, Node 0, Weight 0.5263712\n",
            "Iteration 6, Node 1, Weight 0.07884465\n",
            "Iteration 6, Node 2, Weight 0.07889263\n",
            "Iteration 6, Node 3, Weight 0.07879691\n",
            "Iteration 6, Node 4, Weight 0.07908246\n",
            "Iteration 6, Node 5, Weight 0.07892515\n",
            "Iteration 6, Node 6, Weight 0.07908707\n",
            "Iteration 7, Node 0, Weight 0.5419963\n",
            "Iteration 7, Node 1, Weight 0.07612783\n",
            "Iteration 7, Node 2, Weight 0.07636723\n",
            "Iteration 7, Node 3, Weight 0.07652203\n",
            "Iteration 7, Node 4, Weight 0.076527424\n",
            "Iteration 7, Node 5, Weight 0.07642445\n",
            "Iteration 7, Node 6, Weight 0.07603475\n",
            "Iteration 8, Node 0, Weight 0.5295642\n",
            "Iteration 8, Node 1, Weight 0.07811826\n",
            "Iteration 8, Node 2, Weight 0.078354836\n",
            "Iteration 8, Node 3, Weight 0.07848621\n",
            "Iteration 8, Node 4, Weight 0.07848332\n",
            "Iteration 8, Node 5, Weight 0.07871235\n",
            "Iteration 8, Node 6, Weight 0.07828084\n",
            "Iteration 9, Node 0, Weight 0.5344179\n",
            "Iteration 9, Node 1, Weight 0.07773248\n",
            "Iteration 9, Node 2, Weight 0.07739657\n",
            "Iteration 9, Node 3, Weight 0.07766201\n",
            "Iteration 9, Node 4, Weight 0.077533156\n",
            "Iteration 9, Node 5, Weight 0.0772023\n",
            "Iteration 9, Node 6, Weight 0.07805548\n",
            "Unfolding layer 3\n",
            "Iteration 0, Node 0, Weight 0.55718\n",
            "Iteration 0, Node 1, Weight 0.07377119\n",
            "Iteration 0, Node 2, Weight 0.07354687\n",
            "Iteration 0, Node 3, Weight 0.07401298\n",
            "Iteration 0, Node 4, Weight 0.074365824\n",
            "Iteration 0, Node 5, Weight 0.07357602\n",
            "Iteration 0, Node 6, Weight 0.0735472\n",
            "Iteration 1, Node 0, Weight 0.5370905\n",
            "Iteration 1, Node 1, Weight 0.077384815\n",
            "Iteration 1, Node 2, Weight 0.07691695\n",
            "Iteration 1, Node 3, Weight 0.07696849\n",
            "Iteration 1, Node 4, Weight 0.0772028\n",
            "Iteration 1, Node 5, Weight 0.076877065\n",
            "Iteration 1, Node 6, Weight 0.07755951\n",
            "Iteration 2, Node 0, Weight 0.54829204\n",
            "Iteration 2, Node 1, Weight 0.074892506\n",
            "Iteration 2, Node 2, Weight 0.07488317\n",
            "Iteration 2, Node 3, Weight 0.07570125\n",
            "Iteration 2, Node 4, Weight 0.0752365\n",
            "Iteration 2, Node 5, Weight 0.07560041\n",
            "Iteration 2, Node 6, Weight 0.075394146\n",
            "Iteration 3, Node 0, Weight 0.56545913\n",
            "Iteration 3, Node 1, Weight 0.07199451\n",
            "Iteration 3, Node 2, Weight 0.07239726\n",
            "Iteration 3, Node 3, Weight 0.07259144\n",
            "Iteration 3, Node 4, Weight 0.072394945\n",
            "Iteration 3, Node 5, Weight 0.0727184\n",
            "Iteration 3, Node 6, Weight 0.07244431\n",
            "Iteration 4, Node 0, Weight 0.5321309\n",
            "Iteration 4, Node 1, Weight 0.078008175\n",
            "Iteration 4, Node 2, Weight 0.078001596\n",
            "Iteration 4, Node 3, Weight 0.077885255\n",
            "Iteration 4, Node 4, Weight 0.078024924\n",
            "Iteration 4, Node 5, Weight 0.07800997\n",
            "Iteration 4, Node 6, Weight 0.07793931\n",
            "Iteration 5, Node 0, Weight 0.52335\n",
            "Iteration 5, Node 1, Weight 0.07934463\n",
            "Iteration 5, Node 2, Weight 0.07926953\n",
            "Iteration 5, Node 3, Weight 0.079686664\n",
            "Iteration 5, Node 4, Weight 0.07946552\n",
            "Iteration 5, Node 5, Weight 0.07925846\n",
            "Iteration 5, Node 6, Weight 0.07962509\n",
            "Iteration 6, Node 0, Weight 0.52597815\n",
            "Iteration 6, Node 1, Weight 0.07890141\n",
            "Iteration 6, Node 2, Weight 0.078954525\n",
            "Iteration 6, Node 3, Weight 0.078844056\n",
            "Iteration 6, Node 4, Weight 0.079167634\n",
            "Iteration 6, Node 5, Weight 0.07898593\n",
            "Iteration 6, Node 6, Weight 0.079168275\n",
            "Iteration 7, Node 0, Weight 0.5417483\n",
            "Iteration 7, Node 1, Weight 0.07613903\n",
            "Iteration 7, Node 2, Weight 0.07641363\n",
            "Iteration 7, Node 3, Weight 0.07659016\n",
            "Iteration 7, Node 4, Weight 0.07659565\n",
            "Iteration 7, Node 5, Weight 0.076478\n",
            "Iteration 7, Node 6, Weight 0.07603525\n",
            "Iteration 8, Node 0, Weight 0.5291856\n",
            "Iteration 8, Node 1, Weight 0.078149125\n",
            "Iteration 8, Node 2, Weight 0.07841664\n",
            "Iteration 8, Node 3, Weight 0.07856293\n",
            "Iteration 8, Node 4, Weight 0.07855587\n",
            "Iteration 8, Node 5, Weight 0.0788125\n",
            "Iteration 8, Node 6, Weight 0.07831732\n",
            "Iteration 9, Node 0, Weight 0.53414184\n",
            "Iteration 9, Node 1, Weight 0.07779261\n",
            "Iteration 9, Node 2, Weight 0.07741139\n",
            "Iteration 9, Node 3, Weight 0.07771627\n",
            "Iteration 9, Node 4, Weight 0.07757075\n",
            "Iteration 9, Node 5, Weight 0.077196494\n",
            "Iteration 9, Node 6, Weight 0.07817064\n",
            "Unfolding layer 4\n",
            "Iteration 0, Node 0, Weight 0.55690026\n",
            "Iteration 0, Node 1, Weight 0.07381491\n",
            "Iteration 0, Node 2, Weight 0.07356753\n",
            "Iteration 0, Node 3, Weight 0.07408298\n",
            "Iteration 0, Node 4, Weight 0.07447108\n",
            "Iteration 0, Node 5, Weight 0.07359688\n",
            "Iteration 0, Node 6, Weight 0.07356628\n",
            "Iteration 1, Node 0, Weight 0.5368893\n",
            "Iteration 1, Node 1, Weight 0.07743763\n",
            "Iteration 1, Node 2, Weight 0.076921985\n",
            "Iteration 1, Node 3, Weight 0.07698191\n",
            "Iteration 1, Node 4, Weight 0.07724313\n",
            "Iteration 1, Node 5, Weight 0.07688496\n",
            "Iteration 1, Node 6, Weight 0.07764102\n",
            "Iteration 2, Node 0, Weight 0.5479579\n",
            "Iteration 2, Node 1, Weight 0.074909374\n",
            "Iteration 2, Node 2, Weight 0.0748997\n",
            "Iteration 2, Node 3, Weight 0.07580269\n",
            "Iteration 2, Node 4, Weight 0.0752866\n",
            "Iteration 2, Node 5, Weight 0.075687006\n",
            "Iteration 2, Node 6, Weight 0.075456746\n",
            "Iteration 3, Node 0, Weight 0.56517285\n",
            "Iteration 3, Node 1, Weight 0.071996346\n",
            "Iteration 3, Node 2, Weight 0.07244303\n",
            "Iteration 3, Node 3, Weight 0.07265748\n",
            "Iteration 3, Node 4, Weight 0.07243995\n",
            "Iteration 3, Node 5, Weight 0.072797045\n",
            "Iteration 3, Node 6, Weight 0.07249329\n",
            "Iteration 4, Node 0, Weight 0.5318787\n",
            "Iteration 4, Node 1, Weight 0.07805449\n",
            "Iteration 4, Node 2, Weight 0.078046605\n",
            "Iteration 4, Node 3, Weight 0.07791768\n",
            "Iteration 4, Node 4, Weight 0.078071766\n",
            "Iteration 4, Node 5, Weight 0.078054614\n",
            "Iteration 4, Node 6, Weight 0.077976085\n",
            "Iteration 5, Node 0, Weight 0.5229511\n",
            "Iteration 5, Node 1, Weight 0.07940524\n",
            "Iteration 5, Node 2, Weight 0.079320945\n",
            "Iteration 5, Node 3, Weight 0.079780065\n",
            "Iteration 5, Node 4, Weight 0.07953306\n",
            "Iteration 5, Node 5, Weight 0.079302885\n",
            "Iteration 5, Node 6, Weight 0.07970662\n",
            "Iteration 6, Node 0, Weight 0.5256098\n",
            "Iteration 6, Node 1, Weight 0.0789553\n",
            "Iteration 6, Node 2, Weight 0.07901284\n",
            "Iteration 6, Node 3, Weight 0.07888971\n",
            "Iteration 6, Node 4, Weight 0.07924595\n",
            "Iteration 6, Node 5, Weight 0.07904328\n",
            "Iteration 6, Node 6, Weight 0.079243176\n",
            "Iteration 7, Node 0, Weight 0.54150414\n",
            "Iteration 7, Node 1, Weight 0.07615379\n",
            "Iteration 7, Node 2, Weight 0.076458685\n",
            "Iteration 7, Node 3, Weight 0.076653905\n",
            "Iteration 7, Node 4, Weight 0.0766595\n",
            "Iteration 7, Node 5, Weight 0.07652919\n",
            "Iteration 7, Node 6, Weight 0.07604082\n",
            "Iteration 8, Node 0, Weight 0.52882993\n",
            "Iteration 8, Node 1, Weight 0.07818071\n",
            "Iteration 8, Node 2, Weight 0.0784748\n",
            "Iteration 8, Node 3, Weight 0.078633904\n",
            "Iteration 8, Node 4, Weight 0.07862328\n",
            "Iteration 8, Node 5, Weight 0.07890364\n",
            "Iteration 8, Node 6, Weight 0.07835374\n",
            "Iteration 9, Node 0, Weight 0.5338735\n",
            "Iteration 9, Node 1, Weight 0.077849455\n",
            "Iteration 9, Node 2, Weight 0.07742926\n",
            "Iteration 9, Node 3, Weight 0.07776808\n",
            "Iteration 9, Node 4, Weight 0.077608205\n",
            "Iteration 9, Node 5, Weight 0.07719662\n",
            "Iteration 9, Node 6, Weight 0.07827484\n",
            "Unfolding layer 5\n",
            "Iteration 0, Node 0, Weight 0.5566323\n",
            "Iteration 0, Node 1, Weight 0.073857084\n",
            "Iteration 0, Node 2, Weight 0.07358962\n",
            "Iteration 0, Node 3, Weight 0.07414805\n",
            "Iteration 0, Node 4, Weight 0.07456686\n",
            "Iteration 0, Node 5, Weight 0.07361911\n",
            "Iteration 0, Node 6, Weight 0.07358699\n",
            "Iteration 1, Node 0, Weight 0.53669214\n",
            "Iteration 1, Node 1, Weight 0.07748734\n",
            "Iteration 1, Node 2, Weight 0.07693004\n",
            "Iteration 1, Node 3, Weight 0.076997265\n",
            "Iteration 1, Node 4, Weight 0.077281944\n",
            "Iteration 1, Node 5, Weight 0.0768955\n",
            "Iteration 1, Node 6, Weight 0.07771577\n",
            "Iteration 2, Node 0, Weight 0.54764307\n",
            "Iteration 2, Node 1, Weight 0.07492802\n",
            "Iteration 2, Node 2, Weight 0.07491806\n",
            "Iteration 2, Node 3, Weight 0.075895\n",
            "Iteration 2, Node 4, Weight 0.07533419\n",
            "Iteration 2, Node 5, Weight 0.07576639\n",
            "Iteration 2, Node 6, Weight 0.07551524\n",
            "Iteration 3, Node 0, Weight 0.5648981\n",
            "Iteration 3, Node 1, Weight 0.07200216\n",
            "Iteration 3, Node 2, Weight 0.072487146\n",
            "Iteration 3, Node 3, Weight 0.072719246\n",
            "Iteration 3, Node 4, Weight 0.07248338\n",
            "Iteration 3, Node 5, Weight 0.07286982\n",
            "Iteration 3, Node 6, Weight 0.072540216\n",
            "Iteration 4, Node 0, Weight 0.53163624\n",
            "Iteration 4, Node 1, Weight 0.07809867\n",
            "Iteration 4, Node 2, Weight 0.07808962\n",
            "Iteration 4, Node 3, Weight 0.07794974\n",
            "Iteration 4, Node 4, Weight 0.078116395\n",
            "Iteration 4, Node 5, Weight 0.0780973\n",
            "Iteration 4, Node 6, Weight 0.07801196\n",
            "Iteration 5, Node 0, Weight 0.52258104\n",
            "Iteration 5, Node 1, Weight 0.07946181\n",
            "Iteration 5, Node 2, Weight 0.07936951\n",
            "Iteration 5, Node 3, Weight 0.07986517\n",
            "Iteration 5, Node 4, Weight 0.079595655\n",
            "Iteration 5, Node 5, Weight 0.07934533\n",
            "Iteration 5, Node 6, Weight 0.0797814\n",
            "Iteration 6, Node 0, Weight 0.5252656\n",
            "Iteration 6, Node 1, Weight 0.07900611\n",
            "Iteration 6, Node 2, Weight 0.0790675\n",
            "Iteration 6, Node 3, Weight 0.07893334\n",
            "Iteration 6, Node 4, Weight 0.07931805\n",
            "Iteration 6, Node 5, Weight 0.07909709\n",
            "Iteration 6, Node 6, Weight 0.07931227\n",
            "Iteration 7, Node 0, Weight 0.541268\n",
            "Iteration 7, Node 1, Weight 0.076170534\n",
            "Iteration 7, Node 2, Weight 0.076501824\n",
            "Iteration 7, Node 3, Weight 0.07671334\n",
            "Iteration 7, Node 4, Weight 0.07671899\n",
            "Iteration 7, Node 5, Weight 0.07657767\n",
            "Iteration 7, Node 6, Weight 0.076049566\n",
            "Iteration 8, Node 0, Weight 0.5284973\n",
            "Iteration 8, Node 1, Weight 0.078212045\n",
            "Iteration 8, Node 2, Weight 0.078529246\n",
            "Iteration 8, Node 3, Weight 0.07869954\n",
            "Iteration 8, Node 4, Weight 0.078685805\n",
            "Iteration 8, Node 5, Weight 0.07898679\n",
            "Iteration 8, Node 6, Weight 0.07838925\n",
            "Iteration 9, Node 0, Weight 0.5336163\n",
            "Iteration 9, Node 1, Weight 0.07790292\n",
            "Iteration 9, Node 2, Weight 0.077448726\n",
            "Iteration 9, Node 3, Weight 0.07781713\n",
            "Iteration 9, Node 4, Weight 0.077644765\n",
            "Iteration 9, Node 5, Weight 0.07720062\n",
            "Iteration 9, Node 6, Weight 0.078369595\n",
            "Unfolding layer 6\n",
            "Iteration 0, Node 0, Weight 0.5563777\n",
            "Iteration 0, Node 1, Weight 0.07389731\n",
            "Iteration 0, Node 2, Weight 0.07361216\n",
            "Iteration 0, Node 3, Weight 0.07420842\n",
            "Iteration 0, Node 4, Weight 0.07465425\n",
            "Iteration 0, Node 5, Weight 0.0736418\n",
            "Iteration 0, Node 6, Weight 0.07360832\n",
            "Iteration 1, Node 0, Weight 0.5365016\n",
            "Iteration 1, Node 1, Weight 0.07753393\n",
            "Iteration 1, Node 2, Weight 0.07693996\n",
            "Iteration 1, Node 3, Weight 0.0770136\n",
            "Iteration 1, Node 4, Weight 0.07731896\n",
            "Iteration 1, Node 5, Weight 0.07690759\n",
            "Iteration 1, Node 6, Weight 0.07778437\n",
            "Iteration 2, Node 0, Weight 0.5473477\n",
            "Iteration 2, Node 1, Weight 0.074947506\n",
            "Iteration 2, Node 2, Weight 0.07493731\n",
            "Iteration 2, Node 3, Weight 0.07597929\n",
            "Iteration 2, Node 4, Weight 0.07537915\n",
            "Iteration 2, Node 5, Weight 0.0758393\n",
            "Iteration 2, Node 6, Weight 0.07556976\n",
            "Iteration 3, Node 0, Weight 0.56463647\n",
            "Iteration 3, Node 1, Weight 0.072010584\n",
            "Iteration 3, Node 2, Weight 0.07252924\n",
            "Iteration 3, Node 3, Weight 0.072776884\n",
            "Iteration 3, Node 4, Weight 0.07252488\n",
            "Iteration 3, Node 5, Weight 0.07293711\n",
            "Iteration 3, Node 6, Weight 0.07258479\n",
            "Iteration 4, Node 0, Weight 0.5314054\n",
            "Iteration 4, Node 1, Weight 0.07814046\n",
            "Iteration 4, Node 2, Weight 0.078130394\n",
            "Iteration 4, Node 3, Weight 0.0779809\n",
            "Iteration 4, Node 4, Weight 0.0781586\n",
            "Iteration 4, Node 5, Weight 0.07813782\n",
            "Iteration 4, Node 6, Weight 0.07804643\n",
            "Iteration 5, Node 0, Weight 0.52223814\n",
            "Iteration 5, Node 1, Weight 0.07951448\n",
            "Iteration 5, Node 2, Weight 0.07941513\n",
            "Iteration 5, Node 3, Weight 0.07994295\n",
            "Iteration 5, Node 4, Weight 0.07965366\n",
            "Iteration 5, Node 5, Weight 0.07938559\n",
            "Iteration 5, Node 6, Weight 0.07985008\n",
            "Iteration 6, Node 0, Weight 0.5249451\n",
            "Iteration 6, Node 1, Weight 0.07905381\n",
            "Iteration 6, Node 2, Weight 0.07911855\n",
            "Iteration 6, Node 3, Weight 0.0789747\n",
            "Iteration 6, Node 4, Weight 0.079384424\n",
            "Iteration 6, Node 5, Weight 0.07914742\n",
            "Iteration 6, Node 6, Weight 0.07937605\n",
            "Iteration 7, Node 0, Weight 0.54104227\n",
            "Iteration 7, Node 1, Weight 0.07618829\n",
            "Iteration 7, Node 2, Weight 0.0765428\n",
            "Iteration 7, Node 3, Weight 0.076768644\n",
            "Iteration 7, Node 4, Weight 0.07677439\n",
            "Iteration 7, Node 5, Weight 0.076623395\n",
            "Iteration 7, Node 6, Weight 0.076060265\n",
            "Iteration 8, Node 0, Weight 0.5281871\n",
            "Iteration 8, Node 1, Weight 0.078242555\n",
            "Iteration 8, Node 2, Weight 0.07858011\n",
            "Iteration 8, Node 3, Weight 0.0787602\n",
            "Iteration 8, Node 4, Weight 0.078743726\n",
            "Iteration 8, Node 5, Weight 0.07906288\n",
            "Iteration 8, Node 6, Weight 0.07842345\n",
            "Iteration 9, Node 0, Weight 0.5333718\n",
            "Iteration 9, Node 1, Weight 0.07795297\n",
            "Iteration 9, Node 2, Weight 0.07746885\n",
            "Iteration 9, Node 3, Weight 0.077863306\n",
            "Iteration 9, Node 4, Weight 0.07767992\n",
            "Iteration 9, Node 5, Weight 0.07720715\n",
            "Iteration 9, Node 6, Weight 0.078455985\n",
            "Unfolding layer 7\n",
            "Iteration 0, Node 0, Weight 0.55613756\n",
            "Iteration 0, Node 1, Weight 0.0739354\n",
            "Iteration 0, Node 2, Weight 0.0736346\n",
            "Iteration 0, Node 3, Weight 0.07426437\n",
            "Iteration 0, Node 4, Weight 0.07473413\n",
            "Iteration 0, Node 5, Weight 0.07366435\n",
            "Iteration 0, Node 6, Weight 0.07362968\n",
            "Iteration 1, Node 0, Weight 0.5363193\n",
            "Iteration 1, Node 1, Weight 0.07757747\n",
            "Iteration 1, Node 2, Weight 0.07695097\n",
            "Iteration 1, Node 3, Weight 0.07703031\n",
            "Iteration 1, Node 4, Weight 0.07735397\n",
            "Iteration 1, Node 5, Weight 0.07692054\n",
            "Iteration 1, Node 6, Weight 0.07784744\n",
            "Iteration 2, Node 0, Weight 0.5470717\n",
            "Iteration 2, Node 1, Weight 0.07496717\n",
            "Iteration 2, Node 2, Weight 0.07495673\n",
            "Iteration 2, Node 3, Weight 0.07605633\n",
            "Iteration 2, Node 4, Weight 0.07542136\n",
            "Iteration 2, Node 5, Weight 0.07590628\n",
            "Iteration 2, Node 6, Weight 0.075620465\n",
            "Iteration 3, Node 0, Weight 0.5643894\n",
            "Iteration 3, Node 1, Weight 0.0720206\n",
            "Iteration 3, Node 2, Weight 0.0725691\n",
            "Iteration 3, Node 3, Weight 0.072830506\n",
            "Iteration 3, Node 4, Weight 0.07256424\n",
            "Iteration 3, Node 5, Weight 0.07299932\n",
            "Iteration 3, Node 6, Weight 0.07262683\n",
            "Iteration 4, Node 0, Weight 0.531187\n",
            "Iteration 4, Node 1, Weight 0.07817981\n",
            "Iteration 4, Node 2, Weight 0.07816885\n",
            "Iteration 4, Node 3, Weight 0.0780108\n",
            "Iteration 4, Node 4, Weight 0.078198284\n",
            "Iteration 4, Node 5, Weight 0.07817601\n",
            "Iteration 4, Node 6, Weight 0.0780793\n",
            "Iteration 5, Node 0, Weight 0.52192056\n",
            "Iteration 5, Node 1, Weight 0.079563424\n",
            "Iteration 5, Node 2, Weight 0.07945781\n",
            "Iteration 5, Node 3, Weight 0.08001415\n",
            "Iteration 5, Node 4, Weight 0.0797073\n",
            "Iteration 5, Node 5, Weight 0.07942354\n",
            "Iteration 5, Node 6, Weight 0.07991322\n",
            "Iteration 6, Node 0, Weight 0.524647\n",
            "Iteration 6, Node 1, Weight 0.079098396\n",
            "Iteration 6, Node 2, Weight 0.079166114\n",
            "Iteration 6, Node 3, Weight 0.07901366\n",
            "Iteration 6, Node 4, Weight 0.079445586\n",
            "Iteration 6, Node 5, Weight 0.07919433\n",
            "Iteration 6, Node 6, Weight 0.07943487\n",
            "Iteration 7, Node 0, Weight 0.5408279\n",
            "Iteration 7, Node 1, Weight 0.07620638\n",
            "Iteration 7, Node 2, Weight 0.07658147\n",
            "Iteration 7, Node 3, Weight 0.07682003\n",
            "Iteration 7, Node 4, Weight 0.07682583\n",
            "Iteration 7, Node 5, Weight 0.07666622\n",
            "Iteration 7, Node 6, Weight 0.07607211\n",
            "Iteration 8, Node 0, Weight 0.52789855\n",
            "Iteration 8, Node 1, Weight 0.07827189\n",
            "Iteration 8, Node 2, Weight 0.07862746\n",
            "Iteration 8, Node 3, Weight 0.078816235\n",
            "Iteration 8, Node 4, Weight 0.07879734\n",
            "Iteration 8, Node 5, Weight 0.07913255\n",
            "Iteration 8, Node 6, Weight 0.07845603\n",
            "Iteration 9, Node 0, Weight 0.5331411\n",
            "Iteration 9, Node 1, Weight 0.0779997\n",
            "Iteration 9, Node 2, Weight 0.077489056\n",
            "Iteration 9, Node 3, Weight 0.07790657\n",
            "Iteration 9, Node 4, Weight 0.07771345\n",
            "Iteration 9, Node 5, Weight 0.07721527\n",
            "Iteration 9, Node 6, Weight 0.07853492\n",
            "Unfolding layer 8\n",
            "Iteration 0, Node 0, Weight 0.55591184\n",
            "Iteration 0, Node 1, Weight 0.07397128\n",
            "Iteration 0, Node 2, Weight 0.07365652\n",
            "Iteration 0, Node 3, Weight 0.07431615\n",
            "Iteration 0, Node 4, Weight 0.07480724\n",
            "Iteration 0, Node 5, Weight 0.07368638\n",
            "Iteration 0, Node 6, Weight 0.07365063\n",
            "Iteration 1, Node 0, Weight 0.5361463\n",
            "Iteration 1, Node 1, Weight 0.07761802\n",
            "Iteration 1, Node 2, Weight 0.07696255\n",
            "Iteration 1, Node 3, Weight 0.07704697\n",
            "Iteration 1, Node 4, Weight 0.07738696\n",
            "Iteration 1, Node 5, Weight 0.076933846\n",
            "Iteration 1, Node 6, Weight 0.077905424\n",
            "Iteration 2, Node 0, Weight 0.5468143\n",
            "Iteration 2, Node 1, Weight 0.0749866\n",
            "Iteration 2, Node 2, Weight 0.07497596\n",
            "Iteration 2, Node 3, Weight 0.07612687\n",
            "Iteration 2, Node 4, Weight 0.07546087\n",
            "Iteration 2, Node 5, Weight 0.07596783\n",
            "Iteration 2, Node 6, Weight 0.07566751\n",
            "Iteration 3, Node 0, Weight 0.56415695\n",
            "Iteration 3, Node 1, Weight 0.07203159\n",
            "Iteration 3, Node 2, Weight 0.07260667\n",
            "Iteration 3, Node 3, Weight 0.07288034\n",
            "Iteration 3, Node 4, Weight 0.072601326\n",
            "Iteration 3, Node 5, Weight 0.07305677\n",
            "Iteration 3, Node 6, Weight 0.07266635\n",
            "Iteration 4, Node 0, Weight 0.5309814\n",
            "Iteration 4, Node 1, Weight 0.07821668\n",
            "Iteration 4, Node 2, Weight 0.07820491\n",
            "Iteration 4, Node 3, Weight 0.07803925\n",
            "Iteration 4, Node 4, Weight 0.07823548\n",
            "Iteration 4, Node 5, Weight 0.07821186\n",
            "Iteration 4, Node 6, Weight 0.0781104\n",
            "Iteration 5, Node 0, Weight 0.52162683\n",
            "Iteration 5, Node 1, Weight 0.079608835\n",
            "Iteration 5, Node 2, Weight 0.07949767\n",
            "Iteration 5, Node 3, Weight 0.08007937\n",
            "Iteration 5, Node 4, Weight 0.07975689\n",
            "Iteration 5, Node 5, Weight 0.07945916\n",
            "Iteration 5, Node 6, Weight 0.07997126\n",
            "Iteration 6, Node 0, Weight 0.52437043\n",
            "Iteration 6, Node 1, Weight 0.07913998\n",
            "Iteration 6, Node 2, Weight 0.07921036\n",
            "Iteration 6, Node 3, Weight 0.079050265\n",
            "Iteration 6, Node 4, Weight 0.07950191\n",
            "Iteration 6, Node 5, Weight 0.07923799\n",
            "Iteration 6, Node 6, Weight 0.07948913\n",
            "Iteration 7, Node 0, Weight 0.5406259\n",
            "Iteration 7, Node 1, Weight 0.076224364\n",
            "Iteration 7, Node 2, Weight 0.076617815\n",
            "Iteration 7, Node 3, Weight 0.07686766\n",
            "Iteration 7, Node 4, Weight 0.07687354\n",
            "Iteration 7, Node 5, Weight 0.076706275\n",
            "Iteration 7, Node 6, Weight 0.07608452\n",
            "Iteration 8, Node 0, Weight 0.5276305\n",
            "Iteration 8, Node 1, Weight 0.07829984\n",
            "Iteration 8, Node 2, Weight 0.07867145\n",
            "Iteration 8, Node 3, Weight 0.07886797\n",
            "Iteration 8, Node 4, Weight 0.07884692\n",
            "Iteration 8, Node 5, Weight 0.07919643\n",
            "Iteration 8, Node 6, Weight 0.07848688\n",
            "Iteration 9, Node 0, Weight 0.53292406\n",
            "Iteration 9, Node 1, Weight 0.07804319\n",
            "Iteration 9, Node 2, Weight 0.07750891\n",
            "Iteration 9, Node 3, Weight 0.077947006\n",
            "Iteration 9, Node 4, Weight 0.07774519\n",
            "Iteration 9, Node 5, Weight 0.07722439\n",
            "Iteration 9, Node 6, Weight 0.07860713\n",
            "Unfolding layer 9\n",
            "Iteration 0, Node 0, Weight 0.5557005\n",
            "Iteration 0, Node 1, Weight 0.074004956\n",
            "Iteration 0, Node 2, Weight 0.073677726\n",
            "Iteration 0, Node 3, Weight 0.07436405\n",
            "Iteration 0, Node 4, Weight 0.074874215\n",
            "Iteration 0, Node 5, Weight 0.07370767\n",
            "Iteration 0, Node 6, Weight 0.073670976\n",
            "Iteration 1, Node 0, Weight 0.5359829\n",
            "Iteration 1, Node 1, Weight 0.07765573\n",
            "Iteration 1, Node 2, Weight 0.0769743\n",
            "Iteration 1, Node 3, Weight 0.07706327\n",
            "Iteration 1, Node 4, Weight 0.07741789\n",
            "Iteration 1, Node 5, Weight 0.07694717\n",
            "Iteration 1, Node 6, Weight 0.07795872\n",
            "Iteration 2, Node 0, Weight 0.5465749\n",
            "Iteration 2, Node 1, Weight 0.0750055\n",
            "Iteration 2, Node 2, Weight 0.0749947\n",
            "Iteration 2, Node 3, Weight 0.07619151\n",
            "Iteration 2, Node 4, Weight 0.07549773\n",
            "Iteration 2, Node 5, Weight 0.07602444\n",
            "Iteration 2, Node 6, Weight 0.07571114\n",
            "Iteration 3, Node 0, Weight 0.5639392\n",
            "Iteration 3, Node 1, Weight 0.07204303\n",
            "Iteration 3, Node 2, Weight 0.0726419\n",
            "Iteration 3, Node 3, Weight 0.07292655\n",
            "Iteration 3, Node 4, Weight 0.07263614\n",
            "Iteration 3, Node 5, Weight 0.07310983\n",
            "Iteration 3, Node 6, Weight 0.07270333\n",
            "Iteration 4, Node 0, Weight 0.53078866\n",
            "Iteration 4, Node 1, Weight 0.07825113\n",
            "Iteration 4, Node 2, Weight 0.07823864\n",
            "Iteration 4, Node 3, Weight 0.07806619\n",
            "Iteration 4, Node 4, Weight 0.07827021\n",
            "Iteration 4, Node 5, Weight 0.078245394\n",
            "Iteration 4, Node 6, Weight 0.0781397\n",
            "Iteration 5, Node 0, Weight 0.5213554\n",
            "Iteration 5, Node 1, Weight 0.07965091\n",
            "Iteration 5, Node 2, Weight 0.079534784\n",
            "Iteration 5, Node 3, Weight 0.08013916\n",
            "Iteration 5, Node 4, Weight 0.07980272\n",
            "Iteration 5, Node 5, Weight 0.07949247\n",
            "Iteration 5, Node 6, Weight 0.08002462\n",
            "Iteration 6, Node 0, Weight 0.524114\n",
            "Iteration 6, Node 1, Weight 0.079178646\n",
            "Iteration 6, Node 2, Weight 0.079251416\n",
            "Iteration 6, Node 3, Weight 0.07908446\n",
            "Iteration 6, Node 4, Weight 0.07955378\n",
            "Iteration 6, Node 5, Weight 0.07927851\n",
            "Iteration 6, Node 6, Weight 0.07953914\n",
            "Iteration 7, Node 0, Weight 0.5404359\n",
            "Iteration 7, Node 1, Weight 0.07624196\n",
            "Iteration 7, Node 2, Weight 0.07665182\n",
            "Iteration 7, Node 3, Weight 0.07691181\n",
            "Iteration 7, Node 4, Weight 0.07691774\n",
            "Iteration 7, Node 5, Weight 0.07674363\n",
            "Iteration 7, Node 6, Weight 0.07609714\n",
            "Iteration 8, Node 0, Weight 0.52738184\n",
            "Iteration 8, Node 1, Weight 0.07832634\n",
            "Iteration 8, Node 2, Weight 0.07871231\n",
            "Iteration 8, Node 3, Weight 0.078915715\n",
            "Iteration 8, Node 4, Weight 0.078892745\n",
            "Iteration 8, Node 5, Weight 0.07925505\n",
            "Iteration 8, Node 6, Weight 0.07851596\n",
            "Iteration 9, Node 0, Weight 0.532721\n",
            "Iteration 9, Node 1, Weight 0.07808366\n",
            "Iteration 9, Node 2, Weight 0.077528216\n",
            "Iteration 9, Node 3, Weight 0.07798472\n",
            "Iteration 9, Node 4, Weight 0.07777512\n",
            "Iteration 9, Node 5, Weight 0.07723407\n",
            "Iteration 9, Node 6, Weight 0.07867328\n",
            "Deep unfolding done\n"
          ]
        }
      ]
    },
    {
      "cell_type": "code",
      "source": [
        "if __name__ == '__main__':\n",
        "#def fedlearning(weights,method,params):\n",
        "    # numpy data\n",
        "    if dataset == 'mnist':\n",
        "        (x_train, y_train), (x_test, y_test) = tf.keras.datasets.mnist.load_data()\n",
        "    elif dataset == 'fashion':\n",
        "        (x_train, y_train), (x_test, y_test) = tf.keras.datasets.fashion_mnist.load_data()\n",
        "    ind = y_test == 9\n",
        "    x_test, y_test = x_test[~ind], y_test[~ind]\n",
        "    ind = y_test == 8\n",
        "    x_test, y_test = x_test[~ind], y_test[~ind]\n",
        "    ind = y_train == 9\n",
        "    x_train, y_train = x_train[~ind], y_train[~ind]\n",
        "    ind = y_train == 8\n",
        "    x_train, y_train = x_train[~ind], y_train[~ind]\n",
        "\n",
        "    x_train = x_train / 255.0\n",
        "    if encoding_mode == 'vanilla':\n",
        "        mean = 0\n",
        "    elif encoding_mode == 'mean':\n",
        "        mean = jnp.mean(x_train, axis=0)\n",
        "    elif encoding_mode == 'half':\n",
        "        mean = 0.5\n",
        "    x_train = x_train - mean\n",
        "    x_train = tf.image.resize(x_train[..., tf.newaxis], (int(2**(n/2)), int(2**(n/2)))).numpy()[..., 0].reshape(-1, 2**n)\n",
        "    x_train = x_train / jnp.sqrt(jnp.sum(x_train**2, axis=-1, keepdims=True))\n",
        "\n",
        "    x_test = x_test / 255.0\n",
        "    x_test = x_test - mean\n",
        "    x_test = tf.image.resize(x_test[..., tf.newaxis], (int(2**(n/2)), int(2**(n/2)))).numpy()[..., 0].reshape(-1, 2**n)\n",
        "    x_test = x_test / jnp.sqrt(jnp.sum(x_test**2, axis=-1, keepdims=True))\n",
        "    y_test = jax.nn.one_hot(y_test, n_node)\n",
        "\n",
        "    world_train_loss = []\n",
        "    world_test_loss = []\n",
        "    world_train_acc = []\n",
        "    world_test_acc = []\n",
        "    paramslist_all = []\n",
        "    xlist_all = []\n",
        "    ylist_all = []\n",
        "    opt_statenodeall=[]\n",
        "    for t in tqdm(range(T)):\n",
        "        print(\"Iteration \", t)\n",
        "        params_list = []\n",
        "        opt_state_list = []\n",
        "        data_list = []\n",
        "        iter_list = []\n",
        "        params_lists=[]\n",
        "        xnodelists=[]\n",
        "        ynodelists=[]\n",
        "        for node in range(n_node-1):\n",
        "            x_train_node, y_train_node = filter(x_train, y_train, [0, node+1])\n",
        "            # x_train_node, y_train_node = x_train, jax.nn.one_hot(y_train, n_node)\n",
        "            data = tf.data.Dataset.from_tensor_slices((x_train_node, y_train_node)).batch(128)\n",
        "            data_list.append(data)\n",
        "            iter_list.append(iter(data))\n",
        "\n",
        "            key, subkey = jax.random.split(key)\n",
        "            params = jax.random.normal(subkey, (3 * k, n))\n",
        "            #params=params\n",
        "            opt = optax.adam(learning_rate=1e-2)\n",
        "            opt_state = opt.init(params)\n",
        "            params_list.append(params)\n",
        "            opt_state_list.append(opt_state)\n",
        "\n",
        "        loss_list = []\n",
        "        acc_list = []\n",
        "        params_listnode=[]\n",
        "        xnode=[]\n",
        "        ynode=[]\n",
        "        opt_statenode=[]\n",
        "        weighted_paramlist=[]\n",
        "        for node in range(n_node-1):\n",
        "            #for b in range(100):\n",
        "            #print(\"node\", node)\n",
        "\n",
        "            try:\n",
        "              x, y = next(iter_list[node])\n",
        "            except StopIteration:\n",
        "              iter_list[node] = iter(data_list[node])\n",
        "              x, y = next(iter_list[node])\n",
        "            x = x.numpy()\n",
        "            y = y.numpy()\n",
        "            loss_val, grad_val = compute_loss(params_list[node], x, y, k)\n",
        "            #print(\"loss lenth\",node, \"is\", len(loss_val))\n",
        "            #print(\"grad lenth\",node, \"is\", len(grad_val))\n",
        "            #print(\"para length\",node, \"is\", len(params_list[node]))\n",
        "            updates, opt_state_list[node] = opt.update(grad_val, opt_state_list[node], params_list[node])\n",
        "            params_list[node] = optax.apply_updates(params_list[node], updates)\n",
        "                #print(loss_val)\n",
        "            #if method==\"dunQFL\":\n",
        "            #params_list[node] = params_list[node]*normalized_weights_Per_it[t][node]\n",
        "            #if method==\"QFL\":\n",
        "              #params_list[node]=params_list[node]\n",
        "\n",
        "\n",
        "            #print(weighted_paramlist[node])\n",
        "            params_listnode.append(params_list[node])\n",
        "            opt_statenode.append(opt_state_list[node])\n",
        "            xnode.append(x)\n",
        "            ynode.append(y)\n",
        "\n",
        "\n",
        "            #avg_params = jnp.mean(jnp.stack(params_list, axis=0), axis=0)\n",
        "            #instead above line\n",
        "            ########################################\n",
        "\n",
        "    #def calculate_weighted_average_params(params_list, normalized_weights_Per_it):\n",
        "    # Convert the list of parameters to a JAX array\n",
        "            params_array = jnp.stack(params_list, axis=0)\n",
        "\n",
        "            # Expand dimensions of normalized_weights_Per_it to match params_array\n",
        "            weights_expanded = jnp.expand_dims(normalized_weights_Per_it, axis=-1)\n",
        "\n",
        "            # Calculate the weighted sum along the iteration axis\n",
        "            weighted_sum_params = jnp.sum(params_array * weights_expanded, axis=0)\n",
        "\n",
        "            # Calculate the total weight along the iteration axis\n",
        "            total_weights = jnp.sum(weights_expanded, axis=0)\n",
        "\n",
        "            # Calculate the average parameters\n",
        "            avg_params = weighted_sum_params / total_weights\n",
        "            #########################################\n",
        "\n",
        "            for node in range(n_node-1):\n",
        "                params_list[node] = avg_params\n",
        "\n",
        "                #if b % 25 == 0:\n",
        "            avg_loss = jnp.mean(compute_loss(avg_params, x_test[:1024], y_test[:1024], k)[0])\n",
        "            loss_list.append(avg_loss)\n",
        "            acc_list.append(compute_accuracy(avg_params, x_test[:1024], y_test[:1024], k).mean())\n",
        "            tqdm.write(f\"Iteration {t}, loss {avg_loss}, accuracy {acc_list[-1]}\")\n",
        "\n",
        "        paramslist_all.append(params_listnode)\n",
        "        xlist_all.append(xnode)\n",
        "        ylist_all.append(ynode)\n",
        "        opt_statenodeall.append(opt_statenode)\n",
        "        test_acc = jnp.mean(pred(avg_params, x_test[:1024], k).argmax(axis=-1) == y_test[:1024].argmax(axis=-1))\n",
        "        test_loss = -jnp.mean(jnp.log(pred(avg_params, x_test[:1024], k)) * y_test[:1024])\n",
        "\n",
        "        world_train_loss.append(loss_list)\n",
        "        world_test_loss.append(test_loss)\n",
        "        world_train_acc.append(acc_list)\n",
        "        world_test_acc.append(test_acc)\n",
        "        #tqdm.write(f\"world {world}: test loss {test_loss}, test accuracy {test_acc}\")\n",
        "        #print(len(paramslist_all[0]))\n",
        "\n",
        "    #return paramslist_all, xlist_all, ylist_all,opt_statenodeall\n",
        "\n",
        "    #avg_test_loss = jnp.mean(jnp.array(world_test_loss), axis=0)\n",
        "    #avg_test_acc = jnp.mean(jnp.array(world_test_acc), axis=0)\n",
        "    #std_test_loss = jnp.std(jnp.array(world_test_loss), axis=0)\n",
        "    #std_test_acc = jnp.std(jnp.array(world_test_acc), axis=0)\n",
        "    #print(f'test loss: {avg_test_loss}+-{std_test_loss}, test acc: {avg_test_acc}+-{std_test_acc}')"
      ],
      "metadata": {
        "id": "NsBoabcPIrCw",
        "outputId": "2b38fbd3-6e66-4f82-a113-8a95d8bd6ede",
        "colab": {
          "base_uri": "https://localhost:8080/"
        }
      },
      "execution_count": null,
      "outputs": [
        {
          "output_type": "stream",
          "name": "stderr",
          "text": [
            "\r  0%|          | 0/10 [00:00<?, ?it/s]"
          ]
        },
        {
          "output_type": "stream",
          "name": "stdout",
          "text": [
            "Iteration  0\n"
          ]
        },
        {
          "output_type": "stream",
          "name": "stderr",
          "text": [
            "  0%|          | 0/10 [00:26<?, ?it/s]"
          ]
        },
        {
          "output_type": "stream",
          "name": "stdout",
          "text": [
            "Iteration 0, loss 2.378636360168457, accuracy 0.119140625\n"
          ]
        },
        {
          "output_type": "stream",
          "name": "stderr",
          "text": [
            "  0%|          | 0/10 [00:36<?, ?it/s]"
          ]
        },
        {
          "output_type": "stream",
          "name": "stdout",
          "text": [
            "Iteration 0, loss 2.3321735858917236, accuracy 0.09765625\n"
          ]
        },
        {
          "output_type": "stream",
          "name": "stderr",
          "text": [
            "  0%|          | 0/10 [00:46<?, ?it/s]"
          ]
        },
        {
          "output_type": "stream",
          "name": "stdout",
          "text": [
            "Iteration 0, loss 2.232487678527832, accuracy 0.1015625\n"
          ]
        },
        {
          "output_type": "stream",
          "name": "stderr",
          "text": [
            "  0%|          | 0/10 [00:57<?, ?it/s]"
          ]
        },
        {
          "output_type": "stream",
          "name": "stdout",
          "text": [
            "Iteration 0, loss 2.3044190406799316, accuracy 0.1162109375\n"
          ]
        },
        {
          "output_type": "stream",
          "name": "stderr",
          "text": [
            "  0%|          | 0/10 [01:07<?, ?it/s]"
          ]
        },
        {
          "output_type": "stream",
          "name": "stdout",
          "text": [
            "Iteration 0, loss 2.3684639930725098, accuracy 0.1083984375\n"
          ]
        },
        {
          "output_type": "stream",
          "name": "stderr",
          "text": [
            "  0%|          | 0/10 [01:17<?, ?it/s]"
          ]
        },
        {
          "output_type": "stream",
          "name": "stdout",
          "text": [
            "Iteration 0, loss 2.412191152572632, accuracy 0.087890625\n"
          ]
        },
        {
          "output_type": "stream",
          "name": "stderr",
          "text": [
            "  0%|          | 0/10 [01:27<?, ?it/s]"
          ]
        },
        {
          "output_type": "stream",
          "name": "stdout",
          "text": [
            "Iteration 0, loss 2.408784866333008, accuracy 0.09375\n"
          ]
        },
        {
          "output_type": "stream",
          "name": "stderr",
          "text": [
            "\r 10%|█         | 1/10 [01:40<15:04, 100.48s/it]"
          ]
        },
        {
          "output_type": "stream",
          "name": "stdout",
          "text": [
            "Iteration  1\n"
          ]
        },
        {
          "output_type": "stream",
          "name": "stderr",
          "text": [
            " 10%|█         | 1/10 [01:50<15:04, 100.48s/it]"
          ]
        },
        {
          "output_type": "stream",
          "name": "stdout",
          "text": [
            "Iteration 1, loss 2.139474391937256, accuracy 0.158203125\n"
          ]
        },
        {
          "output_type": "stream",
          "name": "stderr",
          "text": [
            " 10%|█         | 1/10 [02:01<15:04, 100.48s/it]"
          ]
        },
        {
          "output_type": "stream",
          "name": "stdout",
          "text": [
            "Iteration 1, loss 2.1716184616088867, accuracy 0.15625\n"
          ]
        },
        {
          "output_type": "stream",
          "name": "stderr",
          "text": [
            " 10%|█         | 1/10 [02:11<15:04, 100.48s/it]"
          ]
        },
        {
          "output_type": "stream",
          "name": "stdout",
          "text": [
            "Iteration 1, loss 2.1790506839752197, accuracy 0.1337890625\n"
          ]
        },
        {
          "output_type": "stream",
          "name": "stderr",
          "text": [
            " 10%|█         | 1/10 [02:20<15:04, 100.48s/it]"
          ]
        },
        {
          "output_type": "stream",
          "name": "stdout",
          "text": [
            "Iteration 1, loss 2.125211238861084, accuracy 0.1630859375\n"
          ]
        },
        {
          "output_type": "stream",
          "name": "stderr",
          "text": [
            " 10%|█         | 1/10 [02:30<15:04, 100.48s/it]"
          ]
        },
        {
          "output_type": "stream",
          "name": "stdout",
          "text": [
            "Iteration 1, loss 2.1392173767089844, accuracy 0.15625\n"
          ]
        },
        {
          "output_type": "stream",
          "name": "stderr",
          "text": [
            " 10%|█         | 1/10 [02:40<15:04, 100.48s/it]"
          ]
        },
        {
          "output_type": "stream",
          "name": "stdout",
          "text": [
            "Iteration 1, loss 2.1928858757019043, accuracy 0.154296875\n"
          ]
        },
        {
          "output_type": "stream",
          "name": "stderr",
          "text": [
            " 10%|█         | 1/10 [02:50<15:04, 100.48s/it]"
          ]
        },
        {
          "output_type": "stream",
          "name": "stdout",
          "text": [
            "Iteration 1, loss 2.2975943088531494, accuracy 0.125\n"
          ]
        },
        {
          "output_type": "stream",
          "name": "stderr",
          "text": [
            "\r 20%|██        | 2/10 [03:07<12:18, 92.33s/it] "
          ]
        },
        {
          "output_type": "stream",
          "name": "stdout",
          "text": [
            "Iteration  2\n"
          ]
        },
        {
          "output_type": "stream",
          "name": "stderr",
          "text": [
            " 20%|██        | 2/10 [03:17<12:18, 92.33s/it]"
          ]
        },
        {
          "output_type": "stream",
          "name": "stdout",
          "text": [
            "Iteration 2, loss 2.184457540512085, accuracy 0.1142578125\n"
          ]
        },
        {
          "output_type": "stream",
          "name": "stderr",
          "text": [
            " 20%|██        | 2/10 [03:27<12:18, 92.33s/it]"
          ]
        },
        {
          "output_type": "stream",
          "name": "stdout",
          "text": [
            "Iteration 2, loss 2.3922648429870605, accuracy 0.146484375\n"
          ]
        },
        {
          "output_type": "stream",
          "name": "stderr",
          "text": [
            " 20%|██        | 2/10 [03:36<12:18, 92.33s/it]"
          ]
        },
        {
          "output_type": "stream",
          "name": "stdout",
          "text": [
            "Iteration 2, loss 2.404451847076416, accuracy 0.125\n"
          ]
        },
        {
          "output_type": "stream",
          "name": "stderr",
          "text": [
            " 20%|██        | 2/10 [03:47<12:18, 92.33s/it]"
          ]
        },
        {
          "output_type": "stream",
          "name": "stdout",
          "text": [
            "Iteration 2, loss 2.4720406532287598, accuracy 0.0869140625\n"
          ]
        },
        {
          "output_type": "stream",
          "name": "stderr",
          "text": [
            " 20%|██        | 2/10 [03:57<12:18, 92.33s/it]"
          ]
        },
        {
          "output_type": "stream",
          "name": "stdout",
          "text": [
            "Iteration 2, loss 2.5601141452789307, accuracy 0.076171875\n"
          ]
        },
        {
          "output_type": "stream",
          "name": "stderr",
          "text": [
            " 20%|██        | 2/10 [04:07<12:18, 92.33s/it]"
          ]
        },
        {
          "output_type": "stream",
          "name": "stdout",
          "text": [
            "Iteration 2, loss 2.677370548248291, accuracy 0.0576171875\n"
          ]
        },
        {
          "output_type": "stream",
          "name": "stderr",
          "text": [
            " 20%|██        | 2/10 [04:16<12:18, 92.33s/it]"
          ]
        },
        {
          "output_type": "stream",
          "name": "stdout",
          "text": [
            "Iteration 2, loss 2.8052163124084473, accuracy 0.0576171875\n"
          ]
        },
        {
          "output_type": "stream",
          "name": "stderr",
          "text": [
            "\r 30%|███       | 3/10 [04:30<10:16, 88.13s/it]"
          ]
        },
        {
          "output_type": "stream",
          "name": "stdout",
          "text": [
            "Iteration  3\n"
          ]
        },
        {
          "output_type": "stream",
          "name": "stderr",
          "text": [
            " 30%|███       | 3/10 [04:40<10:16, 88.13s/it]"
          ]
        },
        {
          "output_type": "stream",
          "name": "stdout",
          "text": [
            "Iteration 3, loss 2.1984939575195312, accuracy 0.1572265625\n"
          ]
        },
        {
          "output_type": "stream",
          "name": "stderr",
          "text": [
            " 30%|███       | 3/10 [04:50<10:16, 88.13s/it]"
          ]
        },
        {
          "output_type": "stream",
          "name": "stdout",
          "text": [
            "Iteration 3, loss 2.2096493244171143, accuracy 0.158203125\n"
          ]
        },
        {
          "output_type": "stream",
          "name": "stderr",
          "text": [
            " 30%|███       | 3/10 [05:00<10:16, 88.13s/it]"
          ]
        },
        {
          "output_type": "stream",
          "name": "stdout",
          "text": [
            "Iteration 3, loss 2.201834201812744, accuracy 0.1357421875\n"
          ]
        },
        {
          "output_type": "stream",
          "name": "stderr",
          "text": [
            " 30%|███       | 3/10 [05:10<10:16, 88.13s/it]"
          ]
        },
        {
          "output_type": "stream",
          "name": "stdout",
          "text": [
            "Iteration 3, loss 2.1129510402679443, accuracy 0.171875\n"
          ]
        },
        {
          "output_type": "stream",
          "name": "stderr",
          "text": [
            " 30%|███       | 3/10 [05:20<10:16, 88.13s/it]"
          ]
        },
        {
          "output_type": "stream",
          "name": "stdout",
          "text": [
            "Iteration 3, loss 2.065094470977783, accuracy 0.142578125\n"
          ]
        },
        {
          "output_type": "stream",
          "name": "stderr",
          "text": [
            " 30%|███       | 3/10 [05:32<10:16, 88.13s/it]"
          ]
        },
        {
          "output_type": "stream",
          "name": "stdout",
          "text": [
            "Iteration 3, loss 2.142866373062134, accuracy 0.1298828125\n"
          ]
        },
        {
          "output_type": "stream",
          "name": "stderr",
          "text": [
            " 30%|███       | 3/10 [05:42<10:16, 88.13s/it]"
          ]
        },
        {
          "output_type": "stream",
          "name": "stdout",
          "text": [
            "Iteration 3, loss 2.23368501663208, accuracy 0.1181640625\n"
          ]
        },
        {
          "output_type": "stream",
          "name": "stderr",
          "text": [
            "\r 40%|████      | 4/10 [05:55<08:42, 87.01s/it]"
          ]
        },
        {
          "output_type": "stream",
          "name": "stdout",
          "text": [
            "Iteration  4\n"
          ]
        },
        {
          "output_type": "stream",
          "name": "stderr",
          "text": [
            " 40%|████      | 4/10 [06:06<08:42, 87.01s/it]"
          ]
        },
        {
          "output_type": "stream",
          "name": "stdout",
          "text": [
            "Iteration 4, loss 2.213921070098877, accuracy 0.1416015625\n"
          ]
        },
        {
          "output_type": "stream",
          "name": "stderr",
          "text": [
            " 40%|████      | 4/10 [06:15<08:42, 87.01s/it]"
          ]
        },
        {
          "output_type": "stream",
          "name": "stdout",
          "text": [
            "Iteration 4, loss 2.113245725631714, accuracy 0.1611328125\n"
          ]
        },
        {
          "output_type": "stream",
          "name": "stderr",
          "text": [
            " 40%|████      | 4/10 [06:25<08:42, 87.01s/it]"
          ]
        },
        {
          "output_type": "stream",
          "name": "stdout",
          "text": [
            "Iteration 4, loss 2.2411975860595703, accuracy 0.140625\n"
          ]
        },
        {
          "output_type": "stream",
          "name": "stderr",
          "text": [
            " 40%|████      | 4/10 [06:36<08:42, 87.01s/it]"
          ]
        },
        {
          "output_type": "stream",
          "name": "stdout",
          "text": [
            "Iteration 4, loss 2.279510974884033, accuracy 0.138671875\n"
          ]
        },
        {
          "output_type": "stream",
          "name": "stderr",
          "text": [
            " 40%|████      | 4/10 [06:46<08:42, 87.01s/it]"
          ]
        },
        {
          "output_type": "stream",
          "name": "stdout",
          "text": [
            "Iteration 4, loss 2.205343246459961, accuracy 0.1435546875\n"
          ]
        },
        {
          "output_type": "stream",
          "name": "stderr",
          "text": [
            " 40%|████      | 4/10 [06:56<08:42, 87.01s/it]"
          ]
        },
        {
          "output_type": "stream",
          "name": "stdout",
          "text": [
            "Iteration 4, loss 2.2385106086730957, accuracy 0.1396484375\n"
          ]
        },
        {
          "output_type": "stream",
          "name": "stderr",
          "text": [
            " 40%|████      | 4/10 [07:05<08:42, 87.01s/it]"
          ]
        },
        {
          "output_type": "stream",
          "name": "stdout",
          "text": [
            "Iteration 4, loss 2.3707942962646484, accuracy 0.134765625\n"
          ]
        },
        {
          "output_type": "stream",
          "name": "stderr",
          "text": [
            "\r 50%|█████     | 5/10 [07:18<07:08, 85.61s/it]"
          ]
        },
        {
          "output_type": "stream",
          "name": "stdout",
          "text": [
            "Iteration  5\n"
          ]
        },
        {
          "output_type": "stream",
          "name": "stderr",
          "text": [
            " 50%|█████     | 5/10 [07:29<07:08, 85.61s/it]"
          ]
        },
        {
          "output_type": "stream",
          "name": "stdout",
          "text": [
            "Iteration 5, loss 2.1921727657318115, accuracy 0.115234375\n"
          ]
        },
        {
          "output_type": "stream",
          "name": "stderr",
          "text": [
            " 50%|█████     | 5/10 [07:39<07:08, 85.61s/it]"
          ]
        },
        {
          "output_type": "stream",
          "name": "stdout",
          "text": [
            "Iteration 5, loss 2.211344003677368, accuracy 0.1103515625\n"
          ]
        },
        {
          "output_type": "stream",
          "name": "stderr",
          "text": [
            " 50%|█████     | 5/10 [07:49<07:08, 85.61s/it]"
          ]
        },
        {
          "output_type": "stream",
          "name": "stdout",
          "text": [
            "Iteration 5, loss 2.2274608612060547, accuracy 0.1240234375\n"
          ]
        },
        {
          "output_type": "stream",
          "name": "stderr",
          "text": [
            " 50%|█████     | 5/10 [07:58<07:08, 85.61s/it]"
          ]
        },
        {
          "output_type": "stream",
          "name": "stdout",
          "text": [
            "Iteration 5, loss 2.286057233810425, accuracy 0.107421875\n"
          ]
        },
        {
          "output_type": "stream",
          "name": "stderr",
          "text": [
            " 50%|█████     | 5/10 [08:08<07:08, 85.61s/it]"
          ]
        },
        {
          "output_type": "stream",
          "name": "stdout",
          "text": [
            "Iteration 5, loss 2.3344569206237793, accuracy 0.1005859375\n"
          ]
        },
        {
          "output_type": "stream",
          "name": "stderr",
          "text": [
            " 50%|█████     | 5/10 [08:18<07:08, 85.61s/it]"
          ]
        },
        {
          "output_type": "stream",
          "name": "stdout",
          "text": [
            "Iteration 5, loss 2.3513309955596924, accuracy 0.0849609375\n"
          ]
        },
        {
          "output_type": "stream",
          "name": "stderr",
          "text": [
            " 50%|█████     | 5/10 [08:28<07:08, 85.61s/it]"
          ]
        },
        {
          "output_type": "stream",
          "name": "stdout",
          "text": [
            "Iteration 5, loss 2.3846497535705566, accuracy 0.0634765625\n"
          ]
        },
        {
          "output_type": "stream",
          "name": "stderr",
          "text": [
            "\r 60%|██████    | 6/10 [08:42<05:39, 84.93s/it]"
          ]
        },
        {
          "output_type": "stream",
          "name": "stdout",
          "text": [
            "Iteration  6\n"
          ]
        },
        {
          "output_type": "stream",
          "name": "stderr",
          "text": [
            " 60%|██████    | 6/10 [08:52<05:39, 84.93s/it]"
          ]
        },
        {
          "output_type": "stream",
          "name": "stdout",
          "text": [
            "Iteration 6, loss 2.2418227195739746, accuracy 0.0966796875\n"
          ]
        },
        {
          "output_type": "stream",
          "name": "stderr",
          "text": [
            " 60%|██████    | 6/10 [09:01<05:39, 84.93s/it]"
          ]
        },
        {
          "output_type": "stream",
          "name": "stdout",
          "text": [
            "Iteration 6, loss 2.1449809074401855, accuracy 0.169921875\n"
          ]
        },
        {
          "output_type": "stream",
          "name": "stderr",
          "text": [
            " 60%|██████    | 6/10 [09:11<05:39, 84.93s/it]"
          ]
        },
        {
          "output_type": "stream",
          "name": "stdout",
          "text": [
            "Iteration 6, loss 2.234755277633667, accuracy 0.095703125\n"
          ]
        },
        {
          "output_type": "stream",
          "name": "stderr",
          "text": [
            " 60%|██████    | 6/10 [09:22<05:39, 84.93s/it]"
          ]
        },
        {
          "output_type": "stream",
          "name": "stdout",
          "text": [
            "Iteration 6, loss 2.3311679363250732, accuracy 0.0791015625\n"
          ]
        },
        {
          "output_type": "stream",
          "name": "stderr",
          "text": [
            " 60%|██████    | 6/10 [09:32<05:39, 84.93s/it]"
          ]
        },
        {
          "output_type": "stream",
          "name": "stdout",
          "text": [
            "Iteration 6, loss 2.4094185829162598, accuracy 0.11328125\n"
          ]
        },
        {
          "output_type": "stream",
          "name": "stderr",
          "text": [
            " 60%|██████    | 6/10 [09:42<05:39, 84.93s/it]"
          ]
        },
        {
          "output_type": "stream",
          "name": "stdout",
          "text": [
            "Iteration 6, loss 2.4561171531677246, accuracy 0.166015625\n"
          ]
        },
        {
          "output_type": "stream",
          "name": "stderr",
          "text": [
            " 60%|██████    | 6/10 [09:52<05:39, 84.93s/it]"
          ]
        },
        {
          "output_type": "stream",
          "name": "stdout",
          "text": [
            "Iteration 6, loss 2.5084753036499023, accuracy 0.1533203125\n"
          ]
        },
        {
          "output_type": "stream",
          "name": "stderr",
          "text": [
            "\r 70%|███████   | 7/10 [10:14<04:22, 87.39s/it]"
          ]
        },
        {
          "output_type": "stream",
          "name": "stdout",
          "text": [
            "Iteration  7\n"
          ]
        },
        {
          "output_type": "stream",
          "name": "stderr",
          "text": [
            " 70%|███████   | 7/10 [10:26<04:22, 87.39s/it]"
          ]
        },
        {
          "output_type": "stream",
          "name": "stdout",
          "text": [
            "Iteration 7, loss 2.2512340545654297, accuracy 0.169921875\n"
          ]
        },
        {
          "output_type": "stream",
          "name": "stderr",
          "text": [
            " 70%|███████   | 7/10 [10:36<04:22, 87.39s/it]"
          ]
        },
        {
          "output_type": "stream",
          "name": "stdout",
          "text": [
            "Iteration 7, loss 2.122661828994751, accuracy 0.1904296875\n"
          ]
        },
        {
          "output_type": "stream",
          "name": "stderr",
          "text": [
            " 70%|███████   | 7/10 [10:46<04:22, 87.39s/it]"
          ]
        },
        {
          "output_type": "stream",
          "name": "stdout",
          "text": [
            "Iteration 7, loss 2.101494312286377, accuracy 0.1865234375\n"
          ]
        },
        {
          "output_type": "stream",
          "name": "stderr",
          "text": [
            " 70%|███████   | 7/10 [10:56<04:22, 87.39s/it]"
          ]
        },
        {
          "output_type": "stream",
          "name": "stdout",
          "text": [
            "Iteration 7, loss 2.187617063522339, accuracy 0.171875\n"
          ]
        },
        {
          "output_type": "stream",
          "name": "stderr",
          "text": [
            " 70%|███████   | 7/10 [11:06<04:22, 87.39s/it]"
          ]
        },
        {
          "output_type": "stream",
          "name": "stdout",
          "text": [
            "Iteration 7, loss 2.2762887477874756, accuracy 0.115234375\n"
          ]
        },
        {
          "output_type": "stream",
          "name": "stderr",
          "text": [
            " 70%|███████   | 7/10 [11:16<04:22, 87.39s/it]"
          ]
        },
        {
          "output_type": "stream",
          "name": "stdout",
          "text": [
            "Iteration 7, loss 2.319890022277832, accuracy 0.1181640625\n"
          ]
        },
        {
          "output_type": "stream",
          "name": "stderr",
          "text": [
            " 70%|███████   | 7/10 [11:25<04:22, 87.39s/it]"
          ]
        },
        {
          "output_type": "stream",
          "name": "stdout",
          "text": [
            "Iteration 7, loss 2.3328769207000732, accuracy 0.138671875\n"
          ]
        },
        {
          "output_type": "stream",
          "name": "stderr",
          "text": [
            "\r 80%|████████  | 8/10 [11:39<02:53, 86.54s/it]"
          ]
        },
        {
          "output_type": "stream",
          "name": "stdout",
          "text": [
            "Iteration  8\n"
          ]
        },
        {
          "output_type": "stream",
          "name": "stderr",
          "text": [
            " 80%|████████  | 8/10 [11:50<02:53, 86.54s/it]"
          ]
        },
        {
          "output_type": "stream",
          "name": "stdout",
          "text": [
            "Iteration 8, loss 2.2201318740844727, accuracy 0.13671875\n"
          ]
        },
        {
          "output_type": "stream",
          "name": "stderr",
          "text": [
            " 80%|████████  | 8/10 [12:00<02:53, 86.54s/it]"
          ]
        },
        {
          "output_type": "stream",
          "name": "stdout",
          "text": [
            "Iteration 8, loss 2.27400541305542, accuracy 0.0791015625\n"
          ]
        },
        {
          "output_type": "stream",
          "name": "stderr",
          "text": [
            " 80%|████████  | 8/10 [12:10<02:53, 86.54s/it]"
          ]
        },
        {
          "output_type": "stream",
          "name": "stdout",
          "text": [
            "Iteration 8, loss 2.299978733062744, accuracy 0.1083984375\n"
          ]
        },
        {
          "output_type": "stream",
          "name": "stderr",
          "text": [
            " 80%|████████  | 8/10 [12:20<02:53, 86.54s/it]"
          ]
        },
        {
          "output_type": "stream",
          "name": "stdout",
          "text": [
            "Iteration 8, loss 2.3256585597991943, accuracy 0.134765625\n"
          ]
        },
        {
          "output_type": "stream",
          "name": "stderr",
          "text": [
            " 80%|████████  | 8/10 [12:30<02:53, 86.54s/it]"
          ]
        },
        {
          "output_type": "stream",
          "name": "stdout",
          "text": [
            "Iteration 8, loss 2.34875226020813, accuracy 0.1416015625\n"
          ]
        },
        {
          "output_type": "stream",
          "name": "stderr",
          "text": [
            " 80%|████████  | 8/10 [12:40<02:53, 86.54s/it]"
          ]
        },
        {
          "output_type": "stream",
          "name": "stdout",
          "text": [
            "Iteration 8, loss 2.299895763397217, accuracy 0.1318359375\n"
          ]
        },
        {
          "output_type": "stream",
          "name": "stderr",
          "text": [
            " 80%|████████  | 8/10 [12:51<02:53, 86.54s/it]"
          ]
        },
        {
          "output_type": "stream",
          "name": "stdout",
          "text": [
            "Iteration 8, loss 2.2877297401428223, accuracy 0.125\n"
          ]
        },
        {
          "output_type": "stream",
          "name": "stderr",
          "text": [
            "\r 90%|█████████ | 9/10 [13:04<01:26, 86.18s/it]"
          ]
        },
        {
          "output_type": "stream",
          "name": "stdout",
          "text": [
            "Iteration  9\n"
          ]
        },
        {
          "output_type": "stream",
          "name": "stderr",
          "text": [
            " 90%|█████████ | 9/10 [13:15<01:26, 86.18s/it]"
          ]
        },
        {
          "output_type": "stream",
          "name": "stdout",
          "text": [
            "Iteration 9, loss 2.224853038787842, accuracy 0.150390625\n"
          ]
        },
        {
          "output_type": "stream",
          "name": "stderr",
          "text": [
            " 90%|█████████ | 9/10 [13:24<01:26, 86.18s/it]"
          ]
        },
        {
          "output_type": "stream",
          "name": "stdout",
          "text": [
            "Iteration 9, loss 2.141108512878418, accuracy 0.1630859375\n"
          ]
        },
        {
          "output_type": "stream",
          "name": "stderr",
          "text": [
            " 90%|█████████ | 9/10 [13:36<01:26, 86.18s/it]"
          ]
        },
        {
          "output_type": "stream",
          "name": "stdout",
          "text": [
            "Iteration 9, loss 2.1350924968719482, accuracy 0.1689453125\n"
          ]
        },
        {
          "output_type": "stream",
          "name": "stderr",
          "text": [
            " 90%|█████████ | 9/10 [13:46<01:26, 86.18s/it]"
          ]
        },
        {
          "output_type": "stream",
          "name": "stdout",
          "text": [
            "Iteration 9, loss 2.0880513191223145, accuracy 0.2001953125\n"
          ]
        },
        {
          "output_type": "stream",
          "name": "stderr",
          "text": [
            " 90%|█████████ | 9/10 [13:57<01:26, 86.18s/it]"
          ]
        },
        {
          "output_type": "stream",
          "name": "stdout",
          "text": [
            "Iteration 9, loss 2.1244096755981445, accuracy 0.1904296875\n"
          ]
        },
        {
          "output_type": "stream",
          "name": "stderr",
          "text": [
            " 90%|█████████ | 9/10 [14:07<01:26, 86.18s/it]"
          ]
        },
        {
          "output_type": "stream",
          "name": "stdout",
          "text": [
            "Iteration 9, loss 2.2447288036346436, accuracy 0.1513671875\n"
          ]
        },
        {
          "output_type": "stream",
          "name": "stderr",
          "text": [
            " 90%|█████████ | 9/10 [14:16<01:26, 86.18s/it]"
          ]
        },
        {
          "output_type": "stream",
          "name": "stdout",
          "text": [
            "Iteration 9, loss 2.365236759185791, accuracy 0.103515625\n"
          ]
        },
        {
          "output_type": "stream",
          "name": "stderr",
          "text": [
            "100%|██████████| 10/10 [14:30<00:00, 87.08s/it]\n"
          ]
        }
      ]
    },
    {
      "cell_type": "code",
      "source": [
        "# prompt: when I calculate avg_params = jnp.mean(jnp.stack(params_list, axis=0), axis=0), use normalized_weights_Per_it[t][node] to give node contrbution\n",
        "\n",
        "avg_params = jnp.mean(jnp.stack(params_list[], axis=0), axis=0)*normalized_weights_Per_it[t][node]\n"
      ],
      "metadata": {
        "id": "6DkbwGStzjHU"
      },
      "execution_count": null,
      "outputs": []
    },
    {
      "cell_type": "code",
      "source": [
        "# prompt: world_train_loss.append(loss_list)         world_test_loss.append(test_loss)         world_train_acc.append(acc_list)         world_test_acc.append(test_acc) save into separate .csv\n",
        "\n",
        "import csv\n",
        "\n",
        "# Write the world_train_loss list to a CSV file\n",
        "with open(f'DQFLworld_train_loss.csv', 'w', newline='') as csvfile:\n",
        "    writer = csv.writer(csvfile)\n",
        "\n",
        "    # Write the header row\n",
        "    writer.writerow(['Iteration', 'Node', 'Loss'])\n",
        "\n",
        "    # Write the data rows\n",
        "    for i in range(len(world_train_loss)):\n",
        "        for j in range(len(world_train_loss[i])):\n",
        "            writer.writerow([i, j, world_train_loss[i][j]])\n",
        "\n",
        "# Write the world_test_loss list to a CSV file\n",
        "with open(f'DQFLworld_test_loss.csv', 'w', newline='') as csvfile:\n",
        "    writer = csv.writer(csvfile)\n",
        "\n",
        "    # Write the header row\n",
        "    writer.writerow(['Iteration', 'Loss'])\n",
        "\n",
        "    # Write the data rows\n",
        "    for i in range(len(world_test_loss)):\n",
        "        writer.writerow([i, world_test_loss[i]])\n",
        "\n",
        "# Write the world_train_acc list to a CSV file\n",
        "with open(f'DQFLworld_train_acc.csv', 'w', newline='') as csvfile:\n",
        "    writer = csv.writer(csvfile)\n",
        "\n",
        "    # Write the header row\n",
        "    writer.writerow(['Iteration', 'Node', 'Accuracy'])\n",
        "\n",
        "    # Write the data rows\n",
        "    for i in range(len(world_train_acc)):\n",
        "        for j in range(len(world_train_acc[i])):\n",
        "            writer.writerow([i, j, world_train_acc[i][j]])\n",
        "\n",
        "# Write the world_test_acc list to a CSV file\n",
        "with open(f'DQFLworld_test_acc.csv', 'w', newline='') as csvfile:\n",
        "    writer = csv.writer(csvfile)\n",
        "\n",
        "    # Write the header row\n",
        "    writer.writerow(['Iteration', 'Accuracy'])\n",
        "\n",
        "    # Write the data rows\n",
        "    for i in range(len(world_test_acc)):\n",
        "        writer.writerow([i, world_test_acc[i]])\n"
      ],
      "metadata": {
        "id": "afomOPLrTZl0"
      },
      "execution_count": null,
      "outputs": []
    },
    {
      "cell_type": "code",
      "source": [
        "#method= \"dunQFL\"\n",
        "method=\"QFL\"\n",
        "\n",
        "#if method== \"dunFL\":\n",
        "key, subkey = jax.random.split(key)\n",
        "params = jax.random.normal(subkey, (3 * k, n))\n",
        "\n",
        "fedlearning(normalized_weights_Per_it,method,params)"
      ],
      "metadata": {
        "id": "pyKMmPqdKtd3",
        "outputId": "9d08c247-0de4-4f0f-8128-277cab46b3e6",
        "colab": {
          "base_uri": "https://localhost:8080/"
        }
      },
      "execution_count": null,
      "outputs": [
        {
          "output_type": "stream",
          "name": "stderr",
          "text": [
            "\r  0%|          | 0/5 [00:00<?, ?it/s]"
          ]
        },
        {
          "output_type": "stream",
          "name": "stdout",
          "text": [
            "Iteration  0\n"
          ]
        },
        {
          "output_type": "stream",
          "name": "stderr",
          "text": [
            "  0%|          | 0/5 [00:00<?, ?it/s]"
          ]
        },
        {
          "output_type": "stream",
          "name": "stdout",
          "text": [
            "world 0, loss 0.41524749994277954, accuracy 0.451171875\n"
          ]
        },
        {
          "output_type": "stream",
          "name": "stderr",
          "text": [
            "  0%|          | 0/5 [00:01<?, ?it/s]"
          ]
        },
        {
          "output_type": "stream",
          "name": "stdout",
          "text": [
            "world 0, loss 0.4123117923736572, accuracy 0.4697265625\n"
          ]
        },
        {
          "output_type": "stream",
          "name": "stderr",
          "text": [
            "\r 20%|██        | 1/5 [00:02<00:09,  2.35s/it]"
          ]
        },
        {
          "output_type": "stream",
          "name": "stdout",
          "text": [
            "Iteration  1\n"
          ]
        },
        {
          "output_type": "stream",
          "name": "stderr",
          "text": [
            " 20%|██        | 1/5 [00:02<00:09,  2.35s/it]"
          ]
        },
        {
          "output_type": "stream",
          "name": "stdout",
          "text": [
            "world 1, loss 0.41524749994277954, accuracy 0.451171875\n"
          ]
        },
        {
          "output_type": "stream",
          "name": "stderr",
          "text": [
            " 20%|██        | 1/5 [00:03<00:09,  2.35s/it]"
          ]
        },
        {
          "output_type": "stream",
          "name": "stdout",
          "text": [
            "world 1, loss 0.4123117923736572, accuracy 0.4697265625\n"
          ]
        },
        {
          "output_type": "stream",
          "name": "stderr",
          "text": [
            "\r 40%|████      | 2/5 [00:03<00:05,  1.87s/it]"
          ]
        },
        {
          "output_type": "stream",
          "name": "stdout",
          "text": [
            "Iteration  2\n"
          ]
        },
        {
          "output_type": "stream",
          "name": "stderr",
          "text": [
            " 40%|████      | 2/5 [00:04<00:05,  1.87s/it]"
          ]
        },
        {
          "output_type": "stream",
          "name": "stdout",
          "text": [
            "world 2, loss 0.41524749994277954, accuracy 0.451171875\n"
          ]
        },
        {
          "output_type": "stream",
          "name": "stderr",
          "text": [
            " 40%|████      | 2/5 [00:04<00:05,  1.87s/it]"
          ]
        },
        {
          "output_type": "stream",
          "name": "stdout",
          "text": [
            "world 2, loss 0.4123117923736572, accuracy 0.4697265625\n"
          ]
        },
        {
          "output_type": "stream",
          "name": "stderr",
          "text": [
            "\r 60%|██████    | 3/5 [00:05<00:03,  1.74s/it]"
          ]
        },
        {
          "output_type": "stream",
          "name": "stdout",
          "text": [
            "Iteration  3\n"
          ]
        },
        {
          "output_type": "stream",
          "name": "stderr",
          "text": [
            " 60%|██████    | 3/5 [00:06<00:03,  1.74s/it]"
          ]
        },
        {
          "output_type": "stream",
          "name": "stdout",
          "text": [
            "world 3, loss 0.41524749994277954, accuracy 0.451171875\n"
          ]
        },
        {
          "output_type": "stream",
          "name": "stderr",
          "text": [
            " 60%|██████    | 3/5 [00:07<00:03,  1.74s/it]"
          ]
        },
        {
          "output_type": "stream",
          "name": "stdout",
          "text": [
            "world 3, loss 0.4123117923736572, accuracy 0.4697265625\n"
          ]
        },
        {
          "output_type": "stream",
          "name": "stderr",
          "text": [
            "\r 80%|████████  | 4/5 [00:08<00:02,  2.12s/it]"
          ]
        },
        {
          "output_type": "stream",
          "name": "stdout",
          "text": [
            "Iteration  4\n"
          ]
        },
        {
          "output_type": "stream",
          "name": "stderr",
          "text": [
            " 80%|████████  | 4/5 [00:08<00:02,  2.12s/it]"
          ]
        },
        {
          "output_type": "stream",
          "name": "stdout",
          "text": [
            "world 4, loss 0.41524749994277954, accuracy 0.451171875\n"
          ]
        },
        {
          "output_type": "stream",
          "name": "stderr",
          "text": [
            " 80%|████████  | 4/5 [00:08<00:02,  2.12s/it]"
          ]
        },
        {
          "output_type": "stream",
          "name": "stdout",
          "text": [
            "world 4, loss 0.4123117923736572, accuracy 0.4697265625\n"
          ]
        },
        {
          "output_type": "stream",
          "name": "stderr",
          "text": [
            "100%|██████████| 5/5 [00:09<00:00,  1.96s/it]\n"
          ]
        },
        {
          "output_type": "stream",
          "name": "stdout",
          "text": [
            "test loss: 0.13743732869625092+-1.4901161193847656e-08, test acc: 0.4697265625+-0.0\n"
          ]
        }
      ]
    },
    {
      "cell_type": "code",
      "source": [
        "# prompt: avg_params = jnp.mean(jnp.stack(params_list, axis=0), axis=0) add weights to calculate mean\n",
        "\n",
        "avg_params = jnp.mean(jnp.stack(params_list, axis=0), axis=0, weights=normalized_weights_node)\n"
      ],
      "metadata": {
        "id": "7oGH3gqJIi5i"
      },
      "execution_count": null,
      "outputs": []
    }
  ]
}